{
 "cells": [
  {
   "cell_type": "markdown",
   "metadata": {},
   "source": [
    "# 1. Définition du Problème et Objectifs"
   ]
  },
  {
   "cell_type": "markdown",
   "metadata": {},
   "source": [
    "## Contexte et Pertinence "
   ]
  },
  {
   "cell_type": "markdown",
   "metadata": {},
   "source": [
    "Dans un contexte mondial où la gestion efficace de l'énergie est devenue une priorité, notre projet vise à analyser la consommation d'énergie par commune en France. L'objectif est de fournir une compréhension des modèles de consommation énergétique, qui est essentielle tant pour orienter les politiques énergétiques, que pour promouvoir la durabilité et optimiser les ressources. Ce projet nous semble pertinent étant donné les défis actuels liés au changement climatique et à la transition énergétique. En examinant les données de consommation énergétique à l'échelle des communes, nous pouvons identifier des tendances spécifiques, des anomalies et des opportunités d'amélioration. Cela permettra aux décideurs, aux entreprises et aux consommateurs de prendre des mesures adaptées au niveau de leur consommation d'énergie. En outre, ce projet contribue à une meilleure compréhension des disparités régionales en matière de consommation d'énergie. Cela permetterait d'avoir une perspective pour des interventions personnalisées.  "
   ]
  },
  {
   "cell_type": "markdown",
   "metadata": {},
   "source": [
    "## Objectifs du Projet"
   ]
  },
  {
   "cell_type": "markdown",
   "metadata": {},
   "source": [
    "Notre projet, qui traite à la fois de sujets environnementaux et sociétaux, se fixe les objectifs suivants :\n",
    "\n",
    "**Cartographie de la Consommation Énergétique :** Notre premier objectif est de dresser une carte de la consommation d'énergie dans les différentes communes françaises. En mettant en lumière ces données, nous souhaitons offrir une vision éclairée de la répartition énergétique sur le territoire.\n",
    "\n",
    "**Identification des Tendances et Anomalies :** Nous cherchons à identifier les tendances et à détecter des anomalies dans les habitudes de consommation énergétique. Cela permettra de comprendre les pratiques énergétiques actuelles, et ainsi identifier les sources d'amélioration.\n",
    "\n",
    "**Prédiction des Tendances Futures :** Nous souhaiterions développer des modèles prédictifs pour anticiper les évolutions futures de la consommation d'énergie. Ces prévisions seront essentielles pour planifier des stratégies énergétiques à long terme.\n",
    "\n",
    "**Contribution à la Durabilité :** En traitant le sujet de la consommation d'énergie, le projet cherche à s'incrire dans le cadre d'initiatives de développement durable. Les insights générés pourraient inspirer des actions pour réduire l'empreinte énergétique.\n",
    "\n",
    "**Support aux Décisions Politiques et Commerciales :** Nous souhaiterions fournir des données et des analyses pour aider les décisions politiques et commerciales en matière de gestion de l'énergie. Cela inclut la recommandation de politiques efficaces et la sensibilisation aux meilleures pratiques en matière de consommation énergétique.\n",
    "\n",
    "**Sensibilisation et Éducation :** Enfin, nous souhaitons utiliser nos résultats pour sensibiliser le public et les décideurs aux enjeux de la consommation d'énergie. L'objectif est de promouvoir une culture de consommation énergétique responsable et informée."
   ]
  },
  {
   "cell_type": "markdown",
   "metadata": {},
   "source": [
    "## Aspects techniques"
   ]
  },
  {
   "cell_type": "markdown",
   "metadata": {},
   "source": [
    "### Packages"
   ]
  },
  {
   "cell_type": "markdown",
   "metadata": {},
   "source": [
    "On installe tout les packages nécessaire au fonctionnement du notebook"
   ]
  },
  {
   "cell_type": "code",
   "execution_count": 1,
   "metadata": {},
   "outputs": [
    {
     "name": "stdout",
     "output_type": "stream",
     "text": [
      "Collecting git+https://github.com/inseefrlab/cartiflette@80b8a5a28371feb6df31d55bcc2617948a5f9b1a\n",
      "  Cloning https://github.com/inseefrlab/cartiflette (to revision 80b8a5a28371feb6df31d55bcc2617948a5f9b1a) to /tmp/pip-req-build-e747l56c\n",
      "  Running command git clone --filter=blob:none --quiet https://github.com/inseefrlab/cartiflette /tmp/pip-req-build-e747l56c\n",
      "  Running command git rev-parse -q --verify 'sha^80b8a5a28371feb6df31d55bcc2617948a5f9b1a'\n",
      "  Running command git fetch -q https://github.com/inseefrlab/cartiflette 80b8a5a28371feb6df31d55bcc2617948a5f9b1a\n",
      "  Running command git checkout -q 80b8a5a28371feb6df31d55bcc2617948a5f9b1a\n",
      "  Resolved https://github.com/inseefrlab/cartiflette to commit 80b8a5a28371feb6df31d55bcc2617948a5f9b1a\n",
      "  Installing build dependencies ... \u001b[?25ldone\n",
      "\u001b[?25h  Getting requirements to build wheel ... \u001b[?25ldone\n",
      "\u001b[?25h  Preparing metadata (pyproject.toml) ... \u001b[?25ldone\n",
      "\u001b[?25hRequirement already satisfied: requests in /opt/mamba/lib/python3.10/site-packages (2.31.0)\n",
      "Collecting lxml\n",
      "  Downloading lxml-5.0.0-cp310-cp310-manylinux_2_28_x86_64.whl.metadata (6.7 kB)\n",
      "Collecting bs4\n",
      "  Downloading bs4-0.0.1.tar.gz (1.1 kB)\n",
      "  Preparing metadata (setup.py) ... \u001b[?25ldone\n",
      "\u001b[?25hRequirement already satisfied: pandas in /opt/mamba/lib/python3.10/site-packages (2.1.4)\n",
      "Requirement already satisfied: seaborn in /opt/mamba/lib/python3.10/site-packages (0.13.0)\n",
      "Requirement already satisfied: numpy in /opt/mamba/lib/python3.10/site-packages (1.26.2)\n",
      "Requirement already satisfied: scipy in /opt/mamba/lib/python3.10/site-packages (1.11.4)\n",
      "Requirement already satisfied: statsmodels in /opt/mamba/lib/python3.10/site-packages (0.14.1)\n",
      "Requirement already satisfied: matplotlib in /opt/mamba/lib/python3.10/site-packages (3.8.2)\n",
      "Requirement already satisfied: scikit-learn in /opt/mamba/lib/python3.10/site-packages (1.3.2)\n",
      "Requirement already satisfied: ipywidgets in /opt/mamba/lib/python3.10/site-packages (8.1.1)\n",
      "Collecting py7zr\n",
      "  Downloading py7zr-0.20.8-py3-none-any.whl.metadata (16 kB)\n",
      "Requirement already satisfied: geopandas in /opt/mamba/lib/python3.10/site-packages (0.14.1)\n",
      "Collecting openpyxl\n",
      "  Downloading openpyxl-3.1.2-py2.py3-none-any.whl (249 kB)\n",
      "\u001b[2K     \u001b[90m━━━━━━━━━━━━━━━━━━━━━━━━━━━━━━━━━━━━━━\u001b[0m \u001b[32m250.0/250.0 kB\u001b[0m \u001b[31m16.0 MB/s\u001b[0m eta \u001b[36m0:00:00\u001b[0m\n",
      "\u001b[?25hRequirement already satisfied: tqdm in /opt/mamba/lib/python3.10/site-packages (4.66.1)\n",
      "Requirement already satisfied: s3fs in /opt/mamba/lib/python3.10/site-packages (0.4.2)\n",
      "Requirement already satisfied: PyYAML in /opt/mamba/lib/python3.10/site-packages (6.0.1)\n",
      "Collecting xlrd\n",
      "  Downloading xlrd-2.0.1-py2.py3-none-any.whl (96 kB)\n",
      "\u001b[2K     \u001b[90m━━━━━━━━━━━━━━━━━━━━━━━━━━━━━━━━━━━━━━━━\u001b[0m \u001b[32m96.5/96.5 kB\u001b[0m \u001b[31m13.6 MB/s\u001b[0m eta \u001b[36m0:00:00\u001b[0m\n",
      "\u001b[?25hRequirement already satisfied: charset-normalizer<4,>=2 in /opt/mamba/lib/python3.10/site-packages (from requests) (3.2.0)\n",
      "Requirement already satisfied: idna<4,>=2.5 in /opt/mamba/lib/python3.10/site-packages (from requests) (3.4)\n",
      "Requirement already satisfied: urllib3<3,>=1.21.1 in /opt/mamba/lib/python3.10/site-packages (from requests) (1.26.18)\n",
      "Requirement already satisfied: certifi>=2017.4.17 in /opt/mamba/lib/python3.10/site-packages (from requests) (2023.11.17)\n",
      "Requirement already satisfied: beautifulsoup4 in /opt/mamba/lib/python3.10/site-packages (from bs4) (4.12.2)\n",
      "Requirement already satisfied: python-dateutil>=2.8.2 in /opt/mamba/lib/python3.10/site-packages (from pandas) (2.8.2)\n",
      "Requirement already satisfied: pytz>=2020.1 in /opt/mamba/lib/python3.10/site-packages (from pandas) (2023.3.post1)\n",
      "Requirement already satisfied: tzdata>=2022.1 in /opt/mamba/lib/python3.10/site-packages (from pandas) (2023.3)\n",
      "Requirement already satisfied: patsy>=0.5.4 in /opt/mamba/lib/python3.10/site-packages (from statsmodels) (0.5.4)\n",
      "Requirement already satisfied: packaging>=21.3 in /opt/mamba/lib/python3.10/site-packages (from statsmodels) (23.1)\n",
      "Requirement already satisfied: contourpy>=1.0.1 in /opt/mamba/lib/python3.10/site-packages (from matplotlib) (1.2.0)\n",
      "Requirement already satisfied: cycler>=0.10 in /opt/mamba/lib/python3.10/site-packages (from matplotlib) (0.12.1)\n",
      "Requirement already satisfied: fonttools>=4.22.0 in /opt/mamba/lib/python3.10/site-packages (from matplotlib) (4.47.0)\n",
      "Requirement already satisfied: kiwisolver>=1.3.1 in /opt/mamba/lib/python3.10/site-packages (from matplotlib) (1.4.5)\n",
      "Requirement already satisfied: pillow>=8 in /opt/mamba/lib/python3.10/site-packages (from matplotlib) (10.1.0)\n",
      "Requirement already satisfied: pyparsing>=2.3.1 in /opt/mamba/lib/python3.10/site-packages (from matplotlib) (3.1.1)\n",
      "Requirement already satisfied: joblib>=1.1.1 in /opt/mamba/lib/python3.10/site-packages (from scikit-learn) (1.3.2)\n",
      "Requirement already satisfied: threadpoolctl>=2.0.0 in /opt/mamba/lib/python3.10/site-packages (from scikit-learn) (3.2.0)\n",
      "Requirement already satisfied: comm>=0.1.3 in /opt/mamba/lib/python3.10/site-packages (from ipywidgets) (0.1.4)\n",
      "Requirement already satisfied: ipython>=6.1.0 in /opt/mamba/lib/python3.10/site-packages (from ipywidgets) (8.19.0)\n",
      "Requirement already satisfied: traitlets>=4.3.1 in /opt/mamba/lib/python3.10/site-packages (from ipywidgets) (5.14.0)\n",
      "Requirement already satisfied: widgetsnbextension~=4.0.9 in /opt/mamba/lib/python3.10/site-packages (from ipywidgets) (4.0.9)\n",
      "Requirement already satisfied: jupyterlab-widgets~=3.0.9 in /opt/mamba/lib/python3.10/site-packages (from ipywidgets) (3.0.9)\n",
      "Collecting texttable (from py7zr)\n",
      "  Downloading texttable-1.7.0-py2.py3-none-any.whl.metadata (9.8 kB)\n",
      "Collecting pycryptodomex>=3.16.0 (from py7zr)\n",
      "  Downloading pycryptodomex-3.19.1-cp35-abi3-manylinux_2_17_x86_64.manylinux2014_x86_64.whl.metadata (3.4 kB)\n",
      "Collecting pyzstd>=0.15.9 (from py7zr)\n",
      "  Downloading pyzstd-0.15.9-cp310-cp310-manylinux_2_17_x86_64.manylinux2014_x86_64.whl.metadata (7.5 kB)\n",
      "Collecting pyppmd<1.2.0,>=1.1.0 (from py7zr)\n",
      "  Downloading pyppmd-1.1.0-cp310-cp310-manylinux_2_17_x86_64.manylinux2014_x86_64.whl.metadata (5.7 kB)\n",
      "Collecting pybcj<1.1.0,>=1.0.0 (from py7zr)\n",
      "  Downloading pybcj-1.0.2-cp310-cp310-manylinux_2_17_x86_64.manylinux2014_x86_64.whl.metadata (4.0 kB)\n",
      "Collecting multivolumefile>=0.2.3 (from py7zr)\n",
      "  Downloading multivolumefile-0.2.3-py3-none-any.whl (17 kB)\n",
      "Collecting inflate64<1.1.0,>=1.0.0 (from py7zr)\n",
      "  Downloading inflate64-1.0.0-cp310-cp310-manylinux_2_17_x86_64.manylinux2014_x86_64.whl.metadata (4.0 kB)\n",
      "Requirement already satisfied: brotli>=1.1.0 in /opt/mamba/lib/python3.10/site-packages (from py7zr) (1.1.0)\n",
      "Requirement already satisfied: psutil in /opt/mamba/lib/python3.10/site-packages (from py7zr) (5.9.7)\n",
      "Requirement already satisfied: fiona>=1.8.21 in /opt/mamba/lib/python3.10/site-packages (from geopandas) (1.9.3)\n",
      "Requirement already satisfied: pyproj>=3.3.0 in /opt/mamba/lib/python3.10/site-packages (from geopandas) (3.6.1)\n",
      "Requirement already satisfied: shapely>=1.8.0 in /opt/mamba/lib/python3.10/site-packages (from geopandas) (2.0.2)\n",
      "Collecting et-xmlfile (from openpyxl)\n",
      "  Downloading et_xmlfile-1.1.0-py3-none-any.whl (4.7 kB)\n",
      "Requirement already satisfied: botocore>=1.12.91 in /opt/mamba/lib/python3.10/site-packages (from s3fs) (1.34.7)\n",
      "Requirement already satisfied: fsspec>=0.6.0 in /opt/mamba/lib/python3.10/site-packages (from s3fs) (2023.12.2)\n",
      "Collecting appdirs<2.0.0,>=1.4.4 (from cartiflette==0.0.1)\n",
      "  Downloading appdirs-1.4.4-py2.py3-none-any.whl (9.6 kB)\n",
      "Collecting geopandas\n",
      "  Downloading geopandas-0.12.2-py3-none-any.whl (1.1 MB)\n",
      "\u001b[2K     \u001b[90m━━━━━━━━━━━━━━━━━━━━━━━━━━━━━━━━━━━━━━━━\u001b[0m \u001b[32m1.1/1.1 MB\u001b[0m \u001b[31m28.5 MB/s\u001b[0m eta \u001b[36m0:00:00\u001b[0m00:01\u001b[0m\n",
      "\u001b[?25hCollecting owslib<0.29.0,>=0.28.1 (from cartiflette==0.0.1)\n",
      "  Downloading OWSLib-0.28.1-py2.py3-none-any.whl (219 kB)\n",
      "\u001b[2K     \u001b[90m━━━━━━━━━━━━━━━━━━━━━━━━━━━━━━━━━━━━━━━\u001b[0m \u001b[32m219.6/219.6 kB\u001b[0m \u001b[31m4.2 MB/s\u001b[0m eta \u001b[36m0:00:00\u001b[0m00:01\u001b[0m\n",
      "\u001b[?25hCollecting s3fs\n",
      "  Downloading s3fs-2023.12.2-py3-none-any.whl.metadata (1.6 kB)\n",
      "Collecting topojson<2.0,>=1.5 (from cartiflette==0.0.1)\n",
      "  Downloading topojson-1.7-py2.py3-none-any.whl.metadata (3.8 kB)\n",
      "Collecting aiobotocore<3.0.0,>=2.5.4 (from s3fs)\n",
      "  Downloading aiobotocore-2.9.0-py3-none-any.whl.metadata (20 kB)\n",
      "Requirement already satisfied: aiohttp!=4.0.0a0,!=4.0.0a1 in /opt/mamba/lib/python3.10/site-packages (from s3fs) (3.9.1)\n",
      "Collecting botocore<1.33.14,>=1.33.2 (from aiobotocore<3.0.0,>=2.5.4->s3fs)\n",
      "  Downloading botocore-1.33.13-py3-none-any.whl.metadata (6.1 kB)\n",
      "Collecting wrapt<2.0.0,>=1.10.10 (from aiobotocore<3.0.0,>=2.5.4->s3fs)\n",
      "  Downloading wrapt-1.16.0-cp310-cp310-manylinux_2_5_x86_64.manylinux1_x86_64.manylinux_2_17_x86_64.manylinux2014_x86_64.whl.metadata (6.6 kB)\n",
      "Collecting aioitertools<1.0.0,>=0.5.1 (from aiobotocore<3.0.0,>=2.5.4->s3fs)\n",
      "  Downloading aioitertools-0.11.0-py3-none-any.whl (23 kB)\n",
      "Requirement already satisfied: attrs>=17.3.0 in /opt/mamba/lib/python3.10/site-packages (from aiohttp!=4.0.0a0,!=4.0.0a1->s3fs) (23.1.0)\n",
      "Requirement already satisfied: multidict<7.0,>=4.5 in /opt/mamba/lib/python3.10/site-packages (from aiohttp!=4.0.0a0,!=4.0.0a1->s3fs) (6.0.4)\n",
      "Requirement already satisfied: yarl<2.0,>=1.0 in /opt/mamba/lib/python3.10/site-packages (from aiohttp!=4.0.0a0,!=4.0.0a1->s3fs) (1.9.3)\n",
      "Requirement already satisfied: frozenlist>=1.1.1 in /opt/mamba/lib/python3.10/site-packages (from aiohttp!=4.0.0a0,!=4.0.0a1->s3fs) (1.4.1)\n",
      "Requirement already satisfied: aiosignal>=1.1.2 in /opt/mamba/lib/python3.10/site-packages (from aiohttp!=4.0.0a0,!=4.0.0a1->s3fs) (1.3.1)\n",
      "Requirement already satisfied: async-timeout<5.0,>=4.0 in /opt/mamba/lib/python3.10/site-packages (from aiohttp!=4.0.0a0,!=4.0.0a1->s3fs) (4.0.3)\n",
      "Requirement already satisfied: click~=8.0 in /opt/mamba/lib/python3.10/site-packages (from fiona>=1.8.21->geopandas) (8.1.7)\n",
      "Requirement already satisfied: click-plugins>=1.0 in /opt/mamba/lib/python3.10/site-packages (from fiona>=1.8.21->geopandas) (1.1.1)\n",
      "Requirement already satisfied: cligj>=0.5 in /opt/mamba/lib/python3.10/site-packages (from fiona>=1.8.21->geopandas) (0.7.2)\n",
      "Requirement already satisfied: munch>=2.3.2 in /opt/mamba/lib/python3.10/site-packages (from fiona>=1.8.21->geopandas) (4.0.0)\n",
      "Requirement already satisfied: decorator in /opt/mamba/lib/python3.10/site-packages (from ipython>=6.1.0->ipywidgets) (5.1.1)\n",
      "Requirement already satisfied: jedi>=0.16 in /opt/mamba/lib/python3.10/site-packages (from ipython>=6.1.0->ipywidgets) (0.19.1)\n",
      "Requirement already satisfied: matplotlib-inline in /opt/mamba/lib/python3.10/site-packages (from ipython>=6.1.0->ipywidgets) (0.1.6)\n",
      "Requirement already satisfied: prompt-toolkit<3.1.0,>=3.0.41 in /opt/mamba/lib/python3.10/site-packages (from ipython>=6.1.0->ipywidgets) (3.0.42)\n",
      "Requirement already satisfied: pygments>=2.4.0 in /opt/mamba/lib/python3.10/site-packages (from ipython>=6.1.0->ipywidgets) (2.17.2)\n",
      "Requirement already satisfied: stack-data in /opt/mamba/lib/python3.10/site-packages (from ipython>=6.1.0->ipywidgets) (0.6.2)\n",
      "Requirement already satisfied: exceptiongroup in /opt/mamba/lib/python3.10/site-packages (from ipython>=6.1.0->ipywidgets) (1.2.0)\n",
      "Requirement already satisfied: pexpect>4.3 in /opt/mamba/lib/python3.10/site-packages (from ipython>=6.1.0->ipywidgets) (4.8.0)\n",
      "Requirement already satisfied: six in /opt/mamba/lib/python3.10/site-packages (from patsy>=0.5.4->statsmodels) (1.16.0)\n",
      "Requirement already satisfied: soupsieve>1.2 in /opt/mamba/lib/python3.10/site-packages (from beautifulsoup4->bs4) (2.5)\n",
      "Requirement already satisfied: jmespath<2.0.0,>=0.7.1 in /opt/mamba/lib/python3.10/site-packages (from botocore<1.33.14,>=1.33.2->aiobotocore<3.0.0,>=2.5.4->s3fs) (1.0.1)\n",
      "Requirement already satisfied: parso<0.9.0,>=0.8.3 in /opt/mamba/lib/python3.10/site-packages (from jedi>=0.16->ipython>=6.1.0->ipywidgets) (0.8.3)\n",
      "Requirement already satisfied: ptyprocess>=0.5 in /opt/mamba/lib/python3.10/site-packages (from pexpect>4.3->ipython>=6.1.0->ipywidgets) (0.7.0)\n",
      "Requirement already satisfied: wcwidth in /opt/mamba/lib/python3.10/site-packages (from prompt-toolkit<3.1.0,>=3.0.41->ipython>=6.1.0->ipywidgets) (0.2.12)\n",
      "Requirement already satisfied: executing>=1.2.0 in /opt/mamba/lib/python3.10/site-packages (from stack-data->ipython>=6.1.0->ipywidgets) (2.0.1)\n",
      "Requirement already satisfied: asttokens>=2.1.0 in /opt/mamba/lib/python3.10/site-packages (from stack-data->ipython>=6.1.0->ipywidgets) (2.4.1)\n",
      "Requirement already satisfied: pure-eval in /opt/mamba/lib/python3.10/site-packages (from stack-data->ipython>=6.1.0->ipywidgets) (0.2.2)\n",
      "Downloading lxml-5.0.0-cp310-cp310-manylinux_2_28_x86_64.whl (8.0 MB)\n",
      "\u001b[2K   \u001b[90m━━━━━━━━━━━━━━━━━━━━━━━━━━━━━━━━━━━━━━━━\u001b[0m \u001b[32m8.0/8.0 MB\u001b[0m \u001b[31m53.2 MB/s\u001b[0m eta \u001b[36m0:00:00\u001b[0m00:01\u001b[0m00:01\u001b[0m\n",
      "\u001b[?25hDownloading py7zr-0.20.8-py3-none-any.whl (67 kB)\n",
      "\u001b[2K   \u001b[90m━━━━━━━━━━━━━━━━━━━━━━━━━━━━━━━━━━━━━━━━\u001b[0m \u001b[32m67.0/67.0 kB\u001b[0m \u001b[31m9.1 MB/s\u001b[0m eta \u001b[36m0:00:00\u001b[0m\n",
      "\u001b[?25hDownloading s3fs-2023.12.2-py3-none-any.whl (28 kB)\n",
      "Downloading aiobotocore-2.9.0-py3-none-any.whl (75 kB)\n",
      "\u001b[2K   \u001b[90m━━━━━━━━━━━━━━━━━━━━━━━━━━━━━━━━━━━━━━━━\u001b[0m \u001b[32m76.0/76.0 kB\u001b[0m \u001b[31m14.0 MB/s\u001b[0m eta \u001b[36m0:00:00\u001b[0m\n",
      "\u001b[?25hDownloading inflate64-1.0.0-cp310-cp310-manylinux_2_17_x86_64.manylinux2014_x86_64.whl (93 kB)\n",
      "\u001b[2K   \u001b[90m━━━━━━━━━━━━━━━━━━━━━━━━━━━━━━━━━━━━━━━━\u001b[0m \u001b[32m93.1/93.1 kB\u001b[0m \u001b[31m10.8 MB/s\u001b[0m eta \u001b[36m0:00:00\u001b[0m\n",
      "\u001b[?25hDownloading pybcj-1.0.2-cp310-cp310-manylinux_2_17_x86_64.manylinux2014_x86_64.whl (49 kB)\n",
      "\u001b[2K   \u001b[90m━━━━━━━━━━━━━━━━━━━━━━━━━━━━━━━━━━━━━━━━\u001b[0m \u001b[32m49.7/49.7 kB\u001b[0m \u001b[31m11.9 MB/s\u001b[0m eta \u001b[36m0:00:00\u001b[0m\n",
      "\u001b[?25hDownloading pycryptodomex-3.19.1-cp35-abi3-manylinux_2_17_x86_64.manylinux2014_x86_64.whl (2.1 MB)\n",
      "\u001b[2K   \u001b[90m━━━━━━━━━━━━━━━━━━━━━━━━━━━━━━━━━━━━━━━━\u001b[0m \u001b[32m2.1/2.1 MB\u001b[0m \u001b[31m45.3 MB/s\u001b[0m eta \u001b[36m0:00:00\u001b[0m00:01\u001b[0m\n",
      "\u001b[?25hDownloading pyppmd-1.1.0-cp310-cp310-manylinux_2_17_x86_64.manylinux2014_x86_64.whl (138 kB)\n",
      "\u001b[2K   \u001b[90m━━━━━━━━━━━━━━━━━━━━━━━━━━━━━━━━━━━━━━━━\u001b[0m \u001b[32m138.9/138.9 kB\u001b[0m \u001b[31m23.2 MB/s\u001b[0m eta \u001b[36m0:00:00\u001b[0m\n",
      "\u001b[?25hDownloading pyzstd-0.15.9-cp310-cp310-manylinux_2_17_x86_64.manylinux2014_x86_64.whl (412 kB)\n",
      "\u001b[2K   \u001b[90m━━━━━━━━━━━━━━━━━━━━━━━━━━━━━━━━━━━━━━━━\u001b[0m \u001b[32m412.3/412.3 kB\u001b[0m \u001b[31m37.2 MB/s\u001b[0m eta \u001b[36m0:00:00\u001b[0m\n",
      "\u001b[?25hDownloading topojson-1.7-py2.py3-none-any.whl (82 kB)\n",
      "\u001b[2K   \u001b[90m━━━━━━━━━━━━━━━━━━━━━━━━━━━━━━━━━━━━━━━━\u001b[0m \u001b[32m82.1/82.1 kB\u001b[0m \u001b[31m10.2 MB/s\u001b[0m eta \u001b[36m0:00:00\u001b[0m\n",
      "\u001b[?25hDownloading texttable-1.7.0-py2.py3-none-any.whl (10 kB)\n",
      "Downloading botocore-1.33.13-py3-none-any.whl (11.8 MB)\n",
      "\u001b[2K   \u001b[90m━━━━━━━━━━━━━━━━━━━━━━━━━━━━━━━━━━━━━━━━\u001b[0m \u001b[32m11.8/11.8 MB\u001b[0m \u001b[31m41.5 MB/s\u001b[0m eta \u001b[36m0:00:00\u001b[0m00:01\u001b[0m00:01\u001b[0m\n",
      "\u001b[?25hDownloading wrapt-1.16.0-cp310-cp310-manylinux_2_5_x86_64.manylinux1_x86_64.manylinux_2_17_x86_64.manylinux2014_x86_64.whl (80 kB)\n",
      "\u001b[2K   \u001b[90m━━━━━━━━━━━━━━━━━━━━━━━━━━━━━━━━━━━━━━━━\u001b[0m \u001b[32m80.3/80.3 kB\u001b[0m \u001b[31m12.6 MB/s\u001b[0m eta \u001b[36m0:00:00\u001b[0m\n",
      "\u001b[?25hBuilding wheels for collected packages: bs4, cartiflette\n",
      "  Building wheel for bs4 (setup.py) ... \u001b[?25ldone\n",
      "\u001b[?25h  Created wheel for bs4: filename=bs4-0.0.1-py3-none-any.whl size=1256 sha256=bd48dfd896a7896e99f737dc53f67538707bf9f2d04f8973c852f3a55e59c57b\n",
      "  Stored in directory: /home/onyxia/.cache/pip/wheels/25/42/45/b773edc52acb16cd2db4cf1a0b47117e2f69bb4eb300ed0e70\n",
      "  Building wheel for cartiflette (pyproject.toml) ... \u001b[?25ldone\n",
      "\u001b[?25h  Created wheel for cartiflette: filename=cartiflette-0.0.1-py3-none-any.whl size=33970 sha256=485fd682c2b6cbea8426492e8f3110d9305a95b0327185b9b236b9bd12cbd10c\n",
      "  Stored in directory: /home/onyxia/.cache/pip/wheels/d8/e2/0f/69d93504f90599fad135cc8d8c9cdc5c2d26eaacfafd18c305\n",
      "Successfully built bs4 cartiflette\n",
      "Installing collected packages: texttable, appdirs, xlrd, wrapt, pyzstd, pyppmd, pycryptodomex, pybcj, multivolumefile, lxml, inflate64, et-xmlfile, aioitertools, topojson, py7zr, owslib, openpyxl, bs4, botocore, geopandas, aiobotocore, s3fs, cartiflette\n",
      "  Attempting uninstall: botocore\n",
      "    Found existing installation: botocore 1.34.7\n",
      "    Uninstalling botocore-1.34.7:\n",
      "      Successfully uninstalled botocore-1.34.7\n",
      "  Attempting uninstall: geopandas\n",
      "    Found existing installation: geopandas 0.14.1\n",
      "    Uninstalling geopandas-0.14.1:\n",
      "      Successfully uninstalled geopandas-0.14.1\n",
      "  Attempting uninstall: s3fs\n",
      "    Found existing installation: s3fs 0.4.2\n",
      "    Uninstalling s3fs-0.4.2:\n",
      "      Successfully uninstalled s3fs-0.4.2\n",
      "\u001b[31mERROR: pip's dependency resolver does not currently take into account all the packages that are installed. This behaviour is the source of the following dependency conflicts.\n",
      "boto3 1.34.7 requires botocore<1.35.0,>=1.34.7, but you have botocore 1.33.13 which is incompatible.\u001b[0m\u001b[31m\n",
      "\u001b[0mSuccessfully installed aiobotocore-2.9.0 aioitertools-0.11.0 appdirs-1.4.4 botocore-1.33.13 bs4-0.0.1 cartiflette-0.0.1 et-xmlfile-1.1.0 geopandas-0.12.2 inflate64-1.0.0 lxml-5.0.0 multivolumefile-0.2.3 openpyxl-3.1.2 owslib-0.28.1 py7zr-0.20.8 pybcj-1.0.2 pycryptodomex-3.19.1 pyppmd-1.1.0 pyzstd-0.15.9 s3fs-2023.12.2 texttable-1.7.0 topojson-1.7 wrapt-1.16.0 xlrd-2.0.1\n",
      "Note: you may need to restart the kernel to use updated packages.\n"
     ]
    }
   ],
   "source": [
    "%pip install requests lxml bs4 pandas seaborn numpy scipy statsmodels matplotlib scikit-learn ipywidgets py7zr geopandas openpyxl tqdm s3fs PyYAML xlrd git+https://github.com/inseefrlab/cartiflette@80b8a5a28371feb6df31d55bcc2617948a5f9b1a"
   ]
  },
  {
   "cell_type": "code",
   "execution_count": 2,
   "metadata": {},
   "outputs": [],
   "source": [
    "# Standard Libraries\n",
    "import re\n",
    "import urllib.request\n",
    "from urllib import request\n",
    "\n",
    "# Third-party Libraries\n",
    "import gc\n",
    "import requests\n",
    "import pandas as pd\n",
    "import numpy as np\n",
    "import statsmodels.api as sm\n",
    "import seaborn as sns\n",
    "import matplotlib.pyplot as plt\n",
    "from bs4 import BeautifulSoup\n",
    "import geopandas as gpd\n",
    "from shapely.geometry import shape\n",
    "import cartiflette.s3 as s3\n",
    "import ipywidgets as widgets\n",
    "import warnings\n",
    "from sklearn import (model_selection, linear_model, ensemble, svm, tree, neural_network, preprocessing, metrics)\n",
    "from scipy.stats import shapiro, bartlett, anderson\n",
    "from statsmodels.stats.stattools import durbin_watson\n",
    "from mpl_toolkits.axes_grid1 import make_axes_locatable\n",
    "from matplotlib.colors import TwoSlopeNorm\n",
    "from matplotlib.ticker import MultipleLocator, AutoMinorLocator\n",
    "import matplotlib.ticker as ticker \n",
    "from sklearn.preprocessing import StandardScaler\n",
    "from sklearn.model_selection import train_test_split\n",
    "from sklearn.metrics import mean_squared_error\n",
    "from sklearn.metrics import r2_score\n",
    "import statsmodels.api as sm\n",
    "\n",
    "from sklearn.linear_model import LinearRegression, Ridge, Lasso\n",
    "from sklearn.ensemble import RandomForestRegressor, GradientBoostingRegressor\n",
    "from sklearn.svm import SVR\n",
    "from sklearn.tree import DecisionTreeRegressor\n",
    "from sklearn.neural_network import MLPRegressor\n",
    "from itertools import combinations\n",
    "\n",
    "# Specific functions or classes\n",
    "from IPython.display import display, Latex, HTML\n",
    "\n",
    "# Désactiver les avertissements SettingWithCopyWarning\n",
    "pd.options.mode.chained_assignment = None"
   ]
  },
  {
   "cell_type": "markdown",
   "metadata": {},
   "source": [
    "# 2. Collecte, nettoyage et préparation des données (Communes)"
   ]
  },
  {
   "cell_type": "markdown",
   "metadata": {},
   "source": [
    "## Récupération"
   ]
  },
  {
   "cell_type": "markdown",
   "metadata": {},
   "source": [
    "### Bases de données pre-existantes"
   ]
  },
  {
   "cell_type": "markdown",
   "metadata": {},
   "source": [
    "Nous avons extrait des données cruciales pour notre projet à partir de deux sources de confiance : le site data.gouv, une référence en données publiques, et l'Observatoire des Territoires, spécialisé dans la géographie et l'aménagement. Cette approche éthique et légale garantit la qualité de nos analyses en nous fournissant une base solide et diversifiée. La collaboration avec ces plateformes renforce la fiabilité de nos résultats, consolidant ainsi notre projet."
   ]
  },
  {
   "cell_type": "markdown",
   "metadata": {},
   "source": [
    "* #### Consommation totale d'énergie par commune"
   ]
  },
  {
   "cell_type": "code",
   "execution_count": 3,
   "metadata": {},
   "outputs": [
    {
     "data": {
      "text/html": [
       "<div>\n",
       "<style scoped>\n",
       "    .dataframe tbody tr th:only-of-type {\n",
       "        vertical-align: middle;\n",
       "    }\n",
       "\n",
       "    .dataframe tbody tr th {\n",
       "        vertical-align: top;\n",
       "    }\n",
       "\n",
       "    .dataframe thead th {\n",
       "        text-align: right;\n",
       "    }\n",
       "</style>\n",
       "<table border=\"1\" class=\"dataframe\">\n",
       "  <thead>\n",
       "    <tr style=\"text-align: right;\">\n",
       "      <th></th>\n",
       "      <th>operateur</th>\n",
       "      <th>annee</th>\n",
       "      <th>filiere</th>\n",
       "      <th>consoa</th>\n",
       "      <th>pdla</th>\n",
       "      <th>nombre_maille_secretisees_a</th>\n",
       "      <th>indquala</th>\n",
       "      <th>consoi</th>\n",
       "      <th>pdli</th>\n",
       "      <th>nombre_maille_secretisees_i</th>\n",
       "      <th>...</th>\n",
       "      <th>libelle_commune</th>\n",
       "      <th>code_epci</th>\n",
       "      <th>libelle_epci</th>\n",
       "      <th>code_departement</th>\n",
       "      <th>libelle_departement</th>\n",
       "      <th>code_region</th>\n",
       "      <th>libelle_region</th>\n",
       "      <th>id_filiere</th>\n",
       "      <th>consototale</th>\n",
       "      <th>code_postal</th>\n",
       "    </tr>\n",
       "  </thead>\n",
       "  <tbody>\n",
       "    <tr>\n",
       "      <th>0</th>\n",
       "      <td>Enedis</td>\n",
       "      <td>2018</td>\n",
       "      <td>Electricité</td>\n",
       "      <td>0.000000</td>\n",
       "      <td>0</td>\n",
       "      <td>1</td>\n",
       "      <td>0.000</td>\n",
       "      <td>0.00</td>\n",
       "      <td>0</td>\n",
       "      <td>0</td>\n",
       "      <td>...</td>\n",
       "      <td>Bourg-de-Bigorre</td>\n",
       "      <td>200070787</td>\n",
       "      <td>CC du Plateau de Lannemezan</td>\n",
       "      <td>65</td>\n",
       "      <td>Hautes-Pyrénées</td>\n",
       "      <td>76</td>\n",
       "      <td>Occitanie</td>\n",
       "      <td>100</td>\n",
       "      <td>624.662249</td>\n",
       "      <td>65130</td>\n",
       "    </tr>\n",
       "    <tr>\n",
       "      <th>1</th>\n",
       "      <td>Enedis</td>\n",
       "      <td>2018</td>\n",
       "      <td>Electricité</td>\n",
       "      <td>0.000000</td>\n",
       "      <td>0</td>\n",
       "      <td>1</td>\n",
       "      <td>0.000</td>\n",
       "      <td>0.00</td>\n",
       "      <td>0</td>\n",
       "      <td>0</td>\n",
       "      <td>...</td>\n",
       "      <td>Bourréac</td>\n",
       "      <td>200069300</td>\n",
       "      <td>CA Tarbes-Lourdes-Pyrénées</td>\n",
       "      <td>65</td>\n",
       "      <td>Hautes-Pyrénées</td>\n",
       "      <td>76</td>\n",
       "      <td>Occitanie</td>\n",
       "      <td>100</td>\n",
       "      <td>375.938097</td>\n",
       "      <td>65100</td>\n",
       "    </tr>\n",
       "    <tr>\n",
       "      <th>2</th>\n",
       "      <td>Enedis</td>\n",
       "      <td>2018</td>\n",
       "      <td>Electricité</td>\n",
       "      <td>0.000000</td>\n",
       "      <td>0</td>\n",
       "      <td>1</td>\n",
       "      <td>0.000</td>\n",
       "      <td>0.00</td>\n",
       "      <td>0</td>\n",
       "      <td>0</td>\n",
       "      <td>...</td>\n",
       "      <td>Bramevaque</td>\n",
       "      <td>200070829</td>\n",
       "      <td>CC Neste Barousse</td>\n",
       "      <td>65</td>\n",
       "      <td>Hautes-Pyrénées</td>\n",
       "      <td>76</td>\n",
       "      <td>Occitanie</td>\n",
       "      <td>100</td>\n",
       "      <td>96.270722</td>\n",
       "      <td>65370</td>\n",
       "    </tr>\n",
       "    <tr>\n",
       "      <th>3</th>\n",
       "      <td>Enedis</td>\n",
       "      <td>2018</td>\n",
       "      <td>Electricité</td>\n",
       "      <td>0.000000</td>\n",
       "      <td>0</td>\n",
       "      <td>1</td>\n",
       "      <td>0.000</td>\n",
       "      <td>0.00</td>\n",
       "      <td>0</td>\n",
       "      <td>1</td>\n",
       "      <td>...</td>\n",
       "      <td>Bulan</td>\n",
       "      <td>200070787</td>\n",
       "      <td>CC du Plateau de Lannemezan</td>\n",
       "      <td>65</td>\n",
       "      <td>Hautes-Pyrénées</td>\n",
       "      <td>76</td>\n",
       "      <td>Occitanie</td>\n",
       "      <td>100</td>\n",
       "      <td>193.383966</td>\n",
       "      <td>65130</td>\n",
       "    </tr>\n",
       "    <tr>\n",
       "      <th>4</th>\n",
       "      <td>Enedis</td>\n",
       "      <td>2018</td>\n",
       "      <td>Electricité</td>\n",
       "      <td>224.379373</td>\n",
       "      <td>12</td>\n",
       "      <td>0</td>\n",
       "      <td>0.463</td>\n",
       "      <td>0.00</td>\n",
       "      <td>0</td>\n",
       "      <td>0</td>\n",
       "      <td>...</td>\n",
       "      <td>Buzon</td>\n",
       "      <td>200072106</td>\n",
       "      <td>CC Adour Madiran</td>\n",
       "      <td>65</td>\n",
       "      <td>Hautes-Pyrénées</td>\n",
       "      <td>76</td>\n",
       "      <td>Occitanie</td>\n",
       "      <td>100</td>\n",
       "      <td>476.316740</td>\n",
       "      <td>65140</td>\n",
       "    </tr>\n",
       "    <tr>\n",
       "      <th>...</th>\n",
       "      <td>...</td>\n",
       "      <td>...</td>\n",
       "      <td>...</td>\n",
       "      <td>...</td>\n",
       "      <td>...</td>\n",
       "      <td>...</td>\n",
       "      <td>...</td>\n",
       "      <td>...</td>\n",
       "      <td>...</td>\n",
       "      <td>...</td>\n",
       "      <td>...</td>\n",
       "      <td>...</td>\n",
       "      <td>...</td>\n",
       "      <td>...</td>\n",
       "      <td>...</td>\n",
       "      <td>...</td>\n",
       "      <td>...</td>\n",
       "      <td>...</td>\n",
       "      <td>...</td>\n",
       "      <td>...</td>\n",
       "      <td>...</td>\n",
       "    </tr>\n",
       "    <tr>\n",
       "      <th>501560</th>\n",
       "      <td>Enedis</td>\n",
       "      <td>2012</td>\n",
       "      <td>Electricité</td>\n",
       "      <td>0.000000</td>\n",
       "      <td>0</td>\n",
       "      <td>0</td>\n",
       "      <td>0.000</td>\n",
       "      <td>135.46</td>\n",
       "      <td>1</td>\n",
       "      <td>0</td>\n",
       "      <td>...</td>\n",
       "      <td>Saint-Ulphace</td>\n",
       "      <td>247200686</td>\n",
       "      <td>CC du Pays de l'Huisne Sarthoise</td>\n",
       "      <td>72</td>\n",
       "      <td>Sarthe</td>\n",
       "      <td>52</td>\n",
       "      <td>Pays de la Loire</td>\n",
       "      <td>100</td>\n",
       "      <td>1284.060000</td>\n",
       "      <td>72320</td>\n",
       "    </tr>\n",
       "    <tr>\n",
       "      <th>501561</th>\n",
       "      <td>Enedis</td>\n",
       "      <td>2012</td>\n",
       "      <td>Electricité</td>\n",
       "      <td>0.000000</td>\n",
       "      <td>0</td>\n",
       "      <td>0</td>\n",
       "      <td>0.000</td>\n",
       "      <td>387.38</td>\n",
       "      <td>1</td>\n",
       "      <td>0</td>\n",
       "      <td>...</td>\n",
       "      <td>Saint-Vincent-du-Lorouër</td>\n",
       "      <td>200070373</td>\n",
       "      <td>CC Loir-Lucé-Bercé</td>\n",
       "      <td>72</td>\n",
       "      <td>Sarthe</td>\n",
       "      <td>52</td>\n",
       "      <td>Pays de la Loire</td>\n",
       "      <td>100</td>\n",
       "      <td>4203.720000</td>\n",
       "      <td>72150</td>\n",
       "    </tr>\n",
       "    <tr>\n",
       "      <th>501562</th>\n",
       "      <td>Enedis</td>\n",
       "      <td>2012</td>\n",
       "      <td>Electricité</td>\n",
       "      <td>238.200000</td>\n",
       "      <td>6</td>\n",
       "      <td>0</td>\n",
       "      <td>0.989</td>\n",
       "      <td>29.49</td>\n",
       "      <td>1</td>\n",
       "      <td>0</td>\n",
       "      <td>...</td>\n",
       "      <td>Savigné-sous-le-Lude</td>\n",
       "      <td>200073112</td>\n",
       "      <td>CC Sud Sarthe</td>\n",
       "      <td>72</td>\n",
       "      <td>Sarthe</td>\n",
       "      <td>52</td>\n",
       "      <td>Pays de la Loire</td>\n",
       "      <td>100</td>\n",
       "      <td>2093.960000</td>\n",
       "      <td>72800</td>\n",
       "    </tr>\n",
       "    <tr>\n",
       "      <th>501563</th>\n",
       "      <td>Enedis</td>\n",
       "      <td>2012</td>\n",
       "      <td>Electricité</td>\n",
       "      <td>0.000000</td>\n",
       "      <td>0</td>\n",
       "      <td>0</td>\n",
       "      <td>0.000</td>\n",
       "      <td>19659.51</td>\n",
       "      <td>7</td>\n",
       "      <td>0</td>\n",
       "      <td>...</td>\n",
       "      <td>Solesmes</td>\n",
       "      <td>247200090</td>\n",
       "      <td>CC de Sablé-sur-Sarthe</td>\n",
       "      <td>72</td>\n",
       "      <td>Sarthe</td>\n",
       "      <td>52</td>\n",
       "      <td>Pays de la Loire</td>\n",
       "      <td>100</td>\n",
       "      <td>33036.560000</td>\n",
       "      <td>72300</td>\n",
       "    </tr>\n",
       "    <tr>\n",
       "      <th>501564</th>\n",
       "      <td>Enedis</td>\n",
       "      <td>2012</td>\n",
       "      <td>Electricité</td>\n",
       "      <td>36.030000</td>\n",
       "      <td>1</td>\n",
       "      <td>0</td>\n",
       "      <td>1.000</td>\n",
       "      <td>0.00</td>\n",
       "      <td>0</td>\n",
       "      <td>0</td>\n",
       "      <td>...</td>\n",
       "      <td>Souillé</td>\n",
       "      <td>200068963</td>\n",
       "      <td>CC Maine Cœur de Sarthe</td>\n",
       "      <td>72</td>\n",
       "      <td>Sarthe</td>\n",
       "      <td>52</td>\n",
       "      <td>Pays de la Loire</td>\n",
       "      <td>100</td>\n",
       "      <td>2479.620000</td>\n",
       "      <td>72380</td>\n",
       "    </tr>\n",
       "  </tbody>\n",
       "</table>\n",
       "<p>501565 rows × 36 columns</p>\n",
       "</div>"
      ],
      "text/plain": [
       "       operateur  annee      filiere      consoa  pdla  \\\n",
       "0         Enedis   2018  Electricité    0.000000     0   \n",
       "1         Enedis   2018  Electricité    0.000000     0   \n",
       "2         Enedis   2018  Electricité    0.000000     0   \n",
       "3         Enedis   2018  Electricité    0.000000     0   \n",
       "4         Enedis   2018  Electricité  224.379373    12   \n",
       "...          ...    ...          ...         ...   ...   \n",
       "501560    Enedis   2012  Electricité    0.000000     0   \n",
       "501561    Enedis   2012  Electricité    0.000000     0   \n",
       "501562    Enedis   2012  Electricité  238.200000     6   \n",
       "501563    Enedis   2012  Electricité    0.000000     0   \n",
       "501564    Enedis   2012  Electricité   36.030000     1   \n",
       "\n",
       "        nombre_maille_secretisees_a  indquala    consoi  pdli  \\\n",
       "0                                 1     0.000      0.00     0   \n",
       "1                                 1     0.000      0.00     0   \n",
       "2                                 1     0.000      0.00     0   \n",
       "3                                 1     0.000      0.00     0   \n",
       "4                                 0     0.463      0.00     0   \n",
       "...                             ...       ...       ...   ...   \n",
       "501560                            0     0.000    135.46     1   \n",
       "501561                            0     0.000    387.38     1   \n",
       "501562                            0     0.989     29.49     1   \n",
       "501563                            0     0.000  19659.51     7   \n",
       "501564                            0     1.000      0.00     0   \n",
       "\n",
       "        nombre_maille_secretisees_i  ...           libelle_commune  code_epci  \\\n",
       "0                                 0  ...          Bourg-de-Bigorre  200070787   \n",
       "1                                 0  ...                  Bourréac  200069300   \n",
       "2                                 0  ...                Bramevaque  200070829   \n",
       "3                                 1  ...                     Bulan  200070787   \n",
       "4                                 0  ...                     Buzon  200072106   \n",
       "...                             ...  ...                       ...        ...   \n",
       "501560                            0  ...             Saint-Ulphace  247200686   \n",
       "501561                            0  ...  Saint-Vincent-du-Lorouër  200070373   \n",
       "501562                            0  ...      Savigné-sous-le-Lude  200073112   \n",
       "501563                            0  ...                  Solesmes  247200090   \n",
       "501564                            0  ...                   Souillé  200068963   \n",
       "\n",
       "                            libelle_epci  code_departement  \\\n",
       "0            CC du Plateau de Lannemezan                65   \n",
       "1             CA Tarbes-Lourdes-Pyrénées                65   \n",
       "2                      CC Neste Barousse                65   \n",
       "3            CC du Plateau de Lannemezan                65   \n",
       "4                       CC Adour Madiran                65   \n",
       "...                                  ...               ...   \n",
       "501560  CC du Pays de l'Huisne Sarthoise                72   \n",
       "501561                CC Loir-Lucé-Bercé                72   \n",
       "501562                     CC Sud Sarthe                72   \n",
       "501563            CC de Sablé-sur-Sarthe                72   \n",
       "501564           CC Maine Cœur de Sarthe                72   \n",
       "\n",
       "        libelle_departement  code_region    libelle_region  id_filiere  \\\n",
       "0           Hautes-Pyrénées           76         Occitanie         100   \n",
       "1           Hautes-Pyrénées           76         Occitanie         100   \n",
       "2           Hautes-Pyrénées           76         Occitanie         100   \n",
       "3           Hautes-Pyrénées           76         Occitanie         100   \n",
       "4           Hautes-Pyrénées           76         Occitanie         100   \n",
       "...                     ...          ...               ...         ...   \n",
       "501560               Sarthe           52  Pays de la Loire         100   \n",
       "501561               Sarthe           52  Pays de la Loire         100   \n",
       "501562               Sarthe           52  Pays de la Loire         100   \n",
       "501563               Sarthe           52  Pays de la Loire         100   \n",
       "501564               Sarthe           52  Pays de la Loire         100   \n",
       "\n",
       "         consototale  code_postal  \n",
       "0         624.662249        65130  \n",
       "1         375.938097        65100  \n",
       "2          96.270722        65370  \n",
       "3         193.383966        65130  \n",
       "4         476.316740        65140  \n",
       "...              ...          ...  \n",
       "501560   1284.060000        72320  \n",
       "501561   4203.720000        72150  \n",
       "501562   2093.960000        72800  \n",
       "501563  33036.560000        72300  \n",
       "501564   2479.620000        72380  \n",
       "\n",
       "[501565 rows x 36 columns]"
      ]
     },
     "execution_count": 3,
     "metadata": {},
     "output_type": "execute_result"
    }
   ],
   "source": [
    "# Ignorer les avertissements pour une sortie propre\n",
    "warnings.filterwarnings('ignore')\n",
    "\n",
    "url = \"https://www.data.gouv.fr/fr/datasets/r/8f4d90b3-0fdc-42ec-97ce-e5992b4200a6\"\n",
    "\n",
    "# Charger les données dans un dataframe\n",
    "table_conso_com = pd.read_csv(url, delimiter=\";\")\n",
    "table_conso_com"
   ]
  },
  {
   "cell_type": "markdown",
   "metadata": {},
   "source": [
    "Nous avons obtenu les données de l'Observatoire des Territoires en téléchargeant manuellement la table depuis leur site web. En raison de la complexité pour effectuer le webscraping ou utiliser une API, nous avons choisi cette approche alternative, et M. Lino Galiana nous a explicitement autorisés à procéder de cette manière.\n",
    "\n",
    "Les données téléchargées ont été ensuite importées dans notre environnement Python en utilisant la fonction read_csv de la bibliothèque pandas. Nous avons ensuite mis en place un dépôt Git pour stocker et partager ces données dans le cadre de notre projet.\n",
    "\n",
    "Remarque : La complexité de la récupération des données a conduit à cette approche, et nous avons pris soin de documenter l'ensemble du processus pour assurer la traçabilité des données.\n",
    "\n",
    "Vous trouverez ci-après les liens qui mènent à la page de récupération des données sur le site de l'Obeservatire des territoires : \n",
    "\n",
    "- Logement vacants : https://www.observatoire-des-territoires.gouv.fr/outils/cartographie-interactive/#bbox=-645836,6062176,1794690,1016154&c=indicator&i=insee_rp_hist_1968.part_logt_vacant&s=2020&view=map59\n",
    "- Nombre d'entreprise : https://www.observatoire-des-territoires.gouv.fr/outils/cartographie-interactive/#c=indicator&f=TOT&i=demo_ent_sect.ent_tot&s=2021&view=map59\n",
    "- Niveau de vie : https://www.observatoire-des-territoires.gouv.fr/outils/cartographie-interactive/#c=indicator&i=filosofi.med_disp&s=2020&view=map59\n",
    "- Déplacement domicile-travail en transport en commun : https://www.observatoire-des-territoires.gouv.fr/outils/cartographie-interactive/#bbox=-645836,6062176,1794690,1016154&c=indicator&i=insee_rp_hist_xxxx.part_domtrav_voit&s=2020&view=map59\n"
   ]
  },
  {
   "cell_type": "markdown",
   "metadata": {},
   "source": [
    "* #### Logements vacants par commune"
   ]
  },
  {
   "cell_type": "markdown",
   "metadata": {},
   "source": [
    "Un taux élevé de logements vacants peut indiquer une région en déclin démographique ou économique. Dans ces situations, la consommation d'électricité peut être réduite en raison d'une activité économique moindre et d'une population résidente moins nombreuse, impactant ainsi la demande énergétique."
   ]
  },
  {
   "cell_type": "code",
   "execution_count": 4,
   "metadata": {},
   "outputs": [
    {
     "data": {
      "text/html": [
       "<div>\n",
       "<style scoped>\n",
       "    .dataframe tbody tr th:only-of-type {\n",
       "        vertical-align: middle;\n",
       "    }\n",
       "\n",
       "    .dataframe tbody tr th {\n",
       "        vertical-align: top;\n",
       "    }\n",
       "\n",
       "    .dataframe thead th {\n",
       "        text-align: right;\n",
       "    }\n",
       "</style>\n",
       "<table border=\"1\" class=\"dataframe\">\n",
       "  <thead>\n",
       "    <tr style=\"text-align: right;\">\n",
       "      <th></th>\n",
       "      <th>codgeo</th>\n",
       "      <th>libgeo</th>\n",
       "      <th>an</th>\n",
       "      <th>part_logt_vacant</th>\n",
       "    </tr>\n",
       "  </thead>\n",
       "  <tbody>\n",
       "    <tr>\n",
       "      <th>0</th>\n",
       "      <td>1001</td>\n",
       "      <td>L'Abergement-Clémenciat</td>\n",
       "      <td>1968</td>\n",
       "      <td>15,5</td>\n",
       "    </tr>\n",
       "    <tr>\n",
       "      <th>1</th>\n",
       "      <td>1001</td>\n",
       "      <td>L'Abergement-Clémenciat</td>\n",
       "      <td>1975</td>\n",
       "      <td>12,6</td>\n",
       "    </tr>\n",
       "    <tr>\n",
       "      <th>2</th>\n",
       "      <td>1001</td>\n",
       "      <td>L'Abergement-Clémenciat</td>\n",
       "      <td>1982</td>\n",
       "      <td>9,1</td>\n",
       "    </tr>\n",
       "    <tr>\n",
       "      <th>3</th>\n",
       "      <td>1001</td>\n",
       "      <td>L'Abergement-Clémenciat</td>\n",
       "      <td>1990</td>\n",
       "      <td>4,6</td>\n",
       "    </tr>\n",
       "    <tr>\n",
       "      <th>4</th>\n",
       "      <td>1001</td>\n",
       "      <td>L'Abergement-Clémenciat</td>\n",
       "      <td>1999</td>\n",
       "      <td>3,1</td>\n",
       "    </tr>\n",
       "  </tbody>\n",
       "</table>\n",
       "</div>"
      ],
      "text/plain": [
       "  codgeo                   libgeo    an part_logt_vacant\n",
       "0   1001  L'Abergement-Clémenciat  1968             15,5\n",
       "1   1001  L'Abergement-Clémenciat  1975             12,6\n",
       "2   1001  L'Abergement-Clémenciat  1982              9,1\n",
       "3   1001  L'Abergement-Clémenciat  1990              4,6\n",
       "4   1001  L'Abergement-Clémenciat  1999              3,1"
      ]
     },
     "execution_count": 4,
     "metadata": {},
     "output_type": "execute_result"
    }
   ],
   "source": [
    "warnings.filterwarnings('ignore')\n",
    "\n",
    "table_logements_vacants_com = pd.read_csv('logement_vacants_com.csv', sep=';', encoding='ISO-8859-1')\n",
    "table_logements_vacants_com.head()"
   ]
  },
  {
   "cell_type": "markdown",
   "metadata": {},
   "source": [
    "* #### Nombre d'entreprises par commune"
   ]
  },
  {
   "cell_type": "markdown",
   "metadata": {},
   "source": [
    "Le nombre d'entreprises dans une région peut avoir un impact significatif sur la consommation d'électricité. Les entreprises, en particulier celles du secteur industriel, peuvent nécessiter des quantités importantes d'énergie pour leurs opérations. Ainsi, un nombre élevé d'entreprises pourrait contribuer à une demande d'électricité plus importante."
   ]
  },
  {
   "cell_type": "code",
   "execution_count": 5,
   "metadata": {},
   "outputs": [
    {
     "data": {
      "text/html": [
       "<div>\n",
       "<style scoped>\n",
       "    .dataframe tbody tr th:only-of-type {\n",
       "        vertical-align: middle;\n",
       "    }\n",
       "\n",
       "    .dataframe tbody tr th {\n",
       "        vertical-align: top;\n",
       "    }\n",
       "\n",
       "    .dataframe thead th {\n",
       "        text-align: right;\n",
       "    }\n",
       "</style>\n",
       "<table border=\"1\" class=\"dataframe\">\n",
       "  <thead>\n",
       "    <tr style=\"text-align: right;\">\n",
       "      <th></th>\n",
       "      <th>Code</th>\n",
       "      <th>Libellé</th>\n",
       "      <th>Nombre d'entreprises par secteurs d'activité 2021</th>\n",
       "      <th>Nombre d'entreprises par secteurs d'activité 2021.1</th>\n",
       "    </tr>\n",
       "  </thead>\n",
       "  <tbody>\n",
       "    <tr>\n",
       "      <th>0</th>\n",
       "      <td>1001</td>\n",
       "      <td>L'Abergement-Clémenciat</td>\n",
       "      <td>41</td>\n",
       "      <td>2</td>\n",
       "    </tr>\n",
       "    <tr>\n",
       "      <th>1</th>\n",
       "      <td>1002</td>\n",
       "      <td>L'Abergement-de-Varey</td>\n",
       "      <td>18</td>\n",
       "      <td>3</td>\n",
       "    </tr>\n",
       "    <tr>\n",
       "      <th>2</th>\n",
       "      <td>1004</td>\n",
       "      <td>Ambérieu-en-Bugey</td>\n",
       "      <td>1097</td>\n",
       "      <td>54</td>\n",
       "    </tr>\n",
       "    <tr>\n",
       "      <th>3</th>\n",
       "      <td>1005</td>\n",
       "      <td>Ambérieux-en-Dombes</td>\n",
       "      <td>133</td>\n",
       "      <td>12</td>\n",
       "    </tr>\n",
       "    <tr>\n",
       "      <th>4</th>\n",
       "      <td>1006</td>\n",
       "      <td>Ambléon</td>\n",
       "      <td>7</td>\n",
       "      <td>0</td>\n",
       "    </tr>\n",
       "  </tbody>\n",
       "</table>\n",
       "</div>"
      ],
      "text/plain": [
       "   Code                  Libellé  \\\n",
       "0  1001  L'Abergement-Clémenciat   \n",
       "1  1002    L'Abergement-de-Varey   \n",
       "2  1004        Ambérieu-en-Bugey   \n",
       "3  1005      Ambérieux-en-Dombes   \n",
       "4  1006                  Ambléon   \n",
       "\n",
       "  Nombre d'entreprises par secteurs d'activité 2021  \\\n",
       "0                                                41   \n",
       "1                                                18   \n",
       "2                                              1097   \n",
       "3                                               133   \n",
       "4                                                 7   \n",
       "\n",
       "  Nombre d'entreprises par secteurs d'activité 2021.1  \n",
       "0                                                  2   \n",
       "1                                                  3   \n",
       "2                                                 54   \n",
       "3                                                 12   \n",
       "4                                                  0   "
      ]
     },
     "execution_count": 5,
     "metadata": {},
     "output_type": "execute_result"
    }
   ],
   "source": [
    "table_nb_entr_com = pd.read_csv('table_nb_entr_com.csv',sep=';')\n",
    "table_nb_entr_com.head()"
   ]
  },
  {
   "cell_type": "markdown",
   "metadata": {},
   "source": [
    "* #### Niveau de vie par commune"
   ]
  },
  {
   "cell_type": "markdown",
   "metadata": {},
   "source": [
    "Les régions avec un niveau de vie élevé peuvent avoir des habitudes de consommation plus énergivores. Des ménages plus aisés peuvent avoir des équipements électroniques plus nombreux, des systèmes de chauffage et de climatisation sophistiqués, contribuant ainsi à une consommation d'électricité supérieure."
   ]
  },
  {
   "cell_type": "code",
   "execution_count": 6,
   "metadata": {},
   "outputs": [
    {
     "data": {
      "text/html": [
       "<div>\n",
       "<style scoped>\n",
       "    .dataframe tbody tr th:only-of-type {\n",
       "        vertical-align: middle;\n",
       "    }\n",
       "\n",
       "    .dataframe tbody tr th {\n",
       "        vertical-align: top;\n",
       "    }\n",
       "\n",
       "    .dataframe thead th {\n",
       "        text-align: right;\n",
       "    }\n",
       "</style>\n",
       "<table border=\"1\" class=\"dataframe\">\n",
       "  <thead>\n",
       "    <tr style=\"text-align: right;\">\n",
       "      <th></th>\n",
       "      <th>Code</th>\n",
       "      <th>Libellé</th>\n",
       "      <th>Médiane du revenu disponible par UC 2020</th>\n",
       "    </tr>\n",
       "  </thead>\n",
       "  <tbody>\n",
       "    <tr>\n",
       "      <th>0</th>\n",
       "      <td>1001</td>\n",
       "      <td>L'Abergement-Clémenciat</td>\n",
       "      <td>24820</td>\n",
       "    </tr>\n",
       "    <tr>\n",
       "      <th>1</th>\n",
       "      <td>1002</td>\n",
       "      <td>L'Abergement-de-Varey</td>\n",
       "      <td>23220</td>\n",
       "    </tr>\n",
       "    <tr>\n",
       "      <th>2</th>\n",
       "      <td>1004</td>\n",
       "      <td>Ambérieu-en-Bugey</td>\n",
       "      <td>21070</td>\n",
       "    </tr>\n",
       "    <tr>\n",
       "      <th>3</th>\n",
       "      <td>1005</td>\n",
       "      <td>Ambérieux-en-Dombes</td>\n",
       "      <td>24380</td>\n",
       "    </tr>\n",
       "    <tr>\n",
       "      <th>4</th>\n",
       "      <td>1006</td>\n",
       "      <td>Ambléon</td>\n",
       "      <td>N/A - résultat non disponible</td>\n",
       "    </tr>\n",
       "  </tbody>\n",
       "</table>\n",
       "</div>"
      ],
      "text/plain": [
       "   Code                  Libellé Médiane du revenu disponible par UC 2020\n",
       "0  1001  L'Abergement-Clémenciat                                    24820\n",
       "1  1002    L'Abergement-de-Varey                                    23220\n",
       "2  1004        Ambérieu-en-Bugey                                    21070\n",
       "3  1005      Ambérieux-en-Dombes                                    24380\n",
       "4  1006                  Ambléon            N/A - résultat non disponible"
      ]
     },
     "execution_count": 6,
     "metadata": {},
     "output_type": "execute_result"
    }
   ],
   "source": [
    "table_niveau_vie_com = pd.read_csv('niveau_vie_com.csv',sep=';')\n",
    "table_niveau_vie_com.head()"
   ]
  },
  {
   "cell_type": "markdown",
   "metadata": {},
   "source": [
    "* #### Taux de déplacement domicile-travail en transport en commun"
   ]
  },
  {
   "cell_type": "markdown",
   "metadata": {},
   "source": [
    "Les zones où un pourcentage élevé de la population utilise les transports en commun peuvent avoir une demande d'électricité différente. Les systèmes de transport en commun, tels que les trains électriques ou les bus, dépendent de l'électricité. Ainsi, une utilisation fréquente de ces moyens de transport peut entraîner une demande d'électricité plus importante dans la commune."
   ]
  },
  {
   "cell_type": "code",
   "execution_count": 7,
   "metadata": {},
   "outputs": [
    {
     "data": {
      "text/html": [
       "<div>\n",
       "<style scoped>\n",
       "    .dataframe tbody tr th:only-of-type {\n",
       "        vertical-align: middle;\n",
       "    }\n",
       "\n",
       "    .dataframe tbody tr th {\n",
       "        vertical-align: top;\n",
       "    }\n",
       "\n",
       "    .dataframe thead th {\n",
       "        text-align: right;\n",
       "    }\n",
       "</style>\n",
       "<table border=\"1\" class=\"dataframe\">\n",
       "  <thead>\n",
       "    <tr style=\"text-align: right;\">\n",
       "      <th></th>\n",
       "      <th>codgeo</th>\n",
       "      <th>libgeo</th>\n",
       "      <th>an</th>\n",
       "      <th>part_domtrav_tc</th>\n",
       "    </tr>\n",
       "  </thead>\n",
       "  <tbody>\n",
       "    <tr>\n",
       "      <th>0</th>\n",
       "      <td>1001</td>\n",
       "      <td>L'Abergement-Clémenciat</td>\n",
       "      <td>2009</td>\n",
       "      <td>1,2</td>\n",
       "    </tr>\n",
       "    <tr>\n",
       "      <th>1</th>\n",
       "      <td>1001</td>\n",
       "      <td>L'Abergement-Clémenciat</td>\n",
       "      <td>2014</td>\n",
       "      <td>4,1</td>\n",
       "    </tr>\n",
       "    <tr>\n",
       "      <th>2</th>\n",
       "      <td>1001</td>\n",
       "      <td>L'Abergement-Clémenciat</td>\n",
       "      <td>2020</td>\n",
       "      <td>1,1</td>\n",
       "    </tr>\n",
       "    <tr>\n",
       "      <th>3</th>\n",
       "      <td>1002</td>\n",
       "      <td>L'Abergement-de-Varey</td>\n",
       "      <td>2009</td>\n",
       "      <td>7,7</td>\n",
       "    </tr>\n",
       "    <tr>\n",
       "      <th>4</th>\n",
       "      <td>1002</td>\n",
       "      <td>L'Abergement-de-Varey</td>\n",
       "      <td>2014</td>\n",
       "      <td>4,8</td>\n",
       "    </tr>\n",
       "  </tbody>\n",
       "</table>\n",
       "</div>"
      ],
      "text/plain": [
       "  codgeo                   libgeo    an part_domtrav_tc\n",
       "0   1001  L'Abergement-Clémenciat  2009             1,2\n",
       "1   1001  L'Abergement-Clémenciat  2014             4,1\n",
       "2   1001  L'Abergement-Clémenciat  2020             1,1\n",
       "3   1002    L'Abergement-de-Varey  2009             7,7\n",
       "4   1002    L'Abergement-de-Varey  2014             4,8"
      ]
     },
     "execution_count": 7,
     "metadata": {},
     "output_type": "execute_result"
    }
   ],
   "source": [
    "# url = https://www.observatoire-des-territoires.gouv.fr/outils/cartographie-interactive/#bbox=-645836,6062176,1794690,1016154&c=indicator&i=insee_rp_hist_xxxx.part_domtrav_voit&s=2020&view=map59\n",
    "\n",
    "table_dep_domtrav_tc = pd.read_csv('dep_domtrav_tc.csv', sep=';', encoding='ISO-8859-1')\n",
    "table_dep_domtrav_tc.head()"
   ]
  },
  {
   "cell_type": "markdown",
   "metadata": {},
   "source": [
    "### Bases de données webscrappées"
   ]
  },
  {
   "cell_type": "markdown",
   "metadata": {},
   "source": [
    "Pour enrichir notre analyse, nous avons utilisé le web scraping pour extraire la population de chaque commune, à partir du site Wikipédia, ajoutant ainsi une dimension à notre ensemble de données. Cette approche, combinée à nos sources préexistantes comme data.gouv et l'Observatoire des Territoires, renforce la profondeur de notre étude, offrant des perspectives plus complètes."
   ]
  },
  {
   "cell_type": "markdown",
   "metadata": {},
   "source": [
    "* #### Population par commune"
   ]
  },
  {
   "cell_type": "markdown",
   "metadata": {},
   "source": [
    "La taille de la population est généralement corrélée positivement avec la consommation d'électricité. Plus la population est grande, plus les besoins en énergie pour les logements, les commerces et les industries sont importants. Les zones peuplées ont souvent une demande d'électricité plus élevée."
   ]
  },
  {
   "cell_type": "code",
   "execution_count": 8,
   "metadata": {},
   "outputs": [
    {
     "data": {
      "text/html": [
       "<div>\n",
       "<style scoped>\n",
       "    .dataframe tbody tr th:only-of-type {\n",
       "        vertical-align: middle;\n",
       "    }\n",
       "\n",
       "    .dataframe tbody tr th {\n",
       "        vertical-align: top;\n",
       "    }\n",
       "\n",
       "    .dataframe thead th {\n",
       "        text-align: right;\n",
       "    }\n",
       "</style>\n",
       "<table border=\"1\" class=\"dataframe\">\n",
       "  <thead>\n",
       "    <tr style=\"text-align: right;\">\n",
       "      <th></th>\n",
       "      <th>Code commune</th>\n",
       "      <th>0</th>\n",
       "    </tr>\n",
       "  </thead>\n",
       "  <tbody>\n",
       "    <tr>\n",
       "      <th>0</th>\n",
       "      <td>01053</td>\n",
       "      <td>41 525 (2021)</td>\n",
       "    </tr>\n",
       "    <tr>\n",
       "      <th>1</th>\n",
       "      <td>01001</td>\n",
       "      <td>832 (2021)</td>\n",
       "    </tr>\n",
       "    <tr>\n",
       "      <th>2</th>\n",
       "      <td>01002</td>\n",
       "      <td>267 (2021)</td>\n",
       "    </tr>\n",
       "    <tr>\n",
       "      <th>3</th>\n",
       "      <td>01004</td>\n",
       "      <td>14 854 (2021)</td>\n",
       "    </tr>\n",
       "    <tr>\n",
       "      <th>4</th>\n",
       "      <td>01005</td>\n",
       "      <td>1 897 (2021)</td>\n",
       "    </tr>\n",
       "  </tbody>\n",
       "</table>\n",
       "</div>"
      ],
      "text/plain": [
       "  Code commune              0\n",
       "0        01053  41 525 (2021)\n",
       "1        01001     832 (2021)\n",
       "2        01002     267 (2021)\n",
       "3        01004  14 854 (2021)\n",
       "4        01005   1 897 (2021)"
      ]
     },
     "execution_count": 8,
     "metadata": {},
     "output_type": "execute_result"
    }
   ],
   "source": [
    "url_communes = \"https://fr.wikipedia.org/wiki/Listes_des_communes_de_France\"\n",
    "text_communes = request.urlopen(url_communes).read().decode('utf-8')\n",
    "page_communes = BeautifulSoup(text_communes, 'html.parser')\n",
    "tableau_communes = page_communes.find('table', {'class': 'wikitable'})\n",
    "tableau_communes = tableau_communes.find('tbody')\n",
    "lignes_communes = tableau_communes.find_all('tr')\n",
    "lignes_communes = lignes_communes[:-13]\n",
    "\n",
    "# Liste pour stocker les url des pages wikipédia de chaque commune\n",
    "liste_url_communes = []\n",
    "\n",
    "# Parcourir chaque ligne dans lignes_communes\n",
    "for ligne in lignes_communes:\n",
    "    # Trouver toutes les balises <td> dans la ligne\n",
    "    td_tags = ligne.find_all('td')\n",
    "\n",
    "    if len(td_tags) >= 3:\n",
    "        if td_tags[-3].text.strip() != '75':\n",
    "            derniere_td = td_tags[-1]\n",
    "            a_tag = derniere_td.find('a')\n",
    "            if a_tag:\n",
    "                contenu_apres_href = a_tag.get('href')\n",
    "                liste_url_communes.append(contenu_apres_href)\n",
    "\n",
    "dico_communes = {}\n",
    "liste_code_communes = []\n",
    "\n",
    "for url in liste_url_communes:\n",
    "    text = request.urlopen(\"https://fr.wikipedia.org\" + url).read().decode('utf-8')\n",
    "    page = BeautifulSoup(text, 'html.parser')  # Utilisez html.parser au lieu de lxml\n",
    "    tableau = page.find('table', {'class': 'wikitable sortable titre-en-couleur'})\n",
    "    tableau = tableau.find('tbody')\n",
    "    lignes = tableau.find_all('tr')\n",
    "    lignes.pop(0)\n",
    "    lignes.pop(-1)\n",
    "\n",
    "    for ligne in lignes:\n",
    "        donnees = ligne.find_all('td')\n",
    "        code_insee = donnees[1].text.strip()\n",
    "        liste_code_communes.append(code_insee)\n",
    "        pop_commune = donnees[-3].text.strip()\n",
    "        dico_communes[code_insee] = pop_commune\n",
    "\n",
    "# Créer le DataFrame à partir du dictionnaire\n",
    "table_pop_com = pd.DataFrame.from_dict(dico_communes, orient='index').reset_index()\n",
    "table_pop_com = table_pop_com.rename(columns={'index': 'Code commune'})\n",
    "table_pop_com.head()\n"
   ]
  },
  {
   "cell_type": "markdown",
   "metadata": {},
   "source": [
    "### Récupération de données via API"
   ]
  },
  {
   "cell_type": "markdown",
   "metadata": {},
   "source": [
    "* #### Température par commune"
   ]
  },
  {
   "cell_type": "markdown",
   "metadata": {},
   "source": [
    "La température peut avoir un impact direct sur la consommation d'électricité. Dans les régions où les températures sont extrêmes (chaudes en été ou froides en hiver), la demande d'électricité pourrait augmente en raison de l'utilisation intensive de la climatisation ou du chauffage. La météo aurait donc une influence significative sur la consommation d'électricité."
   ]
  },
  {
   "cell_type": "markdown",
   "metadata": {},
   "source": [
    "Nous souhaitons compléter notre analyse en récupérant les données de température de chaque commune via une API de OpenDataSoft. Cette démarche vise à intégrer une perspective climatique à nos sources existantes, renforçant ainsi la pertinence de nos analyses territoriales."
   ]
  },
  {
   "cell_type": "code",
   "execution_count": 9,
   "metadata": {},
   "outputs": [
    {
     "name": "stdout",
     "output_type": "stream",
     "text": [
      "La commune 01053 ne présente aucun relevé de température\n",
      "La commune 01001 ne présente aucun relevé de température\n",
      "La commune 01002 ne présente aucun relevé de température\n",
      "La commune 01004 ne présente aucun relevé de température\n",
      "La commune 01005 ne présente aucun relevé de température\n",
      "La commune 01006 ne présente aucun relevé de température\n",
      "La commune 01007 ne présente aucun relevé de température\n",
      "La commune 01008 ne présente aucun relevé de température\n",
      "La commune 01009 ne présente aucun relevé de température\n",
      "La commune 01010 ne présente aucun relevé de température\n",
      "La commune 01011 ne présente aucun relevé de température\n",
      "La commune 01012 ne présente aucun relevé de température\n",
      "La commune 01013 ne présente aucun relevé de température\n",
      "La commune 01014 ne présente aucun relevé de température\n",
      "La commune 01016 ne présente aucun relevé de température\n",
      "La commune 01015 ne présente aucun relevé de température\n",
      "La commune 01017 ne présente aucun relevé de température\n",
      "La commune 01019 ne présente aucun relevé de température\n",
      "La commune 01021 ne présente aucun relevé de température\n",
      "La commune 01022 ne présente aucun relevé de température\n",
      "La commune 01453 ne présente aucun relevé de température\n",
      "La commune 01023 ne présente aucun relevé de température\n",
      "La commune 01024 ne présente aucun relevé de température\n",
      "La commune 01025 ne présente aucun relevé de température\n",
      "La commune 01026 ne présente aucun relevé de température\n",
      "La commune 01027 ne présente aucun relevé de température\n",
      "La commune 01028 ne présente aucun relevé de température\n",
      "La commune 01170 ne présente aucun relevé de température\n",
      "La commune 01029 ne présente aucun relevé de température\n",
      "La commune 01030 ne présente aucun relevé de température\n",
      "La commune 01032 ne présente aucun relevé de température\n",
      "La commune 01034 ne présente aucun relevé de température\n",
      "La commune 01035 ne présente aucun relevé de température\n",
      "La commune 01031 ne présente aucun relevé de température\n",
      "La commune 01037 ne présente aucun relevé de température\n",
      "La commune 01038 ne présente aucun relevé de température\n",
      "La commune 01040 ne présente aucun relevé de température\n",
      "La commune 01041 ne présente aucun relevé de température\n",
      "La commune 01042 ne présente aucun relevé de température\n",
      "La commune 01043 ne présente aucun relevé de température\n",
      "La commune 01044 ne présente aucun relevé de température\n",
      "La commune 01045 ne présente aucun relevé de température\n",
      "La commune 01046 ne présente aucun relevé de température\n",
      "La commune 01047 ne présente aucun relevé de température\n",
      "La commune 01245 ne présente aucun relevé de température\n",
      "La commune 01049 ne présente aucun relevé de température\n",
      "La commune 01050 ne présente aucun relevé de température\n",
      "La commune 01051 ne présente aucun relevé de température\n",
      "La commune 01052 ne présente aucun relevé de température\n",
      "La commune 01054 ne présente aucun relevé de température\n",
      "La commune 01056 ne présente aucun relevé de température\n",
      "La commune 01057 ne présente aucun relevé de température\n",
      "La commune 01058 ne présente aucun relevé de température\n",
      "La commune 01060 ne présente aucun relevé de température\n",
      "La commune 01061 ne présente aucun relevé de température\n",
      "La commune 01130 ne présente aucun relevé de température\n",
      "La commune 01062 ne présente aucun relevé de température\n",
      "La commune 01063 ne présente aucun relevé de température\n",
      "La commune 01064 ne présente aucun relevé de température\n",
      "La commune 01065 ne présente aucun relevé de température\n",
      "La commune 01066 ne présente aucun relevé de température\n",
      "La commune 01067 ne présente aucun relevé de température\n",
      "La commune 01068 ne présente aucun relevé de température\n",
      "La commune 01069 ne présente aucun relevé de température\n",
      "La commune 01071 ne présente aucun relevé de température\n",
      "La commune 01072 ne présente aucun relevé de température\n",
      "La commune 01073 ne présente aucun relevé de température\n",
      "La commune 01074 ne présente aucun relevé de température\n",
      "La commune 01075 ne présente aucun relevé de température\n",
      "La commune 01076 ne présente aucun relevé de température\n",
      "La commune 01077 ne présente aucun relevé de température\n",
      "La commune 01078 ne présente aucun relevé de température\n",
      "La commune 01079 ne présente aucun relevé de température\n",
      "La commune 01080 ne présente aucun relevé de température\n",
      "La commune 01081 ne présente aucun relevé de température\n",
      "La commune 01082 ne présente aucun relevé de température\n",
      "La commune 01083 ne présente aucun relevé de température\n",
      "La commune 01084 ne présente aucun relevé de température\n",
      "La commune 01085 ne présente aucun relevé de température\n",
      "La commune 01087 ne présente aucun relevé de température\n",
      "La commune 01088 ne présente aucun relevé de température\n",
      "La commune 01089 ne présente aucun relevé de température\n",
      "La commune 01090 ne présente aucun relevé de température\n",
      "La commune 01092 ne présente aucun relevé de température\n",
      "La commune 01093 ne présente aucun relevé de température\n",
      "La commune 01094 ne présente aucun relevé de température\n",
      "La commune 01096 ne présente aucun relevé de température\n",
      "La commune 01098 ne présente aucun relevé de température\n",
      "La commune 01099 ne présente aucun relevé de température\n",
      "La commune 01100 ne présente aucun relevé de température\n",
      "La commune 01101 ne présente aucun relevé de température\n",
      "La commune 01102 ne présente aucun relevé de température\n",
      "La commune 01103 ne présente aucun relevé de température\n",
      "La commune 01104 ne présente aucun relevé de température\n",
      "La commune 01105 ne présente aucun relevé de température\n",
      "La commune 01106 ne présente aucun relevé de température\n",
      "La commune 01107 ne présente aucun relevé de température\n",
      "La commune 01108 ne présente aucun relevé de température\n",
      "La commune 01109 ne présente aucun relevé de température\n",
      "La commune 01110 ne présente aucun relevé de température\n",
      "On arrête le programme en raison d'un nombre de valeurs manquantes trop important\n"
     ]
    }
   ],
   "source": [
    "# Dictionnaire pour stocker les moyennes de température par commune\n",
    "dico_temp_communes = {}\n",
    "\n",
    "root_api = \"https://public.opendatasoft.com\"\n",
    "\n",
    "# Initialiser un compteur pour les valeurs manquantes\n",
    "missing_values_count = 0\n",
    "limit_missing_values = 100\n",
    "\n",
    "for codegeo in liste_code_communes:\n",
    "    # Arrêter le programme si on a trop de valeurs manquantes\n",
    "    if missing_values_count >= limit_missing_values:\n",
    "        print(\"On arrête le programme en raison d'un nombre de valeurs manquantes trop important\")\n",
    "        break\n",
    "\n",
    "    url = f\"{root_api}/api/explore/v2.1/catalog/datasets/donnees-synop-essentielles-omm/records?select=codegeo%2C%20tc%2C%20latitude%2C%20longitude&where=codegeo%3D%22{codegeo}%22&limit=99\"\n",
    "    req = requests.get(url)\n",
    "    temp = req.json()\n",
    "    results = temp.get('results', [])\n",
    "    df = pd.DataFrame(results)\n",
    "    \n",
    "    if 'tc' in df.columns:\n",
    "        # Compter le nombre de valeurs manquantes dans la colonne 'tc'\n",
    "        missing_values_count += df['tc'].isna().sum()\n",
    "\n",
    "        # Calculer la moyenne des températures, en ignorant les valeurs manquantes\n",
    "        moyenne = round(df['tc'].mean(), 2)\n",
    "        dico_temp_communes[codegeo] = moyenne\n",
    "    else:\n",
    "        missing_values_count += 1  # Compter l'absence complète de la colonne comme une valeur manquante\n",
    "        print(f\"La commune {codegeo} ne présente aucun relevé de température\")\n",
    "\n",
    "# Si le programme s'achève sans interruption, afficher les résultats\n",
    "if missing_values_count < limit_missing_values:\n",
    "    print(dico_temp_communes)\n"
   ]
  },
  {
   "cell_type": "markdown",
   "metadata": {},
   "source": [
    "Nous constatons que cette approche génère un nombre significatif de données manquantes. Bien que la variable de température par commune demeure cruciale pour expliquer la consommation d'énergie, il n'est pas envisageable de sacrifier une part importante de notre base de données en raison de ces lacunes. Nous sommes à la recherche d'un compromis qui nous permettrait d'intégrer une variable météorologique dans notre modèle tout en conservant une quantité adéquate de données.\n",
    "\n",
    "Ainsi, nous optons pour une solution consistant à associer à chaque commune la température moyenne du département correspondant, sous l'hypothèse que la température présente une homogénéité suffisante au sein d'un même département. Cette stratégie nous permet d'enrichir notre modèle sans compromettre de manière significative la taille de notre jeu de données.\n",
    "\n",
    "Voici comment nous avons créé notre variable météorologique : nous avons extrait la température relevée au premier jour de chaque mois, dans chaque commune, tout au long de l'année 2021. Une fois ces 12 données collectées, nous les avons moyennées. Cette méthode confère à la variable une variance potentiellement élevée, mais nous pourrions réduire cette variabilité en augmentant la fréquence des relevés avant de procéder à la moyenne, par exemple en récupérant la température chaque 1er et 15 du mois. Cependant, cette amélioration serait compensée par une augmentation du temps de calcul."
   ]
  },
  {
   "cell_type": "code",
   "execution_count": 10,
   "metadata": {},
   "outputs": [
    {
     "data": {
      "text/html": [
       "<div>\n",
       "<style scoped>\n",
       "    .dataframe tbody tr th:only-of-type {\n",
       "        vertical-align: middle;\n",
       "    }\n",
       "\n",
       "    .dataframe tbody tr th {\n",
       "        vertical-align: top;\n",
       "    }\n",
       "\n",
       "    .dataframe thead th {\n",
       "        text-align: right;\n",
       "    }\n",
       "</style>\n",
       "<table border=\"1\" class=\"dataframe\">\n",
       "  <thead>\n",
       "    <tr style=\"text-align: right;\">\n",
       "      <th></th>\n",
       "      <th>code_commune</th>\n",
       "      <th>tmoy</th>\n",
       "    </tr>\n",
       "  </thead>\n",
       "  <tbody>\n",
       "    <tr>\n",
       "      <th>0</th>\n",
       "      <td>01053</td>\n",
       "      <td>11.875</td>\n",
       "    </tr>\n",
       "    <tr>\n",
       "      <th>1</th>\n",
       "      <td>01001</td>\n",
       "      <td>11.875</td>\n",
       "    </tr>\n",
       "    <tr>\n",
       "      <th>2</th>\n",
       "      <td>01002</td>\n",
       "      <td>11.875</td>\n",
       "    </tr>\n",
       "    <tr>\n",
       "      <th>3</th>\n",
       "      <td>01004</td>\n",
       "      <td>11.875</td>\n",
       "    </tr>\n",
       "    <tr>\n",
       "      <th>4</th>\n",
       "      <td>01005</td>\n",
       "      <td>11.875</td>\n",
       "    </tr>\n",
       "  </tbody>\n",
       "</table>\n",
       "</div>"
      ],
      "text/plain": [
       "  code_commune    tmoy\n",
       "0        01053  11.875\n",
       "1        01001  11.875\n",
       "2        01002  11.875\n",
       "3        01004  11.875\n",
       "4        01005  11.875"
      ]
     },
     "execution_count": 10,
     "metadata": {},
     "output_type": "execute_result"
    }
   ],
   "source": [
    "# URL de base et structure de l'URL de l'API\n",
    "root_api = \"https://odre.opendatasoft.com\"\n",
    "base_url = \"/api/explore/v2.1/catalog/datasets/temperature-quotidienne-departementale/records\"\n",
    "base_query = \"?select=date_obs%2Ccode_insee_departement%2Cdepartement%2Ctmoy&order_by=code_insee_departement&limit=99&refine=date_obs%3A%222021%22\"\n",
    "\n",
    "# Collecte des données pour chaque mois\n",
    "df_list = []\n",
    "for i in range(1, 13):\n",
    "    date_str = f\"2021-{i:02d}-01\"\n",
    "    url_api = f\"{root_api}{base_url}{base_query}&where=date_obs%3Ddate'{date_str}'\"\n",
    "    req = requests.get(url_api)\n",
    "    temp = req.json()\n",
    "    results = temp.get('results', [])\n",
    "    df = pd.DataFrame(results)\n",
    "    if not df.empty:\n",
    "        df = df[['date_obs', 'code_insee_departement', 'departement','tmoy']]\n",
    "        df_list.append(df)\n",
    "\n",
    "# Fusionner tous les DataFrames en un seul\n",
    "df_final = pd.concat(df_list)\n",
    "\n",
    "# Calcul de la moyenne des températures par code et nom de département\n",
    "table_temperatures = df_final.groupby(['code_insee_departement', 'departement'])['tmoy'].mean().reset_index()\n",
    "\n",
    "# Affichage du DataFrame final\n",
    "table_temperatures.head()\n",
    "\n",
    "# Création d'un DataFrame à partir de la liste des codes INSEE\n",
    "data_communes = {'code_commune': liste_code_communes}\n",
    "df_communes = pd.DataFrame(data_communes)\n",
    "\n",
    "# Exécution d'une jointure entre les deux DataFrames\n",
    "table_temperatures_com = pd.merge(df_communes, table_temperatures, left_on=df_communes['code_commune'].str[:2], right_on=table_temperatures['code_insee_departement'])\n",
    "\n",
    "# Afficher le résultat\n",
    "table_temperatures_com[['code_commune', 'tmoy']].head()\n"
   ]
  },
  {
   "cell_type": "markdown",
   "metadata": {},
   "source": [
    "## Processus de nettoyage des données"
   ]
  },
  {
   "cell_type": "markdown",
   "metadata": {},
   "source": [
    "Maintenant que nous avons récupéré les données nécessaires, notre objectif est de les regrouper de manière claire et concise dans un unique dataframe. Cette consolidation facilitera l'analyse et le traitement des informations, offrant ainsi une vue d'ensemble cohérente pour une meilleure compréhension et interprétation de nos résultats."
   ]
  },
  {
   "cell_type": "markdown",
   "metadata": {},
   "source": [
    "Pour atteindre cet objectif, nous entreprenons plusieurs étapes. Tout d'abord, nous allons standardiser les noms des variables de chaque table, assurant ainsi leur uniformité pour une variable donnée. Par ailleurs, nous sélectionnerons uniquement les variables qui revêtent un intérêt particulier pour notre analyse. Egalement, nous procéderons à une standardisation des valeurs manquantes, notées \"NA\", pour assurer une cohérence dans nos données.\n",
    "\n",
    "Par la suite, nous fusionnerons les tables à partir de la variable du code de la commune, facilitant ainsi la cohérence et la comparabilité des données. De plus, nous veillerons à harmoniser le format des variables, en utilisant des points au lieu de virgules pour les nombres et en garantissant que le code de commune soit représenté par un nombre à 5 chiffres, évitant ainsi toute ambiguïté avec des codes à 4 chiffres. Cette démarche prévient les risques potentiels, tels que la distinction entre les codes de commune 01304 et 1304, qui doivent être traités de manière identique, étant la même commune. L'harmonisation du format des variables contribuera ainsi à la qualité et à la précision de notre ensemble de données consolidé."
   ]
  },
  {
   "cell_type": "code",
   "execution_count": 11,
   "metadata": {},
   "outputs": [
    {
     "data": {
      "text/html": [
       "<div>\n",
       "<style scoped>\n",
       "    .dataframe tbody tr th:only-of-type {\n",
       "        vertical-align: middle;\n",
       "    }\n",
       "\n",
       "    .dataframe tbody tr th {\n",
       "        vertical-align: top;\n",
       "    }\n",
       "\n",
       "    .dataframe thead th {\n",
       "        text-align: right;\n",
       "    }\n",
       "</style>\n",
       "<table border=\"1\" class=\"dataframe\">\n",
       "  <thead>\n",
       "    <tr style=\"text-align: right;\">\n",
       "      <th></th>\n",
       "      <th>annee</th>\n",
       "      <th>filiere</th>\n",
       "      <th>code_commune</th>\n",
       "      <th>libelle_commune</th>\n",
       "      <th>consototale</th>\n",
       "    </tr>\n",
       "  </thead>\n",
       "  <tbody>\n",
       "    <tr>\n",
       "      <th>0</th>\n",
       "      <td>2021</td>\n",
       "      <td>Electricité</td>\n",
       "      <td>01001</td>\n",
       "      <td>L'Abergement-Clémenciat</td>\n",
       "      <td>3597.380676</td>\n",
       "    </tr>\n",
       "    <tr>\n",
       "      <th>1</th>\n",
       "      <td>2021</td>\n",
       "      <td>Electricité</td>\n",
       "      <td>01002</td>\n",
       "      <td>L'Abergement-de-Varey</td>\n",
       "      <td>1220.681183</td>\n",
       "    </tr>\n",
       "    <tr>\n",
       "      <th>2</th>\n",
       "      <td>2021</td>\n",
       "      <td>Electricité</td>\n",
       "      <td>01004</td>\n",
       "      <td>Ambérieu-en-Bugey</td>\n",
       "      <td>79747.076997</td>\n",
       "    </tr>\n",
       "    <tr>\n",
       "      <th>3</th>\n",
       "      <td>2021</td>\n",
       "      <td>Electricité</td>\n",
       "      <td>01006</td>\n",
       "      <td>Ambléon</td>\n",
       "      <td>431.475874</td>\n",
       "    </tr>\n",
       "    <tr>\n",
       "      <th>4</th>\n",
       "      <td>2021</td>\n",
       "      <td>Electricité</td>\n",
       "      <td>01007</td>\n",
       "      <td>Ambronay</td>\n",
       "      <td>16454.806074</td>\n",
       "    </tr>\n",
       "  </tbody>\n",
       "</table>\n",
       "</div>"
      ],
      "text/plain": [
       "   annee      filiere code_commune          libelle_commune   consototale\n",
       "0   2021  Electricité        01001  L'Abergement-Clémenciat   3597.380676\n",
       "1   2021  Electricité        01002    L'Abergement-de-Varey   1220.681183\n",
       "2   2021  Electricité        01004        Ambérieu-en-Bugey  79747.076997\n",
       "3   2021  Electricité        01006                  Ambléon    431.475874\n",
       "4   2021  Electricité        01007                 Ambronay  16454.806074"
      ]
     },
     "execution_count": 11,
     "metadata": {},
     "output_type": "execute_result"
    }
   ],
   "source": [
    "# Sélection des variables nécessaires\n",
    "df_filtered = table_conso_com[['annee', 'filiere', 'code_commune', 'libelle_commune', 'consototale']]\n",
    "\n",
    "# Filtrer les données pour ne garder que celles de l'année 2021, et l'electricité\n",
    "df_filtered = df_filtered[df_filtered['annee'] == 2021]\n",
    "df_filtered = df_filtered[df_filtered['filiere'] == 'Electricité']\n",
    "\n",
    "# Convertir la colonne 'code_commune' en chaîne de caractères\n",
    "df_filtered['code_commune'] = df_filtered['code_commune'].astype(str)\n",
    "\n",
    "# Trier les données par commune en ordre croissant\n",
    "df_filtered = df_filtered.sort_values(by=['code_commune'])\n",
    "\n",
    "# Garder la première occurrence pour chaque commune\n",
    "df_filtered = df_filtered.drop_duplicates(subset='code_commune')\n",
    "\n",
    "# Réinitialiser l'index\n",
    "df_filtered = df_filtered.reset_index(drop=True)\n",
    "\n",
    "# Affecter le DataFrame final à la variable 'table_conso_com'\n",
    "table_conso_com = df_filtered\n",
    "table_conso_com.head()"
   ]
  },
  {
   "cell_type": "code",
   "execution_count": 12,
   "metadata": {},
   "outputs": [
    {
     "data": {
      "text/html": [
       "<div>\n",
       "<style scoped>\n",
       "    .dataframe tbody tr th:only-of-type {\n",
       "        vertical-align: middle;\n",
       "    }\n",
       "\n",
       "    .dataframe tbody tr th {\n",
       "        vertical-align: top;\n",
       "    }\n",
       "\n",
       "    .dataframe thead th {\n",
       "        text-align: right;\n",
       "    }\n",
       "</style>\n",
       "<table border=\"1\" class=\"dataframe\">\n",
       "  <thead>\n",
       "    <tr style=\"text-align: right;\">\n",
       "      <th></th>\n",
       "      <th>code_commune</th>\n",
       "      <th>libelle_commune</th>\n",
       "      <th>an</th>\n",
       "      <th>logements_vacants_%</th>\n",
       "    </tr>\n",
       "  </thead>\n",
       "  <tbody>\n",
       "    <tr>\n",
       "      <th>7</th>\n",
       "      <td>1001</td>\n",
       "      <td>L'Abergement-Clémenciat</td>\n",
       "      <td>2020</td>\n",
       "      <td>5,7</td>\n",
       "    </tr>\n",
       "    <tr>\n",
       "      <th>15</th>\n",
       "      <td>1002</td>\n",
       "      <td>L'Abergement-de-Varey</td>\n",
       "      <td>2020</td>\n",
       "      <td>8,8</td>\n",
       "    </tr>\n",
       "    <tr>\n",
       "      <th>23</th>\n",
       "      <td>1004</td>\n",
       "      <td>Ambérieu-en-Bugey</td>\n",
       "      <td>2020</td>\n",
       "      <td>9,9</td>\n",
       "    </tr>\n",
       "    <tr>\n",
       "      <th>31</th>\n",
       "      <td>1005</td>\n",
       "      <td>Ambérieux-en-Dombes</td>\n",
       "      <td>2020</td>\n",
       "      <td>10,7</td>\n",
       "    </tr>\n",
       "    <tr>\n",
       "      <th>39</th>\n",
       "      <td>1006</td>\n",
       "      <td>Ambléon</td>\n",
       "      <td>2020</td>\n",
       "      <td>10,8</td>\n",
       "    </tr>\n",
       "  </tbody>\n",
       "</table>\n",
       "</div>"
      ],
      "text/plain": [
       "   code_commune          libelle_commune    an logements_vacants_%\n",
       "7          1001  L'Abergement-Clémenciat  2020                 5,7\n",
       "15         1002    L'Abergement-de-Varey  2020                 8,8\n",
       "23         1004        Ambérieu-en-Bugey  2020                 9,9\n",
       "31         1005      Ambérieux-en-Dombes  2020                10,7\n",
       "39         1006                  Ambléon  2020                10,8"
      ]
     },
     "execution_count": 12,
     "metadata": {},
     "output_type": "execute_result"
    }
   ],
   "source": [
    "table_logements_vacants_com=table_logements_vacants_com.rename(columns={\n",
    "    'codgeo': 'code_commune',\n",
    "    'libgeo': 'libelle_commune',\n",
    "    'an': 'an',\n",
    "    'part_logt_vacant': 'logements_vacants_%'\n",
    "})\n",
    "table_logements_vacants_com = table_logements_vacants_com[table_logements_vacants_com['an'] == 2020]\n",
    "table_logements_vacants_com.head()"
   ]
  },
  {
   "cell_type": "code",
   "execution_count": 13,
   "metadata": {},
   "outputs": [
    {
     "data": {
      "text/html": [
       "<div>\n",
       "<style scoped>\n",
       "    .dataframe tbody tr th:only-of-type {\n",
       "        vertical-align: middle;\n",
       "    }\n",
       "\n",
       "    .dataframe tbody tr th {\n",
       "        vertical-align: top;\n",
       "    }\n",
       "\n",
       "    .dataframe thead th {\n",
       "        text-align: right;\n",
       "    }\n",
       "</style>\n",
       "<table border=\"1\" class=\"dataframe\">\n",
       "  <thead>\n",
       "    <tr style=\"text-align: right;\">\n",
       "      <th></th>\n",
       "      <th>code_commune</th>\n",
       "      <th>population</th>\n",
       "    </tr>\n",
       "  </thead>\n",
       "  <tbody>\n",
       "    <tr>\n",
       "      <th>0</th>\n",
       "      <td>01053</td>\n",
       "      <td>41 525</td>\n",
       "    </tr>\n",
       "    <tr>\n",
       "      <th>1</th>\n",
       "      <td>01001</td>\n",
       "      <td>832</td>\n",
       "    </tr>\n",
       "    <tr>\n",
       "      <th>2</th>\n",
       "      <td>01002</td>\n",
       "      <td>267</td>\n",
       "    </tr>\n",
       "    <tr>\n",
       "      <th>3</th>\n",
       "      <td>01004</td>\n",
       "      <td>14 854</td>\n",
       "    </tr>\n",
       "    <tr>\n",
       "      <th>4</th>\n",
       "      <td>01005</td>\n",
       "      <td>1 897</td>\n",
       "    </tr>\n",
       "  </tbody>\n",
       "</table>\n",
       "</div>"
      ],
      "text/plain": [
       "  code_commune population\n",
       "0        01053     41 525\n",
       "1        01001        832\n",
       "2        01002        267\n",
       "3        01004     14 854\n",
       "4        01005      1 897"
      ]
     },
     "execution_count": 13,
     "metadata": {},
     "output_type": "execute_result"
    }
   ],
   "source": [
    "table_pop_com=table_pop_com.rename(columns={\n",
    "    'Code commune': 'code_commune',\n",
    "    0: 'population',\n",
    "})\n",
    "table_pop_com['population'] = table_pop_com['population'].str.replace(r'\\s*\\([^)]*\\)\\s*', '', regex=True)\n",
    "table_pop_com.head()"
   ]
  },
  {
   "cell_type": "code",
   "execution_count": 14,
   "metadata": {},
   "outputs": [
    {
     "data": {
      "text/html": [
       "<div>\n",
       "<style scoped>\n",
       "    .dataframe tbody tr th:only-of-type {\n",
       "        vertical-align: middle;\n",
       "    }\n",
       "\n",
       "    .dataframe tbody tr th {\n",
       "        vertical-align: top;\n",
       "    }\n",
       "\n",
       "    .dataframe thead th {\n",
       "        text-align: right;\n",
       "    }\n",
       "</style>\n",
       "<table border=\"1\" class=\"dataframe\">\n",
       "  <thead>\n",
       "    <tr style=\"text-align: right;\">\n",
       "      <th></th>\n",
       "      <th>code_commune</th>\n",
       "      <th>libelle_commune</th>\n",
       "      <th>niveau_de_vie</th>\n",
       "    </tr>\n",
       "  </thead>\n",
       "  <tbody>\n",
       "    <tr>\n",
       "      <th>0</th>\n",
       "      <td>1001</td>\n",
       "      <td>L'Abergement-Clémenciat</td>\n",
       "      <td>24820</td>\n",
       "    </tr>\n",
       "    <tr>\n",
       "      <th>1</th>\n",
       "      <td>1002</td>\n",
       "      <td>L'Abergement-de-Varey</td>\n",
       "      <td>23220</td>\n",
       "    </tr>\n",
       "    <tr>\n",
       "      <th>2</th>\n",
       "      <td>1004</td>\n",
       "      <td>Ambérieu-en-Bugey</td>\n",
       "      <td>21070</td>\n",
       "    </tr>\n",
       "    <tr>\n",
       "      <th>3</th>\n",
       "      <td>1005</td>\n",
       "      <td>Ambérieux-en-Dombes</td>\n",
       "      <td>24380</td>\n",
       "    </tr>\n",
       "    <tr>\n",
       "      <th>4</th>\n",
       "      <td>1006</td>\n",
       "      <td>Ambléon</td>\n",
       "      <td>&lt;NA&gt;</td>\n",
       "    </tr>\n",
       "  </tbody>\n",
       "</table>\n",
       "</div>"
      ],
      "text/plain": [
       "  code_commune          libelle_commune niveau_de_vie\n",
       "0         1001  L'Abergement-Clémenciat         24820\n",
       "1         1002    L'Abergement-de-Varey         23220\n",
       "2         1004        Ambérieu-en-Bugey         21070\n",
       "3         1005      Ambérieux-en-Dombes         24380\n",
       "4         1006                  Ambléon          <NA>"
      ]
     },
     "execution_count": 14,
     "metadata": {},
     "output_type": "execute_result"
    }
   ],
   "source": [
    "table_niveau_vie_com=table_niveau_vie_com.rename(columns={\n",
    "    'Code': 'code_commune',\n",
    "    'Libellé': 'libelle_commune',\n",
    "    'Médiane du revenu disponible par UC 2020': 'niveau_de_vie'\n",
    "})\n",
    "table_niveau_vie_com['niveau_de_vie'] = table_niveau_vie_com['niveau_de_vie'].replace('N/A - résultat non disponible', pd.NA)\n",
    "table_niveau_vie_com.head()"
   ]
  },
  {
   "cell_type": "code",
   "execution_count": 15,
   "metadata": {},
   "outputs": [
    {
     "data": {
      "text/html": [
       "<div>\n",
       "<style scoped>\n",
       "    .dataframe tbody tr th:only-of-type {\n",
       "        vertical-align: middle;\n",
       "    }\n",
       "\n",
       "    .dataframe tbody tr th {\n",
       "        vertical-align: top;\n",
       "    }\n",
       "\n",
       "    .dataframe thead th {\n",
       "        text-align: right;\n",
       "    }\n",
       "</style>\n",
       "<table border=\"1\" class=\"dataframe\">\n",
       "  <thead>\n",
       "    <tr style=\"text-align: right;\">\n",
       "      <th></th>\n",
       "      <th>code_commune</th>\n",
       "      <th>libelle_commune</th>\n",
       "      <th>nombre_entreprises</th>\n",
       "      <th>nombre_entreprises_industrielles</th>\n",
       "    </tr>\n",
       "  </thead>\n",
       "  <tbody>\n",
       "    <tr>\n",
       "      <th>0</th>\n",
       "      <td>1001</td>\n",
       "      <td>L'Abergement-Clémenciat</td>\n",
       "      <td>41</td>\n",
       "      <td>2</td>\n",
       "    </tr>\n",
       "    <tr>\n",
       "      <th>1</th>\n",
       "      <td>1002</td>\n",
       "      <td>L'Abergement-de-Varey</td>\n",
       "      <td>18</td>\n",
       "      <td>3</td>\n",
       "    </tr>\n",
       "    <tr>\n",
       "      <th>2</th>\n",
       "      <td>1004</td>\n",
       "      <td>Ambérieu-en-Bugey</td>\n",
       "      <td>1097</td>\n",
       "      <td>54</td>\n",
       "    </tr>\n",
       "    <tr>\n",
       "      <th>3</th>\n",
       "      <td>1005</td>\n",
       "      <td>Ambérieux-en-Dombes</td>\n",
       "      <td>133</td>\n",
       "      <td>12</td>\n",
       "    </tr>\n",
       "    <tr>\n",
       "      <th>4</th>\n",
       "      <td>1006</td>\n",
       "      <td>Ambléon</td>\n",
       "      <td>7</td>\n",
       "      <td>0</td>\n",
       "    </tr>\n",
       "  </tbody>\n",
       "</table>\n",
       "</div>"
      ],
      "text/plain": [
       "  code_commune          libelle_commune nombre_entreprises  \\\n",
       "0         1001  L'Abergement-Clémenciat                 41   \n",
       "1         1002    L'Abergement-de-Varey                 18   \n",
       "2         1004        Ambérieu-en-Bugey               1097   \n",
       "3         1005      Ambérieux-en-Dombes                133   \n",
       "4         1006                  Ambléon                  7   \n",
       "\n",
       "  nombre_entreprises_industrielles  \n",
       "0                                2  \n",
       "1                                3  \n",
       "2                               54  \n",
       "3                               12  \n",
       "4                                0  "
      ]
     },
     "execution_count": 15,
     "metadata": {},
     "output_type": "execute_result"
    }
   ],
   "source": [
    "table_nb_entr_com = table_nb_entr_com.rename(columns={\n",
    "    'Code': 'code_commune',\n",
    "    'Libellé': 'libelle_commune',\n",
    "    'Nombre d\\'entreprises par secteurs d\\'activité 2021': 'nombre_entreprises',\n",
    "    'Nombre d\\'entreprises par secteurs d\\'activité 2021.1': 'nombre_entreprises_industrielles'\n",
    "})\n",
    "table_nb_entr_com.head()"
   ]
  },
  {
   "cell_type": "code",
   "execution_count": 16,
   "metadata": {},
   "outputs": [
    {
     "data": {
      "text/html": [
       "<div>\n",
       "<style scoped>\n",
       "    .dataframe tbody tr th:only-of-type {\n",
       "        vertical-align: middle;\n",
       "    }\n",
       "\n",
       "    .dataframe tbody tr th {\n",
       "        vertical-align: top;\n",
       "    }\n",
       "\n",
       "    .dataframe thead th {\n",
       "        text-align: right;\n",
       "    }\n",
       "</style>\n",
       "<table border=\"1\" class=\"dataframe\">\n",
       "  <thead>\n",
       "    <tr style=\"text-align: right;\">\n",
       "      <th></th>\n",
       "      <th>code_commune</th>\n",
       "      <th>libelle_commune</th>\n",
       "      <th>an</th>\n",
       "      <th>taux_deplacement_domicile_travail</th>\n",
       "    </tr>\n",
       "  </thead>\n",
       "  <tbody>\n",
       "    <tr>\n",
       "      <th>2</th>\n",
       "      <td>1001</td>\n",
       "      <td>L'Abergement-Clémenciat</td>\n",
       "      <td>2020</td>\n",
       "      <td>1,1</td>\n",
       "    </tr>\n",
       "    <tr>\n",
       "      <th>5</th>\n",
       "      <td>1002</td>\n",
       "      <td>L'Abergement-de-Varey</td>\n",
       "      <td>2020</td>\n",
       "      <td>3,8</td>\n",
       "    </tr>\n",
       "    <tr>\n",
       "      <th>8</th>\n",
       "      <td>1004</td>\n",
       "      <td>Ambérieu-en-Bugey</td>\n",
       "      <td>2020</td>\n",
       "      <td>14</td>\n",
       "    </tr>\n",
       "    <tr>\n",
       "      <th>11</th>\n",
       "      <td>1005</td>\n",
       "      <td>Ambérieux-en-Dombes</td>\n",
       "      <td>2020</td>\n",
       "      <td>2,3</td>\n",
       "    </tr>\n",
       "    <tr>\n",
       "      <th>14</th>\n",
       "      <td>1006</td>\n",
       "      <td>Ambléon</td>\n",
       "      <td>2020</td>\n",
       "      <td>0</td>\n",
       "    </tr>\n",
       "  </tbody>\n",
       "</table>\n",
       "</div>"
      ],
      "text/plain": [
       "   code_commune          libelle_commune    an  \\\n",
       "2          1001  L'Abergement-Clémenciat  2020   \n",
       "5          1002    L'Abergement-de-Varey  2020   \n",
       "8          1004        Ambérieu-en-Bugey  2020   \n",
       "11         1005      Ambérieux-en-Dombes  2020   \n",
       "14         1006                  Ambléon  2020   \n",
       "\n",
       "   taux_deplacement_domicile_travail  \n",
       "2                                1,1  \n",
       "5                                3,8  \n",
       "8                                 14  \n",
       "11                               2,3  \n",
       "14                                 0  "
      ]
     },
     "execution_count": 16,
     "metadata": {},
     "output_type": "execute_result"
    }
   ],
   "source": [
    "table_dep_domtrav_tc = table_dep_domtrav_tc.rename(columns={\n",
    "    'codgeo':'code_commune',\n",
    "    'libgeo':'libelle_commune',\n",
    "    'an':'an',\n",
    "    'part_domtrav_tc':'taux_deplacement_domicile_travail'\n",
    "})\n",
    "table_dep_domtrav_tc = table_dep_domtrav_tc[table_dep_domtrav_tc['an'] == 2020]\n",
    "table_dep_domtrav_tc.head()"
   ]
  },
  {
   "cell_type": "markdown",
   "metadata": {},
   "source": [
    "Traitement des tableaux"
   ]
  },
  {
   "cell_type": "code",
   "execution_count": 17,
   "metadata": {},
   "outputs": [],
   "source": [
    "table_conso_communes=table_conso_com[['code_commune','libelle_commune','consototale']]\n",
    "table_logements_vacants_communes = table_logements_vacants_com.loc[table_logements_vacants_com.groupby('code_commune')['an'].idxmax()]\n",
    "table_nb_entr_communes=table_nb_entr_com[['code_commune','libelle_commune','nombre_entreprises']]\n",
    "table_niveau_vie_communes=table_niveau_vie_com[['code_commune','libelle_commune','niveau_de_vie']]\n",
    "table_pop_communes=table_pop_com[['code_commune','population']]\n",
    "table_temperatures_communes=table_temperatures_com[['code_commune','tmoy']]\n",
    "table_dep_domtrav_tc=table_dep_domtrav_tc[['code_commune','taux_deplacement_domicile_travail']]"
   ]
  },
  {
   "cell_type": "markdown",
   "metadata": {},
   "source": [
    "Harmonisation du format"
   ]
  },
  {
   "cell_type": "code",
   "execution_count": 18,
   "metadata": {},
   "outputs": [],
   "source": [
    "# Liste des DataFrames\n",
    "dataframes = [table_conso_communes, table_logements_vacants_communes, table_nb_entr_communes, table_niveau_vie_communes, table_pop_communes, table_temperatures_communes, table_dep_domtrav_tc]\n",
    "\n",
    "# Boucle à travers les DataFrames\n",
    "for df in dataframes:\n",
    "    # Convertir la colonne 'code_commune' en chaîne de caractères\n",
    "    df['code_commune'] = df['code_commune'].astype(str)\n",
    "    \n",
    "    # Ajouter des zéros à gauche pour avoir 5 chiffres\n",
    "    df['code_commune'] = df['code_commune'].str.zfill(5)\n"
   ]
  },
  {
   "cell_type": "markdown",
   "metadata": {},
   "source": [
    "Fusion deux par deux"
   ]
  },
  {
   "cell_type": "code",
   "execution_count": 19,
   "metadata": {},
   "outputs": [
    {
     "data": {
      "text/html": [
       "<div>\n",
       "<style scoped>\n",
       "    .dataframe tbody tr th:only-of-type {\n",
       "        vertical-align: middle;\n",
       "    }\n",
       "\n",
       "    .dataframe tbody tr th {\n",
       "        vertical-align: top;\n",
       "    }\n",
       "\n",
       "    .dataframe thead th {\n",
       "        text-align: right;\n",
       "    }\n",
       "</style>\n",
       "<table border=\"1\" class=\"dataframe\">\n",
       "  <thead>\n",
       "    <tr style=\"text-align: right;\">\n",
       "      <th></th>\n",
       "      <th>code_commune</th>\n",
       "      <th>libelle_commune</th>\n",
       "      <th>consototale</th>\n",
       "      <th>logements_vacants_%</th>\n",
       "      <th>nombre_entreprises</th>\n",
       "      <th>niveau_de_vie</th>\n",
       "      <th>population</th>\n",
       "      <th>tmoy</th>\n",
       "      <th>taux_deplacement_domicile_travail</th>\n",
       "    </tr>\n",
       "  </thead>\n",
       "  <tbody>\n",
       "    <tr>\n",
       "      <th>0</th>\n",
       "      <td>01001</td>\n",
       "      <td>L'Abergement-Clémenciat</td>\n",
       "      <td>3597.380676</td>\n",
       "      <td>5,7</td>\n",
       "      <td>41</td>\n",
       "      <td>24820</td>\n",
       "      <td>832</td>\n",
       "      <td>11.875</td>\n",
       "      <td>1,1</td>\n",
       "    </tr>\n",
       "    <tr>\n",
       "      <th>1</th>\n",
       "      <td>01002</td>\n",
       "      <td>L'Abergement-de-Varey</td>\n",
       "      <td>1220.681183</td>\n",
       "      <td>8,8</td>\n",
       "      <td>18</td>\n",
       "      <td>23220</td>\n",
       "      <td>267</td>\n",
       "      <td>11.875</td>\n",
       "      <td>3,8</td>\n",
       "    </tr>\n",
       "    <tr>\n",
       "      <th>2</th>\n",
       "      <td>01004</td>\n",
       "      <td>Ambérieu-en-Bugey</td>\n",
       "      <td>79747.076997</td>\n",
       "      <td>9,9</td>\n",
       "      <td>1097</td>\n",
       "      <td>21070</td>\n",
       "      <td>14 854</td>\n",
       "      <td>11.875</td>\n",
       "      <td>14</td>\n",
       "    </tr>\n",
       "    <tr>\n",
       "      <th>3</th>\n",
       "      <td>01006</td>\n",
       "      <td>Ambléon</td>\n",
       "      <td>431.475874</td>\n",
       "      <td>10,8</td>\n",
       "      <td>7</td>\n",
       "      <td>&lt;NA&gt;</td>\n",
       "      <td>113</td>\n",
       "      <td>11.875</td>\n",
       "      <td>0</td>\n",
       "    </tr>\n",
       "    <tr>\n",
       "      <th>4</th>\n",
       "      <td>01007</td>\n",
       "      <td>Ambronay</td>\n",
       "      <td>16454.806074</td>\n",
       "      <td>4</td>\n",
       "      <td>157</td>\n",
       "      <td>24330</td>\n",
       "      <td>2 833</td>\n",
       "      <td>11.875</td>\n",
       "      <td>8</td>\n",
       "    </tr>\n",
       "  </tbody>\n",
       "</table>\n",
       "</div>"
      ],
      "text/plain": [
       "  code_commune          libelle_commune   consototale logements_vacants_%  \\\n",
       "0        01001  L'Abergement-Clémenciat   3597.380676                 5,7   \n",
       "1        01002    L'Abergement-de-Varey   1220.681183                 8,8   \n",
       "2        01004        Ambérieu-en-Bugey  79747.076997                 9,9   \n",
       "3        01006                  Ambléon    431.475874                10,8   \n",
       "4        01007                 Ambronay  16454.806074                   4   \n",
       "\n",
       "  nombre_entreprises niveau_de_vie population    tmoy  \\\n",
       "0                 41         24820        832  11.875   \n",
       "1                 18         23220        267  11.875   \n",
       "2               1097         21070     14 854  11.875   \n",
       "3                  7          <NA>        113  11.875   \n",
       "4                157         24330      2 833  11.875   \n",
       "\n",
       "  taux_deplacement_domicile_travail  \n",
       "0                               1,1  \n",
       "1                               3,8  \n",
       "2                                14  \n",
       "3                                 0  \n",
       "4                                 8  "
      ]
     },
     "execution_count": 19,
     "metadata": {},
     "output_type": "execute_result"
    }
   ],
   "source": [
    "# Fusion des DataFrames\n",
    "df_merged = table_conso_communes.merge(table_logements_vacants_communes, on='code_commune', how='outer')\n",
    "df_merged = df_merged.merge(table_nb_entr_communes, on='code_commune', how='outer', suffixes=('', '_entr'))\n",
    "df_merged = df_merged.merge(table_niveau_vie_communes, on='code_commune', how='outer', suffixes=('', '_nv'))\n",
    "df_merged = df_merged.merge(table_pop_communes, on='code_commune', how='outer')\n",
    "df_merged = df_merged.merge(table_temperatures_communes, on='code_commune', how='outer')\n",
    "df_merged = df_merged.merge(table_dep_domtrav_tc, on='code_commune', how='outer')\n",
    "\n",
    "# Nettoyage des colonnes\n",
    "table_donnees = df_merged[['code_commune', 'libelle_commune', 'consototale', 'logements_vacants_%', 'nombre_entreprises', 'niveau_de_vie', 'population', 'tmoy','taux_deplacement_domicile_travail']]\n",
    "table_donnees.head()"
   ]
  },
  {
   "cell_type": "code",
   "execution_count": 20,
   "metadata": {},
   "outputs": [
    {
     "data": {
      "text/html": [
       "<div>\n",
       "<style scoped>\n",
       "    .dataframe tbody tr th:only-of-type {\n",
       "        vertical-align: middle;\n",
       "    }\n",
       "\n",
       "    .dataframe tbody tr th {\n",
       "        vertical-align: top;\n",
       "    }\n",
       "\n",
       "    .dataframe thead th {\n",
       "        text-align: right;\n",
       "    }\n",
       "</style>\n",
       "<table border=\"1\" class=\"dataframe\">\n",
       "  <thead>\n",
       "    <tr style=\"text-align: right;\">\n",
       "      <th></th>\n",
       "      <th>code_commune</th>\n",
       "      <th>libelle_commune</th>\n",
       "      <th>consototale</th>\n",
       "      <th>logements_vacants_%</th>\n",
       "      <th>nombre_entreprises</th>\n",
       "      <th>niveau_de_vie</th>\n",
       "      <th>population</th>\n",
       "      <th>tmoy</th>\n",
       "      <th>taux_deplacement_domicile_travail</th>\n",
       "    </tr>\n",
       "  </thead>\n",
       "  <tbody>\n",
       "    <tr>\n",
       "      <th>0</th>\n",
       "      <td>01001</td>\n",
       "      <td>L'Abergement-Clémenciat</td>\n",
       "      <td>3597.380676</td>\n",
       "      <td>5.7</td>\n",
       "      <td>41.0</td>\n",
       "      <td>24820.0</td>\n",
       "      <td>832.0</td>\n",
       "      <td>11.875</td>\n",
       "      <td>1.1</td>\n",
       "    </tr>\n",
       "    <tr>\n",
       "      <th>1</th>\n",
       "      <td>01002</td>\n",
       "      <td>L'Abergement-de-Varey</td>\n",
       "      <td>1220.681183</td>\n",
       "      <td>8.8</td>\n",
       "      <td>18.0</td>\n",
       "      <td>23220.0</td>\n",
       "      <td>267.0</td>\n",
       "      <td>11.875</td>\n",
       "      <td>3.8</td>\n",
       "    </tr>\n",
       "    <tr>\n",
       "      <th>2</th>\n",
       "      <td>01004</td>\n",
       "      <td>Ambérieu-en-Bugey</td>\n",
       "      <td>79747.076997</td>\n",
       "      <td>9.9</td>\n",
       "      <td>1097.0</td>\n",
       "      <td>21070.0</td>\n",
       "      <td>14854.0</td>\n",
       "      <td>11.875</td>\n",
       "      <td>14.0</td>\n",
       "    </tr>\n",
       "    <tr>\n",
       "      <th>3</th>\n",
       "      <td>01006</td>\n",
       "      <td>Ambléon</td>\n",
       "      <td>431.475874</td>\n",
       "      <td>10.8</td>\n",
       "      <td>7.0</td>\n",
       "      <td>NaN</td>\n",
       "      <td>113.0</td>\n",
       "      <td>11.875</td>\n",
       "      <td>0.0</td>\n",
       "    </tr>\n",
       "    <tr>\n",
       "      <th>4</th>\n",
       "      <td>01007</td>\n",
       "      <td>Ambronay</td>\n",
       "      <td>16454.806074</td>\n",
       "      <td>4.0</td>\n",
       "      <td>157.0</td>\n",
       "      <td>24330.0</td>\n",
       "      <td>2833.0</td>\n",
       "      <td>11.875</td>\n",
       "      <td>8.0</td>\n",
       "    </tr>\n",
       "  </tbody>\n",
       "</table>\n",
       "</div>"
      ],
      "text/plain": [
       "  code_commune          libelle_commune   consototale  logements_vacants_%  \\\n",
       "0        01001  L'Abergement-Clémenciat   3597.380676                  5.7   \n",
       "1        01002    L'Abergement-de-Varey   1220.681183                  8.8   \n",
       "2        01004        Ambérieu-en-Bugey  79747.076997                  9.9   \n",
       "3        01006                  Ambléon    431.475874                 10.8   \n",
       "4        01007                 Ambronay  16454.806074                  4.0   \n",
       "\n",
       "   nombre_entreprises  niveau_de_vie  population    tmoy  \\\n",
       "0                41.0        24820.0       832.0  11.875   \n",
       "1                18.0        23220.0       267.0  11.875   \n",
       "2              1097.0        21070.0     14854.0  11.875   \n",
       "3                 7.0            NaN       113.0  11.875   \n",
       "4               157.0        24330.0      2833.0  11.875   \n",
       "\n",
       "   taux_deplacement_domicile_travail  \n",
       "0                                1.1  \n",
       "1                                3.8  \n",
       "2                               14.0  \n",
       "3                                0.0  \n",
       "4                                8.0  "
      ]
     },
     "execution_count": 20,
     "metadata": {},
     "output_type": "execute_result"
    }
   ],
   "source": [
    "# Liste des variables explicatives\n",
    "variables_modele = ['consototale', 'logements_vacants_%', 'nombre_entreprises', 'niveau_de_vie', 'population', 'tmoy', 'taux_deplacement_domicile_travail']\n",
    "\n",
    "# Convertir les colonnes en type chaîne\n",
    "table_donnees_test = table_donnees[variables_modele].astype(str)\n",
    "\n",
    "# Nettoyer les colonnes avec des virgules et convertir en float\n",
    "for variable in variables_modele:\n",
    "    table_donnees_test[variable] = table_donnees_test[variable].str.replace(',', '.')\n",
    "    table_donnees_test[variable] = table_donnees_test[variable].str.replace('\\xa0', ' ')\n",
    "    table_donnees_test[variable] = table_donnees_test[variable].str.replace(' ', '')\n",
    "    table_donnees_test[variable] = pd.to_numeric(table_donnees_test[variable], errors='coerce')  # Convertir en float avec gestion des erreurs\n",
    "\n",
    "# Remplacez les colonnes d'origine par les colonnes nettoyées et converties\n",
    "table_donnees[variables_modele] = table_donnees_test\n",
    "\n",
    "# Afficher le DataFrame mis à jour\n",
    "table_donnees.head()\n"
   ]
  },
  {
   "cell_type": "markdown",
   "metadata": {},
   "source": [
    "#### Nettoyage de la mémoire"
   ]
  },
  {
   "cell_type": "markdown",
   "metadata": {},
   "source": [
    "Le nettoyage de la mémoire en Python est crucial pour optimiser l'utilisation des ressources. Libérer la mémoire non utilisée prévient les fuites, améliore les performances et évite les surcharges. Cela garantit une exécution fluide du programme, particulièrement important dans les environnements gérant de grandes quantités de données. En résumé, le nettoyage de la mémoire est une pratique essentielle pour assurer l'efficacité et la stabilité des programmes Python."
   ]
  },
  {
   "cell_type": "code",
   "execution_count": 21,
   "metadata": {},
   "outputs": [
    {
     "data": {
      "text/plain": [
       "58849"
      ]
     },
     "execution_count": 21,
     "metadata": {},
     "output_type": "execute_result"
    }
   ],
   "source": [
    "# 1. Identifier tous les objets DataFrame\n",
    "all_vars = globals().copy() # ou locals() si vous êtes dans une fonction locale\n",
    "for name, obj in all_vars.items():\n",
    "    if isinstance(obj, pd.DataFrame) and name != \"table_donnees\":\n",
    "        # 2. Supprimer tous sauf \"table_donnees\"\n",
    "        del globals()[name]\n",
    "\n",
    "# 3. Utiliser le garbage collector\n",
    "gc.collect()"
   ]
  },
  {
   "cell_type": "markdown",
   "metadata": {},
   "source": [
    "# 3. Analyse et Visualisation"
   ]
  },
  {
   "cell_type": "markdown",
   "metadata": {},
   "source": [
    "## Statistiques descriptives"
   ]
  },
  {
   "cell_type": "markdown",
   "metadata": {},
   "source": [
    "### Stats générales"
   ]
  },
  {
   "cell_type": "code",
   "execution_count": 22,
   "metadata": {},
   "outputs": [
    {
     "name": "stdout",
     "output_type": "stream",
     "text": [
      "\n",
      "Statistiques descriptives :\n",
      "         consototale  logements_vacants_%  nombre_entreprises  niveau_de_vie  \\\n",
      "count  3.505000e+04         34976.000000        34997.000000   31327.000000   \n",
      "mean   1.034567e+04             8.721675          163.330714   22512.629680   \n",
      "std    4.391298e+04             4.810829         3119.999858    3041.387711   \n",
      "min    0.000000e+00             0.000000            0.000000   11780.000000   \n",
      "25%    8.878311e+02             5.400000           10.000000   20600.000000   \n",
      "50%    2.143591e+03             7.900000           25.000000   22060.000000   \n",
      "75%    6.160999e+03            11.300000           72.000000   23900.000000   \n",
      "max    2.756751e+06           100.000000       551111.000000   51340.000000   \n",
      "\n",
      "          population          tmoy  taux_deplacement_domicile_travail  \n",
      "count   34865.000000  34865.000000                       34882.000000  \n",
      "mean     1819.747311     12.435000                           2.984895  \n",
      "std      9571.330378      1.418958                           5.809877  \n",
      "min         0.000000      8.895833                           0.000000  \n",
      "25%       196.000000     11.400000                           0.000000  \n",
      "50%       455.000000     12.012500                           0.500000  \n",
      "75%      1156.000000     13.162500                           3.800000  \n",
      "max    873076.000000     17.627500                         100.000000  \n"
     ]
    }
   ],
   "source": [
    "# Statistiques descriptives pour les colonnes numériques\n",
    "stats_descriptives = table_donnees.describe()\n",
    "\n",
    "# Affichage des résultats\n",
    "print(\"\\nStatistiques descriptives :\\n\", stats_descriptives)"
   ]
  },
  {
   "cell_type": "markdown",
   "metadata": {},
   "source": [
    "#### Consommation Totale (consototale) :<br>\n",
    "* Moyenne : 10 346 kWh.<br>\n",
    "* Médiane : 2 144 kWh. Cela indique une distribution asymétrique à droite (positivement biaisée).<br>\n",
    "* Valeur maximale : 2 756 751 kWh. Cela montre une grande variabilité dans la consommation d'électricité entre les communes.<br>\n",
    "\n",
    "#### Taux de Logements Vacants en Pourcentage (logements_vacants_%):\n",
    "* Moyenne : 8.72%.<br>\n",
    "* Médiane : 7.9%.  Cela indique une distribution asymétrique à droite.<br>\n",
    "* Valeur maximale : 100%. Cela suggère la présence de communes entièrement composées de logements vacants.<br>\n",
    "\n",
    "#### Nombre d'Entreprises (nombre_entreprises):\n",
    "* Moyenne : 163.<br>\n",
    "* Médiane : 25. Cela indique une distribution fortement asymétrique à droite.<br>\n",
    "* Valeur maximale : 551 111. Cela peut indiquer des valeurs aberrantes ou une forte disparité entre les communes.<br>\n",
    "\n",
    "#### Niveau de Vie (niveau_de_vie):\n",
    "* Moyenne : 22 513.<br>\n",
    "* Médiane : 22 060. Cela montre une distribution relativement symétrique.<br>\n",
    "* Valeur maximale : 51 340. Cela suggère la présence de communes avec un niveau de vie très élevé.<br>\n",
    "\n",
    "#### Population:\n",
    "* Moyenne : 1 815.<br>\n",
    "* Médiane : 454. Cela indique une distribution asymétrique à droite.<br>\n",
    "* Valeur maximale : 870 321. Cela montre une grande disparité entre les communes en termes de population.<br>\n",
    "\n",
    "#### Température Moyenne (tmoy):\n",
    "* Moyenne : 12.44 °C.<br>\n",
    "* Médiane : 12.01 °C. Cela suggère une distribution relativement symétrique.<br>\n",
    "* Valeur minimale : 8.90 °C <br>\n",
    "* Valeur maximale : 17.63 °C <br>\n",
    "\n",
    "#### Taux de Déplacement Domicile-Travail en Transport en Commun (taux_deplacement_domicile_travail):\n",
    "* Moyenne : 2.98%.<br>\n",
    "* Médiane : 0.5%. Cela indique une distribution fortement asymétrique à droite.<br>\n",
    "* Valeur maximale : 100%. Cela suggère la présence de communes où l'ensemble de la population utilise les transports en commun pour se rendre au travail.<br>\n"
   ]
  },
  {
   "cell_type": "markdown",
   "metadata": {},
   "source": [
    "Pour une exploration visuelle optimale de nos données, envisagez l'utilisation des histogrammes, des estimations de densité, ainsi que des boxplots pour chaque variable. Les histogrammes dévoilent la distribution de manière accessible, les estimations de densité fournissent des courbes lisses capturant des nuances continues, tandis que les boxplots offrent une synthèse visuelle des principales caractéristiques."
   ]
  },
  {
   "cell_type": "code",
   "execution_count": 23,
   "metadata": {},
   "outputs": [
    {
     "data": {
      "image/png": "[encoded data removed]",
      "text/plain": [
       "<Figure size 1000x600 with 1 Axes>"
      ]
     },
     "metadata": {},
     "output_type": "display_data"
    },
    {
     "data": {
      "image/png": "[encoded data removed]",
      "text/plain": [
       "<Figure size 1000x600 with 1 Axes>"
      ]
     },
     "metadata": {},
     "output_type": "display_data"
    },
    {
     "data": {
      "image/png": "[encoded data removed]",
      "text/plain": [
       "<Figure size 1000x600 with 1 Axes>"
      ]
     },
     "metadata": {},
     "output_type": "display_data"
    },
    {
     "data": {
      "image/png": "[encoded data removed]",
      "text/plain": [
       "<Figure size 1000x600 with 1 Axes>"
      ]
     },
     "metadata": {},
     "output_type": "display_data"
    },
    {
     "data": {
      "image/png": "[encoded data removed]",
      "text/plain": [
       "<Figure size 1000x600 with 1 Axes>"
      ]
     },
     "metadata": {},
     "output_type": "display_data"
    },
    {
     "data": {
      "image/png": "[encoded data removed]",
      "text/plain": [
       "<Figure size 1000x600 with 1 Axes>"
      ]
     },
     "metadata": {},
     "output_type": "display_data"
    },
    {
     "data": {
      "image/png": "[encoded data removed]",
      "text/plain": [
       "<Figure size 1000x600 with 1 Axes>"
      ]
     },
     "metadata": {},
     "output_type": "display_data"
    },
    {
     "data": {
      "image/png": "[encoded data removed]",
      "text/plain": [
       "<Figure size 1000x600 with 1 Axes>"
      ]
     },
     "metadata": {},
     "output_type": "display_data"
    },
    {
     "data": {
      "image/png": "[encoded data removed]",
      "text/plain": [
       "<Figure size 1000x600 with 1 Axes>"
      ]
     },
     "metadata": {},
     "output_type": "display_data"
    },
    {
     "data": {
      "image/png": "[encoded data removed]",
      "text/plain": [
       "<Figure size 1000x600 with 1 Axes>"
      ]
     },
     "metadata": {},
     "output_type": "display_data"
    },
    {
     "data": {
      "image/png": "[encoded data removed]",
      "text/plain": [
       "<Figure size 1000x600 with 1 Axes>"
      ]
     },
     "metadata": {},
     "output_type": "display_data"
    },
    {
     "data": {
      "image/png": "[encoded data removed]",
      "text/plain": [
       "<Figure size 1000x600 with 1 Axes>"
      ]
     },
     "metadata": {},
     "output_type": "display_data"
    },
    {
     "data": {
      "image/png": "[encoded data removed]",
      "text/plain": [
       "<Figure size 1000x600 with 1 Axes>"
      ]
     },
     "metadata": {},
     "output_type": "display_data"
    },
    {
     "data": {
      "image/png": "[encoded data removed]",
      "text/plain": [
       "<Figure size 1000x600 with 1 Axes>"
      ]
     },
     "metadata": {},
     "output_type": "display_data"
    }
   ],
   "source": [
    "warnings.filterwarnings('ignore')\n",
    "\n",
    "# Configuration du style des graphiques\n",
    "sns.set(style=\"whitegrid\")\n",
    "\n",
    "# Histogrammes améliorés pour les variables numériques\n",
    "for col in variables_modele:\n",
    "    plt.figure(figsize=(10, 6))\n",
    "    sns.histplot(table_donnees[col], kde=True, color=\"skyblue\", edgecolor='black', bins=30)\n",
    "    plt.title(f'Distribution de {col}')\n",
    "    plt.xlabel(col)\n",
    "    plt.ylabel('Fréquence')\n",
    "    plt.show()\n",
    "\n",
    "# Boxplots améliorés pour les variables numériques\n",
    "for col in variables_modele:\n",
    "    plt.figure(figsize=(10, 6))\n",
    "    sns.boxplot(x=table_donnees[col], palette=\"Set2\")\n",
    "    plt.title(f'Boxplot de {col}')\n",
    "    plt.show()\n"
   ]
  },
  {
   "cell_type": "markdown",
   "metadata": {},
   "source": [
    "On observe pour plusieurs variables (consototale, nombre entreprise et population) une boîte à moustaches écrasée dans le boxplot et des barres fortement concentrées dans l'histogramme, masquant ainsi les détails de la dispersion dans la partie concentrée des données. La visualisation d'un tel boxplot/histogramme peut devenir complexe. Ceci est dû au fait que la plupart des données sont concentrées dans un intervalle étroit, tandis qu'une partie importante s'étend sur une échelle beaucoup plus large."
   ]
  },
  {
   "cell_type": "markdown",
   "metadata": {},
   "source": [
    "### Focus sur la température"
   ]
  },
  {
   "cell_type": "code",
   "execution_count": 24,
   "metadata": {},
   "outputs": [],
   "source": [
    "#Max min\n",
    "Mt=table_donnees['tmoy'].max()\n",
    "mt=table_donnees['tmoy'].min()\n",
    "#on distingue trois groupes de communes selon la température pour observer les causalités et les corrélations.\n",
    "table_donnees['grp_tmp']=[ \"Chaud\" if t > 2*(Mt-mt)/3 +mt  else (\"Froid\" if t < (Mt-mt)/3 +mt else \"Tempéré\") for t in table_donnees['tmoy']]\n"
   ]
  },
  {
   "cell_type": "code",
   "execution_count": 25,
   "metadata": {},
   "outputs": [
    {
     "data": {
      "text/plain": [
       "<seaborn.axisgrid.FacetGrid at 0x7f7bd7afa740>"
      ]
     },
     "execution_count": 25,
     "metadata": {},
     "output_type": "execute_result"
    },
    {
     "data": {
      "image/png": "[encoded data removed]",
      "text/plain": [
       "<Figure size 1320.88x600 with 1 Axes>"
      ]
     },
     "metadata": {},
     "output_type": "display_data"
    }
   ],
   "source": [
    "custom_palette = {'Chaud': 'red', 'Tempéré': 'green', 'Froid': 'blue'}\n",
    "sns.relplot(data=table_donnees, y=\"consototale\", x=\"tmoy\", hue=\"grp_tmp\", height=6, aspect=2,palette=custom_palette)"
   ]
  },
  {
   "cell_type": "markdown",
   "metadata": {},
   "source": [
    "Ce graphique permet de mettre en évidence la consomation des communes en fonction de la température. Nous pouvons remarquer qu'il semblerait que les communes avec des climats \"froids\" et \"tempérés\" consomment davatange (au delà de 0.5) comparé aux communes avec un \"climat chaud\". Cependant, le graphique ne possède pas de réelle relation décroissante entre consommation et température, d'autres facteurs que la météo influencent donc la consomation d'énergie."
   ]
  },
  {
   "cell_type": "code",
   "execution_count": null,
   "metadata": {},
   "outputs": [
    {
     "data": {
      "text/plain": [
       "<seaborn.axisgrid.PairGrid at 0x7f7bd7bbc9a0>"
      ]
     },
     "execution_count": 26,
     "metadata": {},
     "output_type": "execute_result"
    }
   ],
   "source": [
    "sns.pairplot(data=table_donnees, hue=\"grp_tmp\",palette=custom_palette)"
   ]
  },
  {
   "cell_type": "markdown",
   "metadata": {
    "jp-MarkdownHeadingCollapsed": true
   },
   "source": [
    "L'intérêt de ce graphique est de cerner les possibles relations entre les variables. On observe une possible relation linéaire entre population et nombre_entreprises"
   ]
  },
  {
   "cell_type": "markdown",
   "metadata": {},
   "source": [
    "## Analyse géographique : cartes"
   ]
  },
  {
   "cell_type": "markdown",
   "metadata": {},
   "source": [
    "Dans cette section, nous explorerons le jeu de de données d'un point de vue graphique. La cartographie de ces données nous permettra d'appréhender les disparités géographiques, de mettre en lumière des tendances régionales/départementales, et d'identifier des schémas spatiaux significatifs. Les nuances de couleur, les concentrations et les disparités géographiques seront autant d'éléments mis en évidence pour aider à comprendre les dynamiques et les caractéristiques propres à chaque commune."
   ]
  },
  {
   "cell_type": "code",
   "execution_count": null,
   "metadata": {},
   "outputs": [],
   "source": [
    "# fond de carte metropole commune\n",
    "metropole_communes = s3.download_vectorfile_url_all(\n",
    "      values = \"metropole\",\n",
    "      crs = 4326,\n",
    "      borders = \"COMMUNE\",\n",
    "      vectorfile_format=\"topojson\",\n",
    "      filter_by=\"FRANCE_ENTIERE\",\n",
    "      source=\"EXPRESS-COG-CARTO-TERRITOIRE\",\n",
    "      year=2022)\n",
    "metropole_communes.rename(columns={'INSEE_COM': 'code_commune'}, inplace=True)\n",
    "metropole_communes = metropole_communes.drop('territoire', axis=1)"
   ]
  },
  {
   "cell_type": "code",
   "execution_count": null,
   "metadata": {},
   "outputs": [],
   "source": [
    "# fond de carte Dom TOM\n",
    "dom_tom_communes = s3.download_vectorfile_url_all(\n",
    "      values = [\"971\",\"972\",\"973\",\"974\"],\n",
    "      crs = 4326,\n",
    "      borders = \"COMMUNE\",\n",
    "      vectorfile_format=\"topojson\",\n",
    "      filter_by=\"DEPARTEMENT\",\n",
    "      source=\"EXPRESS-COG-CARTO-TERRITOIRE\",\n",
    "      year=2022)\n",
    "dom_tom_communes.rename(columns={'INSEE_COM': 'code_commune'}, inplace=True)"
   ]
  },
  {
   "cell_type": "code",
   "execution_count": null,
   "metadata": {},
   "outputs": [],
   "source": [
    "#Copie du data frame pour visualiser les cartes\n",
    "df= table_donnees.copy()"
   ]
  },
  {
   "cell_type": "code",
   "execution_count": null,
   "metadata": {},
   "outputs": [],
   "source": [
    "def generer_carte(variable):\n",
    "    \n",
    "    carte = pd.merge(df, metropole_communes[[\"code_commune\", \"geometry\"]], on=\"code_commune\", how='inner')\n",
    "    gdf = gpd.GeoDataFrame(carte, geometry='geometry')\n",
    "    fig, ax = plt.subplots(figsize=(30, 30))\n",
    "    \n",
    "    vmin = gdf[variable].min()\n",
    "    vcenter = gdf[variable].mean()\n",
    "    vmax = gdf[variable].max()\n",
    "\n",
    "    cmap = 'coolwarm' if variable == 'tmoy' else 'RdYlGn_r'\n",
    "    linewidth = 0.05 if variable == 'tmoy' else 0.5\n",
    "    \n",
    "    norm = TwoSlopeNorm(vmin=vmin, vcenter=vcenter, vmax=vmax)\n",
    "\n",
    "    # Tracé de la carte avec la couleur basée sur la variable spécifiée\n",
    "    gdf.plot(column=variable, cmap=cmap, linewidth=linewidth, ax=ax, edgecolor='0.8', norm=norm)\n",
    "\n",
    "    # Ajout d'une barre de couleur :\n",
    "    divider = make_axes_locatable(ax)\n",
    "    cax = divider.append_axes(\"right\", size=\"2%\", pad=0.5)\n",
    "\n",
    "    # Utilisez la colonne normalisée pour la barre de couleur\n",
    "    sm = plt.cm.ScalarMappable(cmap=cmap, norm=norm)\n",
    "    sm._A = []\n",
    "    cbar = plt.colorbar(sm, cax=cax)\n",
    "\n",
    "    # Suppression des axes\n",
    "    ax.set_axis_off()\n",
    "\n",
    "    # Ajouter un titre à la carte\n",
    "    plt.suptitle(f\"Carte de France - {variable}\", fontsize=20, x=0.5, y=0.75)\n",
    "\n",
    "    # Afficher la carte\n",
    "    plt.show()"
   ]
  },
  {
   "cell_type": "code",
   "execution_count": null,
   "metadata": {},
   "outputs": [],
   "source": [
    "generer_carte('consototale')"
   ]
  },
  {
   "cell_type": "markdown",
   "metadata": {},
   "source": [
    "On observe une consommation d'électricité relativement élevé dans les zone urbaines fortement peuplés, telles que la région parisienne, lyonnaise, lilloises, bordelaise ou encore en côte d'azur. A l'inverse, les zones moins peuplées semblent présenter des consommations d'électricité plus modestes : on le constate nottament grâce au code couleur de la carte sur la diagonale du vide. \n",
    "\n",
    "Suite à l'observation de cette disparité de la consommation d'électricité selon la population, nous pouvons penser que la consommation d'energie dépends de façon linéaire et uniquement de la variable de population. Pour aller plus loin dans cette piste, nous décidons de regarder la consommation d'électricité par tête au niveau communale, ainsi, on corrige l'effet taille, et on observe l'effet de toutes les autres variables sur la consommation d'électricité "
   ]
  },
  {
   "cell_type": "code",
   "execution_count": null,
   "metadata": {},
   "outputs": [],
   "source": [
    "# Création de la variable consommation par tête\n",
    "df[\"consommation_par_tête\"] = df[\"consototale\"]/df[\"population\"]"
   ]
  },
  {
   "cell_type": "code",
   "execution_count": null,
   "metadata": {},
   "outputs": [],
   "source": [
    "generer_carte('consommation_par_tête')"
   ]
  },
  {
   "cell_type": "markdown",
   "metadata": {},
   "source": [
    "Nouvelles conclusions, consommation dans les alpes plus forte. À la différence de la carte précédente, les données semblent présenter une dispersion moindre entre les communes. L'inégalité de la carte suggère que la consommation d'énergie ne dépend pas linéairement de la population seule. Néanmoins, l'homogénéité des couleurs sur la carte indique que la population joue un rôle prépondérant dans l'explication de la consommation d'électricité. Ces constatations renforcent l'idée que la population est un facteur déterminant, bien que d'autres variables puissent également influencer cette relation complexe.\n",
    "\n",
    "Nous pourrons confirmer ou infirmer ces hypothèses dans la partie qui suit : Modélisation"
   ]
  },
  {
   "cell_type": "code",
   "execution_count": null,
   "metadata": {},
   "outputs": [],
   "source": [
    "variables_explicatives = ['logements_vacants_%', 'nombre_entreprises', 'niveau_de_vie', 'population', 'tmoy', 'taux_deplacement_domicile_travail']\n",
    "\n",
    "# Générer les cartes pour chaque variable explicative\n",
    "for variable in variables_explicatives :\n",
    "    generer_carte(variable)"
   ]
  },
  {
   "cell_type": "code",
   "execution_count": null,
   "metadata": {},
   "outputs": [],
   "source": [
    "# 1. Identifier tous les objets GeoDataFrame\n",
    "all_vars = globals().copy() # ou locals() si vous êtes dans une fonction locale\n",
    "for name, obj in all_vars.items():\n",
    "    if isinstance(obj, gpd.GeoDataFrame):\n",
    "        # 2. Supprimer tous sauf le GeoDataFrame désiré\n",
    "        del globals()[name]\n",
    "\n",
    "# 1. Identifier tous les objets DataFrame\n",
    "all_vars = globals().copy() # ou locals() si vous êtes dans une fonction locale\n",
    "for name, obj in all_vars.items():\n",
    "    if isinstance(obj, pd.DataFrame) and name != \"table_donnees\":\n",
    "        # 2. Supprimer tous sauf \"table_donnees\"\n",
    "        del globals()[name]\n",
    "\n",
    "# 3. Utiliser le garbage collector\n",
    "gc.collect()"
   ]
  },
  {
   "cell_type": "markdown",
   "metadata": {},
   "source": [
    "# 4. Modélisation et Prédictions"
   ]
  },
  {
   "cell_type": "markdown",
   "metadata": {},
   "source": [
    "## Modèle initial : régression linéaire sur toutes les variables"
   ]
  },
  {
   "cell_type": "markdown",
   "metadata": {},
   "source": [
    "Notre variable expliquée est quantitative. C'est donc naturellement que, dans un premier temps, nous essayons de créer un modèle de régression linéaire multiple, avec les variables explicatives préalablement traités."
   ]
  },
  {
   "cell_type": "markdown",
   "metadata": {},
   "source": [
    "### Préparation des données"
   ]
  },
  {
   "cell_type": "markdown",
   "metadata": {},
   "source": [
    "#### Suppression des données manquantes"
   ]
  },
  {
   "cell_type": "code",
   "execution_count": null,
   "metadata": {},
   "outputs": [],
   "source": [
    "table_donnees=table_donnees.dropna()\n",
    "table_donnees"
   ]
  },
  {
   "cell_type": "markdown",
   "metadata": {},
   "source": [
    "#### Matrice de corrélation :"
   ]
  },
  {
   "cell_type": "markdown",
   "metadata": {},
   "source": [
    "Une analyse de la matrice de corrélation est importante avant de lancer une régression linéaire multiple. Cette analyse permet d'identifier les relations linéaires entre chaque paire de variables. On peut ainsi repérer des redondances ou colinéarités qui pourraient affecter la stabilité des coefficients de régression. En anticipant ces situations, on peut ajuster le modèle, éliminant les variables redondantes et prévenant les problèmes d'instabilité."
   ]
  },
  {
   "cell_type": "code",
   "execution_count": null,
   "metadata": {},
   "outputs": [],
   "source": [
    "# Calcul de la matrice de corrélation\n",
    "matrice_correlation = table_donnees[variables_modele].corr()\n",
    "\n",
    "# Configuration de la palette de couleurs\n",
    "palette = sns.diverging_palette(220, 20, as_cmap=True)\n",
    "\n",
    "# Création de la heatmap avec Seaborn et attribution à une variable\n",
    "heatmap = sns.heatmap(matrice_correlation, annot=True, cmap=palette, vmin=-1, vmax=1)\n",
    "\n",
    "# Affichage des noms de variables en haut de la matrice\n",
    "heatmap.set_xticklabels(heatmap.get_xticklabels(), rotation=45, ha='right')\n",
    "\n",
    "# Affichage de la matrice de corrélation\n",
    "plt.show()"
   ]
  },
  {
   "cell_type": "markdown",
   "metadata": {},
   "source": [
    "#### Analyse de la Matrice de Corrélation :\n",
    "\n",
    "En observant la première ligne de la matrice de corrélation, nous examinons les relations entre la variable explicative et chacune des variables expliquées. Nous constatons une corrélation quasi nulle entre la population et le taux de logements vacants, le niveau de vie, ainsi que la température moyenne. En revanche, une corrélation empirique robuste se dessine entre la consommation totale et le nombre d'entreprises, la taille de la population, et le taux de déplacement domicile-travail en transports en commun. Ces variables émergent comme potentiellement cruciales pour notre modèle de régression.\n",
    "\n",
    "Par ailleurs, une corrélation quasi parfaite se manifeste entre le nombre d'entreprises et la population, soulignant une relation étroite entre ces deux variables. Enfin, une corrélation significative apparaît entre le taux de déplacement domicile-travail en transport en commun et le nombre d'entreprises, le niveau de vie, ainsi que la population.\n",
    "\n",
    "Ces corrélations empiriques guideront nos décisions dans le choix des variables pour la régression à venir. Nous considérerons attentivement ces relations pour assurer la pertinence et la robustesse de notre modèle."
   ]
  },
  {
   "cell_type": "markdown",
   "metadata": {},
   "source": [
    "#### Standardisation des données"
   ]
  },
  {
   "cell_type": "markdown",
   "metadata": {},
   "source": [
    "Nous passons maintenant à la phase de standardisation des données, une étape présentant plusieurs avantages. En effet, ici, l'intérêt de la standardisation des donénes est de faciliter la comparaison directe des coefficients dans les modèles, permettant ainsi une interprétation plus aisée de l'importance relative des variables en fonction de la taille de leurs coefficients."
   ]
  },
  {
   "cell_type": "code",
   "execution_count": null,
   "metadata": {},
   "outputs": [],
   "source": [
    "scaler = StandardScaler()\n",
    "\n",
    "# Créez une copie du DataFrame initial\n",
    "df_standardise = table_donnees.copy()\n",
    "\n",
    "# Standardisez les colonnes spécifiées\n",
    "df_standardise[variables_modele] = scaler.fit_transform(df_standardise[variables_modele])\n",
    "\n",
    "# Sélectionnez les colonnes non standardisées\n",
    "colonnes_non_standardisees = [col for col in df_standardise.columns if col not in variables_modele]\n",
    "\n",
    "# Réorganisez les colonnes pour avoir les non standardisées au début suivies des standardisées\n",
    "df_standardise = df_standardise[colonnes_non_standardisees + variables_modele]\n",
    "\n",
    "df_standardise"
   ]
  },
  {
   "cell_type": "markdown",
   "metadata": {},
   "source": [
    "Visualisation de l'impact de la standardisation sur la valeur des données (exemple pour la variable taux de logement vacants)"
   ]
  },
  {
   "cell_type": "code",
   "execution_count": null,
   "metadata": {},
   "outputs": [],
   "source": [
    "# Création de l'histogramme avant la standardisation\n",
    "plt.figure(figsize=(12, 6))\n",
    "plt.subplot(1, 2, 1)\n",
    "plt.hist(table_donnees['logements_vacants_%'], bins=40, color='blue', edgecolor='black')\n",
    "plt.title('logements_vacants_% avant standardisation')\n",
    "plt.xlabel('Valeurs')\n",
    "plt.ylabel('Fréquence')\n",
    "plt.xlim([0, table_donnees['logements_vacants_%'].max()])\n",
    "\n",
    "# Création de l'histogramme après la standardisation\n",
    "plt.subplot(1, 2, 2)\n",
    "plt.hist(df_standardise['logements_vacants_%'], bins=40, color='green', edgecolor='black')\n",
    "plt.title('logements_vacants_% après standardisation')\n",
    "plt.xlabel('Valeurs standardisées')\n",
    "plt.ylabel('Fréquence')\n",
    "\n",
    "plt.xlim([-df_standardise['logements_vacants_%'].max(), df_standardise['logements_vacants_%'].max()])# Affichage des deux histogrammes# Affichage des deux histogrammes\n",
    "plt.tight_layout()\n",
    "plt.show()\n"
   ]
  },
  {
   "cell_type": "markdown",
   "metadata": {},
   "source": [
    "On observe que les données initialement positives, une fois standardisées, peuvent prendre des valeur négatives. De plus, leur dispertion devient bien plus faible"
   ]
  },
  {
   "cell_type": "code",
   "execution_count": null,
   "metadata": {},
   "outputs": [],
   "source": [
    "# Création de l'histogramme avant la standardisation\n",
    "plt.figure(figsize=(12, 6))\n",
    "plt.subplot(1, 2, 1)\n",
    "plt.hist(table_donnees['logements_vacants_%'], bins=40, color='blue', edgecolor='black')\n",
    "plt.title('Histogramme avant standardisation')\n",
    "plt.xlabel('Valeurs')\n",
    "plt.ylabel('Fréquence')\n",
    "plt.xlim([-table_donnees['logements_vacants_%'].max(), table_donnees['logements_vacants_%'].max()])\n",
    "\n",
    "# Création de l'histogramme après la standardisation\n",
    "plt.subplot(1, 2, 2)\n",
    "plt.hist(df_standardise['logements_vacants_%'], bins=40, color='green', edgecolor='black')\n",
    "plt.title('Histogramme après standardisation')\n",
    "plt.xlabel('Valeurs standardisées')\n",
    "plt.ylabel('Fréquence')\n",
    "\n",
    "plt.xlim([-table_donnees['logements_vacants_%'].max(), table_donnees['logements_vacants_%'].max()])\n",
    "\n",
    "# Affichage des deux histogrammes\n",
    "plt.tight_layout()\n",
    "plt.show()"
   ]
  },
  {
   "cell_type": "markdown",
   "metadata": {},
   "source": [
    "### Modèle et interpretations"
   ]
  },
  {
   "cell_type": "markdown",
   "metadata": {},
   "source": [
    "#### Création d'une base test et d'une base d'entraînement"
   ]
  },
  {
   "cell_type": "markdown",
   "metadata": {},
   "source": [
    "Dans un modèle de régression linéaire, la division du jeu de données en bases d'entraînement et test est importante pour évaluer la capacité du modèle à généraliser à de nouvelles données. La base d'entraînement permet au modèle d'apprendre sur une partie des données, tandis que la base test sert à évaluer sa performance sur des données non étudiées. En effet, une bonne performance sur l'ensemble d'entraînement ne garantit pas une généralisation réussie. La division des données facilite une évaluation objective de la capacité prédictive du modèle de régression linéaire, améliorant ainsi sa fiabilité."
   ]
  },
  {
   "cell_type": "code",
   "execution_count": null,
   "metadata": {},
   "outputs": [],
   "source": [
    "# Séparation en variables indépendantes (X) et variable dépendante (y)\n",
    "X = df_standardise.drop(['code_commune','libelle_commune','consototale','grp_tmp'], axis=1)\n",
    "y = df_standardise['consototale']\n",
    "\n",
    "# Division des données en ensemble d'entraînement (train set) et ensemble de test (test set)\n",
    "X_train, X_test, y_train, y_test = train_test_split(X, y, test_size=0.2, random_state=42)\n",
    "\n",
    "# \"test_size\" détermine la proportion d'observations à inclure dans l'ensemble de test (ici, 20%)\n",
    "# \"random_state\" est utilisé pour garantir la reproductibilité des résultats, on peut choisir n'importe quel nombre\n",
    "\n",
    "# Affichage des dimensions des ensembles d'entraînement et de test\n",
    "print(\"Dimensions de l'ensemble d'entraînement (X_train, y_train):\", X_train.shape, y_train.shape)\n",
    "print(\"Dimensions de l'ensemble de test (X_test, y_test):\", X_test.shape, y_test.shape)"
   ]
  },
  {
   "cell_type": "markdown",
   "metadata": {},
   "source": [
    "#### Modèle de régression linéaire :"
   ]
  },
  {
   "cell_type": "markdown",
   "metadata": {},
   "source": [
    "On prépare et créer maintenant le modèle de régression linéaire à partir des données d'entraînement"
   ]
  },
  {
   "cell_type": "code",
   "execution_count": null,
   "metadata": {},
   "outputs": [],
   "source": [
    "import statsmodels.api as sm\n",
    "\n",
    "# Ajouter une constante à la matrice des caractéristiques (X) pour le terme d'interception\n",
    "X_train = sm.add_constant(X_train)\n",
    "X_test = sm.add_constant(X_test)\n",
    "\n",
    "# Création d'un modèle de régression linéaire\n",
    "modele_regression = sm.OLS(y_train, X_train).fit()"
   ]
  },
  {
   "cell_type": "markdown",
   "metadata": {},
   "source": [
    "#### Interprétation / significativité des coefficients"
   ]
  },
  {
   "cell_type": "code",
   "execution_count": null,
   "metadata": {},
   "outputs": [],
   "source": [
    "modele_regression.summary()"
   ]
  },
  {
   "cell_type": "markdown",
   "metadata": {},
   "source": [
    "### Interprétation des coefficients : "
   ]
  },
  {
   "cell_type": "markdown",
   "metadata": {},
   "source": [
    "#### Logements_vacants_% :\n",
    "* Coefficient : -0.0050. Ce coefficient est faible, en valeur absolue, et relativement aux autres coefficients : il semblerait donc que cette variable explique peu la consommation d'énergie.\n",
    "* Signe : négatif. Il semblerait donc qu'augmenter le taux de logements vacants dans une commune fasse diminuer la consommation totale d'énergie.\n",
    "* P-value : 0.368. Il semblerait que cette variable ne soit pas significative, même au seuil de 10%."
   ]
  },
  {
   "cell_type": "markdown",
   "metadata": {},
   "source": [
    "#### nombre_entreprises :\n",
    "* Coefficient : -0.2525. Ce coefficient est légerement élevé, en valeur absolue, et relativement aux autres coefficients : il semblerait donc que cette variable explique légerement la consommation d'énergie.\n",
    "* Signe : négatif. Il semblerait donc qu'augmenter le nombre d'entreprises dans une commune fasse diminuer la consommation totale d'énergie.\n",
    "* P-value : 0.000. Il semblerait que cette variable soit significative, même au seuil de 1%."
   ]
  },
  {
   "cell_type": "markdown",
   "metadata": {},
   "source": [
    "#### niveau_de_vie :\n",
    "* Coefficient : 0.0008. Ce coefficient est faible, en valeur absolue, et relativement aux autres coefficients : il semblerait donc que cette variable explique peu la consommation d'énergie\n",
    "* Signe : positif. Il semblerait donc qu'augmenter le niveau de vie dans une commune fasse augmenter la consommation totale d'énergie.\n",
    "* P-value : 0.894. Il semblerait que cette variable ne soit pas significative, même au seuil de 10%"
   ]
  },
  {
   "cell_type": "markdown",
   "metadata": {},
   "source": [
    "#### population :\n",
    "* Coefficient : 0.8133. Ce coefficient est élevé, en valeur absolue, et relativement aux autres coefficients : il semblerait donc que cette variable explique beaucoup la consommation d'énergie\n",
    "* Signe : positif. Il semblerait donc qu'augmenter la population dans une commune fasse augmenter la consommation totale d'énergie.\n",
    "* P-value : 0.000. Il semblerait que cette variable soit significative, même au seuil de 1%"
   ]
  },
  {
   "cell_type": "markdown",
   "metadata": {},
   "source": [
    "#### tmoy :\n",
    "* Coefficient : 0.0275. Ce coefficient est faible, en valeur absolue, et relativement aux autres coefficients : il semblerait donc que cette variable explique peu la consommation d'énergie.\n",
    "* Signe : positif. Il semblerait donc qu'augmenter la température moyenne dans un département fasse augmenter la consommation totale d'énergie des communes.\n",
    "* P-value : 0.000. Il semblerait que cette variable soit significative, même au seuil de 1%."
   ]
  },
  {
   "cell_type": "markdown",
   "metadata": {},
   "source": [
    "#### taux_deplacement_domicile_travail :\n",
    "* Coefficient :  0.0653. Ce coefficient est faible, en valeur absolue, et relativement aux autres coefficients : il semblerait donc que cette variable explique peu la consommation d'énergie.\n",
    "* Signe : positif. Il semblerait donc qu'augmenter le taux de déplacements domicile-travail en transports en commun dans une commune fasse augmenter la consommation totale d'énergie.\n",
    "* P-value : 0.000. Il semblerait que cette variable soit significative, même au seuil de 1%."
   ]
  },
  {
   "cell_type": "markdown",
   "metadata": {},
   "source": [
    "Pour conclure sur l'analyse des coefficients de ce modèle, on observe des signes de coefficients qui vont à l'encontre de nos hypothèses : Nous avions supposé que les relations entre le taux de logements vacants, ainsi que le nombre d'entreprises, avec la consommation d'energie était positives. La régression semble nous indiquer le contraire. Parallèlement, Nous avions supposé une relation négative entre la température moyenne et la consommation d'énergie. Encore une fois, la régression semble nous indiquer le contraire. D'après les test individuels de Student, il semblerait que 4 des 6 variables explicatives soient significatives, ce résultat est relativement encourageant."
   ]
  },
  {
   "cell_type": "markdown",
   "metadata": {},
   "source": [
    "### Évaluation de la qualité de prédiction du modèle"
   ]
  },
  {
   "cell_type": "markdown",
   "metadata": {},
   "source": [
    "Maintenant qu'on a interprété les coefficients, on revient à des données non standardisées :"
   ]
  },
  {
   "cell_type": "code",
   "execution_count": null,
   "metadata": {},
   "outputs": [],
   "source": [
    "import statsmodels.api as sm\n",
    "\n",
    "# Séparation en variables indépendantes (X) et variable dépendante (y)\n",
    "X = table_donnees.drop(['code_commune','libelle_commune','consototale','grp_tmp'], axis=1)\n",
    "y = table_donnees['consototale']\n",
    "\n",
    "# Division des données en ensemble d'entraînement (train set) et ensemble de test (test set)\n",
    "X_train, X_test, y_train, y_test = train_test_split(X, y, test_size=0.2, random_state=42)\n",
    "\n",
    "# Affichage des dimensions des ensembles d'entraînement et de test\n",
    "print(\"Dimensions de l'ensemble d'entraînement (X_train, y_train):\", X_train.shape, y_train.shape)\n",
    "print(\"Dimensions de l'ensemble de test (X_test, y_test):\", X_test.shape, y_test.shape)\n",
    "\n",
    "# Ajouter une constante à la matrice des caractéristiques (X) pour le terme d'intercept\n",
    "X_train = sm.add_constant(X_train)\n",
    "X_test = sm.add_constant(X_test)\n",
    "\n",
    "# Création d'un modèle de régression linéaire\n",
    "modele_regression = sm.OLS(y_train, X_train).fit()\n",
    "\n",
    "modele_regression.summary()"
   ]
  },
  {
   "cell_type": "markdown",
   "metadata": {},
   "source": [
    "#### Évaluation du modèle"
   ]
  },
  {
   "cell_type": "markdown",
   "metadata": {},
   "source": [
    " Afin d'évaluer le modèle, on l'applique sur la base d'entraînement, et on compare les résultats de prédications avec les données. Le R2 nous donnera une indication de la qualité du modèle"
   ]
  },
  {
   "cell_type": "code",
   "execution_count": null,
   "metadata": {},
   "outputs": [],
   "source": [
    "# Prédictions sur l'ensemble de test\n",
    "predictions = modele_regression.predict(X_test)\n",
    "\n",
    "# Évaluation du modèle\n",
    "mse = mean_squared_error(y_test, predictions)\n",
    "r2 = r2_score(y_test, predictions)\n",
    "\n",
    "print(\"Mean Squared Error (MSE):\", mse)\n",
    "print(\"R-squared (R2):\", r2)"
   ]
  },
  {
   "cell_type": "markdown",
   "metadata": {},
   "source": [
    "On observe un R² de 0,63. En d'autres termes, environ 63 % de la variance de la variable dépendante est expliquée par le modèle de régression. Ce résultat semble relativement correct, mais on pourra par la suite chercher à améliorer le modèle."
   ]
  },
  {
   "cell_type": "markdown",
   "metadata": {},
   "source": [
    "### Visualisation"
   ]
  },
  {
   "cell_type": "markdown",
   "metadata": {},
   "source": [
    "On cherche maintenant à visualier la qualité du modèle. Pour cela, on propose de construire un nuage de points qui affiche les vraies valeurs en abscisse, et les valeurs prédites en ordonnées"
   ]
  },
  {
   "cell_type": "code",
   "execution_count": null,
   "metadata": {},
   "outputs": [],
   "source": [
    "# Création d'une disposition de sous-tracés 1x3\n",
    "plt.figure(figsize=(15, 5))\n",
    "\n",
    "plt.subplot(131)\n",
    "plt.scatter(y_test, predictions, label='Prédictions')\n",
    "plt.plot([y_test.min(), y_test.max()], [y_test.min(), y_test.max()], '--k', label='y=x', linewidth=2)\n",
    "plt.xlabel(\"Vraies valeurs\")\n",
    "plt.ylabel(\"Prédictions\")\n",
    "plt.legend()\n",
    "\n",
    "plt.subplot(132)\n",
    "plt.scatter(y_test, predictions, label='Prédictions')\n",
    "plt.plot([y_test.min(), y_test.max()], [y_test.min(), y_test.max()], '--k', label='y=x', linewidth=2)\n",
    "plt.xlabel(\"Vraies valeurs\")\n",
    "plt.ylabel(\"Prédictions\")\n",
    "plt.xlim(-30000, 500000)\n",
    "plt.ylim(-30000, 500000)\n",
    "plt.legend()\n",
    "\n",
    "plt.subplot(133)\n",
    "plt.scatter(y_test, predictions, label='Prédictions')\n",
    "plt.plot([y_test.min(), y_test.max()], [y_test.min(), y_test.max()], '--k', label='y=x', linewidth=2)\n",
    "plt.xlabel(\"Vraies valeurs\")\n",
    "plt.ylabel(\"Prédictions\")\n",
    "plt.xlim(-10000, 200000)\n",
    "plt.ylim(-10000, 200000)\n",
    "plt.legend()\n",
    "\n",
    "plt.gca().xaxis.set_major_locator(ticker.MaxNLocator(nbins=6))\n",
    "plt.gca().yaxis.set_major_locator(ticker.MaxNLocator(nbins=6))\n",
    "\n",
    "\n",
    "# Affichage des sous-tracés\n",
    "plt.tight_layout()\n",
    "plt.show()"
   ]
  },
  {
   "cell_type": "markdown",
   "metadata": {},
   "source": [
    "D'un point de vue visuel, la qualité du modèle s'améliore à mesure que les points se rapprochent de la droite en pointillés. En effet, lorsque les points s'éloignent de cette droite, cela indique une augmentation des résidus, ce qui témoigne d'une moindre précision du modèle. On peut maintenant s'intéresser aux résidus eux même :"
   ]
  },
  {
   "cell_type": "code",
   "execution_count": null,
   "metadata": {},
   "outputs": [],
   "source": [
    "# Prédictions sur la base de test standardisée\n",
    "predictions_test = modele_regression.predict(X_test)\n",
    "\n",
    "# Calcul des résidus\n",
    "residus = y_test - predictions_test\n",
    "\n",
    "# Création d'une figure avec deux sous-graphiques\n",
    "fig, axes = plt.subplots(nrows=2, ncols=1, figsize=(8, 8))\n",
    "\n",
    "# Histogramme des résidus\n",
    "axes[0].hist(residus, bins=100, edgecolor='black')\n",
    "axes[0].set_title('Histogramme des Résidus')\n",
    "axes[0].set_xlabel('Résidus')\n",
    "axes[0].set_ylabel('Fréquence')\n",
    "\n",
    "# Courbe de densité des résidus\n",
    "sns.kdeplot(residus, fill=True, ax=axes[1])\n",
    "axes[1].set_title('Courbe de Densité des Résidus')\n",
    "axes[1].set_xlabel('Résidus')\n",
    "axes[1].set_ylabel('Densité')\n",
    "\n",
    "# Ajustement de l'espace entre les sous-graphiques\n",
    "plt.tight_layout()\n",
    "\n",
    "# Affichage du graphique\n",
    "plt.show()\n"
   ]
  },
  {
   "cell_type": "markdown",
   "metadata": {},
   "source": [
    "D'après cette visualisation, les résidus semblent centrés en 0. On cherche maintenant à vérifier ces hypothèses via des tests :"
   ]
  },
  {
   "cell_type": "markdown",
   "metadata": {},
   "source": [
    "### Évaluation des hypothèses du modèle"
   ]
  },
  {
   "cell_type": "markdown",
   "metadata": {},
   "source": [
    "Le modèle de régression linéaire repose sur plusieurs hypothèses sur les résidus tels que : \n",
    "\n",
    "* Normalité des Résidus : Les résidus du modèle devraient suivre une distribution normale. Cela signifie que la majorité des résidus devraient se situer près de zéro, et la distribution des résidus devrait être symétrique.\n",
    "\n",
    "* Homoscédasticité : La variance des résidus devrait rester constante pour toutes les valeurs prédites. En d'autres termes, il ne devrait pas y avoir de schéma systématique dans la dispersion des résidus le long de la plage des valeurs prédites.\n",
    "\n",
    "* Indépendance des Résidus : Les résidus doivent être indépendants les uns des autres. Cela signifie qu'il ne devrait pas y avoir de structure identifiable dans la séquence des résidus."
   ]
  },
  {
   "cell_type": "code",
   "execution_count": null,
   "metadata": {},
   "outputs": [],
   "source": [
    "# Statistiques descriptives sur les résidus\n",
    "mean_residus = np.mean(residus)\n",
    "median_residus = np.median(residus)\n",
    "std_dev_residus = np.std(residus)\n",
    "\n",
    "# Affichage des statistiques descriptives\n",
    "print(f\"Moyenne des résidus : {mean_residus}\")\n",
    "print(f\"Médiane des résidus : {median_residus}\")\n",
    "print(f\"Écart-type des résidus : {std_dev_residus}\")"
   ]
  },
  {
   "cell_type": "markdown",
   "metadata": {},
   "source": [
    "Interpréter les statistiques descriptives des résidus peut fournir des informations importantes sur la qualité de votre modèle de régression. Voici comment interpréter certaines de ces informations :\n",
    "\n",
    "* Moyenne des résidus : Si la moyenne des résidus est proche de zéro, cela suggère que le modèle ne présente pas de biais systématique.\n",
    "\n",
    "* Médiane des résidus : La médiane peut être moins sensible aux valeurs aberrantes que la moyenne. Une médiane proche de zéro indique également une absence de biais systématique.\n",
    "\n",
    "* Écart-type des résidus : L'écart-type des résidus mesure la dispersion des résidus autour de la moyenne. Une valeur faible suggère que les résidus sont généralement proches de la moyenne, ce qui est souhaitable. Une valeur élevée peut indiquer une grande variabilité des erreurs de prédiction.\n",
    "\n",
    "En résumé, des résidus centrés autour de zéro avec une dispersion modérée indiquent généralement un bon ajustement du modèle."
   ]
  },
  {
   "cell_type": "markdown",
   "metadata": {},
   "source": [
    "La visualisation des prédictions ne constitue pas en elle-même une approche scientifique pour vérifier la validité des hypothèses de la régression linéaire. Afin d'effectuer une évaluation formelle, nous nous appuyons sur une batterie de tests spécialisés :"
   ]
  },
  {
   "cell_type": "code",
   "execution_count": null,
   "metadata": {},
   "outputs": [],
   "source": [
    "import numpy as np\n",
    "from scipy.stats import shapiro, bartlett\n",
    "from statsmodels.stats.stattools import durbin_watson\n",
    "from statsmodels.stats.diagnostic import het_breuschpagan\n",
    "\n",
    "warnings.filterwarnings('ignore')\n",
    "\n",
    "# Récupérer les résidus depuis le modèle\n",
    "residus = modele_regression.resid\n",
    "\n",
    "# Récupérer les variables explicatives utilisées lors de l'ajustement du modèle\n",
    "exog_vars = modele_regression.model.exog\n",
    "\n",
    "# Test de normalité (Shapiro-Wilk)\n",
    "stat_shapiro, p_shapiro = shapiro(residus)\n",
    "print(f\"Test de normalité (Shapiro-Wilk): Statistique={stat_shapiro}, p-value={p_shapiro}\")\n",
    "\n",
    "# Test d'indépendance (Durbin-Watson)\n",
    "stat_dw = durbin_watson(residus)\n",
    "print(f\"Test d'indépendance (Durbin-Watson): Statistique={stat_dw}\")\n",
    "\n",
    "# Test d'homoscédasticité (Breusch-Pagan)\n",
    "test_stat_breusch, p_value_breusch, _, _ = het_breuschpagan(residus, exog_vars)\n",
    "print(f\"Test d'homoscédasticité (Breusch-Pagan): Statistique={test_stat_breusch}, p-value={p_value_breusch}\")"
   ]
  },
  {
   "cell_type": "markdown",
   "metadata": {},
   "source": [
    "* Test de normalité (Shapiro-Wilk) : la p-value étant de 0.0, on rejette l'hypothèse nulle. Ainsi, les résidus ne suivent pas une distribution normale.\n",
    "\n",
    "* Test d'indépendance (Durbin-Watson) : La statistique de Durbin - Watson est très proche de 2, on suppose une très faible autocorrélation des résidus\n",
    "\n",
    "* Test d'homoscédasticité (Breusch-Pagan) : la p-value étant très proche de 0.0, on rejette l'hypothèse nulle. Ainsi, les résidus sont hétéroscédastiques.\n",
    "\n",
    "On pourra tenter d'améliorer le résultat de ces tests, et de valider les hypothèses de régression dans les modèles suivants"
   ]
  },
  {
   "cell_type": "markdown",
   "metadata": {},
   "source": [
    "## Modèles intermédiaires : au-delà de la régression linéaire"
   ]
  },
  {
   "cell_type": "markdown",
   "metadata": {},
   "source": [
    "On cherche maintenant à améliorer notre modèle initial. On ne se contente pas de considérer uniquement un modèle de régression linéaire. On se propose d'étudier également d'autres modèles, tels que le modèle de régression pénalisé (Ridge, Lasso), des arbres de décisions, des random forest, des descente de gradient, SVM et enfin réseau de neuronne"
   ]
  },
  {
   "cell_type": "code",
   "execution_count": null,
   "metadata": {},
   "outputs": [],
   "source": [
    "table_donnees_pred=table_donnees.drop(['code_commune', 'libelle_commune', 'grp_tmp'],axis=1)\n",
    "\n",
    "# Séparation des variables indépendantes et dépendantes\n",
    "y = table_donnees_pred['consototale']\n",
    "X = table_donnees_pred.drop(['consototale'], axis=1)\n",
    "\n",
    "# Séparation en ensembles d'entraînement et de test\n",
    "X_train, X_test, y_train, y_test = train_test_split(X, y, test_size=0.2, random_state=42)\n",
    "\n",
    "# Dictionnaire pour stocker les erreurs des modèles\n",
    "model_errors = {}\n",
    "\n",
    "# Modèles à tester\n",
    "models = {\n",
    "    \"Linear Regression\": LinearRegression(),\n",
    "    \"Ridge Regression\": Ridge(),\n",
    "    \"Lasso Regression\": Lasso(),\n",
    "    \"Decision Tree\": DecisionTreeRegressor(),\n",
    "    \"Random Forest\": RandomForestRegressor(),\n",
    "    \"Gradient Boosting\": GradientBoostingRegressor(),\n",
    "    \"Support Vector Regression\": SVR(),\n",
    "    \"Neural Network\": MLPRegressor(max_iter=1000)  # Augmentation du nombre d'itérations pour une meilleure convergence\n",
    "}\n",
    "\n",
    "# Entraînement et évaluation de chaque modèle\n",
    "for name, model in models.items():\n",
    "    model.fit(X_train, y_train)\n",
    "    y_pred = model.predict(X_test)\n",
    "    mse = mean_squared_error(y_test, y_pred)\n",
    "    model_errors[name] = mse\n",
    "    print(f\"{name}: MSE = {mse}\")\n",
    "\n",
    "# Trouver le modèle avec l'erreur la plus faible\n",
    "best_model = min(model_errors, key=model_errors.get)\n",
    "print(f\"\\nMeilleur modèle: {best_model} avec une MSE de {model_errors[best_model]}\")\n",
    "\n"
   ]
  },
  {
   "cell_type": "markdown",
   "metadata": {},
   "source": [
    "## Modèle final : transformation logarithmique et carré"
   ]
  },
  {
   "cell_type": "markdown",
   "metadata": {},
   "source": [
    "### Méthode exhaustive de sélection de variables"
   ]
  },
  {
   "cell_type": "markdown",
   "metadata": {},
   "source": [
    "La méthode exhaustive de sélection de variables permet d'identifier le meilleur sous-ensemble de variables explicatives pour un modèle de régression. Elle consiste à évaluer toutes les combinaisons possibles de variables et à sélectionner celle qui améliore le plus la performance du modèle selon des critères spécifiques, tels que l'Akaike Information Criterion (AIC) ou le Bayesian Information Criterion (BIC).\n",
    "\n",
    "Nous transformons d'abord les données en appliquant différentes transformations (logarithmique, carrée ou aucune) pour chaque variable numérique. Ensuite, nous explorons exhaustivement toutes les combinaisons possibles de ces variables transformées pour trouver celle qui minimise l'AIC et le BIC du modèle. Chaque modèle est ajusté sur un ensemble d'entraînement et évalué sur un ensemble de test pour s'assurer de sa généralisation. Cela nous permet de comprendre quelles variables et quelles transformations conduisent à la prédiction la plus précise de la consommation totale d'énergie."
   ]
  },
  {
   "cell_type": "code",
   "execution_count": null,
   "metadata": {},
   "outputs": [],
   "source": [
    "# Transformation des données pour différentes combinaisons\n",
    "def transform_data(df, transformation):\n",
    "    transformed_df = df.copy()\n",
    "    for col in df.columns:\n",
    "        # Vérifier si la colonne est numérique avant d'appliquer une transformation\n",
    "        if pd.api.types.is_numeric_dtype(df[col]):\n",
    "            if transformation == \"log\" and df[col].min() > 0:\n",
    "                transformed_df[col] = np.log(df[col])\n",
    "            elif transformation == \"squared\":\n",
    "                transformed_df[col] = np.square(df[col])\n",
    "    return transformed_df\n",
    "\n",
    "# Sélection exhaustive des variables pour la régression linéaire avec enregistrement de tous les modèles\n",
    "def best_feature_combination(table_donnees, target_column):\n",
    "    best_aic = float('inf')\n",
    "    best_bic = float('inf')\n",
    "    best_r2 = 0\n",
    "    best_combination = None\n",
    "    best_transformation = None\n",
    "    features = [col for col in table_donnees.columns if col != target_column]\n",
    "    all_models = []  # Liste pour stocker les informations de tous les modèles\n",
    "\n",
    "    for transformation in [\"log\", \"squared\", \"none\"]:\n",
    "        transformed_table = transform_data(table_donnees, transformation) if transformation != \"none\" else table_donnees\n",
    "\n",
    "        for L in range(1, len(features) + 1):\n",
    "            for subset in combinations(features, L):\n",
    "                X = transformed_table[list(subset)]\n",
    "                y = transformed_table[target_column]\n",
    "                X_train, X_test, y_train, y_test = train_test_split(X, y, test_size=0.2, random_state=42)\n",
    "\n",
    "                model = sm.OLS(y_train, sm.add_constant(X_train)).fit()\n",
    "                aic = model.aic\n",
    "                bic = model.bic\n",
    "                r2 = r2_score(y_test, model.predict(sm.add_constant(X_test)))\n",
    "\n",
    "                # Ajouter les informations du modèle actuel à all_models\n",
    "                all_models.append({\n",
    "                    \"features\": subset,\n",
    "                    \"transformation\": transformation,\n",
    "                    \"aic\": aic,\n",
    "                    \"bic\": bic,\n",
    "                    \"R²\": r2\n",
    "                })\n",
    "\n",
    "                if aic < best_aic and bic < best_bic:\n",
    "                    best_aic = aic\n",
    "                    best_bic = bic\n",
    "                    best_combination = subset\n",
    "                    best_transformation = transformation\n",
    "                    best_r2 = r2\n",
    "                    best_model = model\n",
    "\n",
    "    return best_combination, best_transformation, best_aic, best_bic, best_r2, best_model, all_models\n",
    "\n",
    "best_features, best_transformation, best_aic, best_bic, best_r2, best_model, all_models = best_feature_combination(table_donnees_pred, 'consototale')\n",
    "\n",
    "# Affichage des meilleurs résultats\n",
    "print(f\"Meilleures caractéristiques: {best_features}\")\n",
    "print(f\"Meilleure transformation: {best_transformation}\")\n",
    "print(f\"Meilleur AIC: {best_aic}\")\n",
    "print(f\"Meilleur BIC: {best_bic}\")\n",
    "print(f\"R² correspondant au meilleur modèle: {best_r2}\")\n"
   ]
  },
  {
   "cell_type": "markdown",
   "metadata": {},
   "source": [
    "On observe qu'on a pu améliorer le modèle initial en passant au modèle final, puisqu'on a augmenter le R² de 0.63 à 0.74"
   ]
  },
  {
   "cell_type": "code",
   "execution_count": null,
   "metadata": {},
   "outputs": [],
   "source": [
    "import numpy as np\n",
    "from scipy.stats import shapiro, bartlett\n",
    "from statsmodels.stats.stattools import durbin_watson\n",
    "from statsmodels.stats.diagnostic import het_breuschpagan\n",
    "\n",
    "warnings.filterwarnings('ignore')\n",
    "\n",
    "# Récupérer les résidus depuis le modèle\n",
    "residus = best_model.resid\n",
    "\n",
    "# Récupérer les variables explicatives utilisées lors de l'ajustement du modèle\n",
    "exog_vars = best_model.model.exog\n",
    "\n",
    "# Test de normalité (Shapiro-Wilk)\n",
    "stat_shapiro, p_shapiro = shapiro(residus)\n",
    "print(f\"Test de normalité (Shapiro-Wilk): Statistique={stat_shapiro}, p-value={p_shapiro}\")\n",
    "\n",
    "# Test d'indépendance (Durbin-Watson)\n",
    "stat_dw = durbin_watson(residus)\n",
    "print(f\"Test d'indépendance (Durbin-Watson): Statistique={stat_dw}\")\n",
    "\n",
    "# Test d'homoscédasticité (Breusch-Pagan)\n",
    "test_stat_breusch, p_value_breusch, _, _ = het_breuschpagan(residus, exog_vars)\n",
    "print(f\"Test d'homoscédasticité (Breusch-Pagan): Statistique={test_stat_breusch}, p-value={p_value_breusch}\")"
   ]
  },
  {
   "cell_type": "markdown",
   "metadata": {},
   "source": [
    "* Test de normalité (Shapiro-Wilk) : la p-value étant de 0.0, on rejette l'hypothèse nulle. Ainsi, les résidus ne suivent pas une distribution normale.\n",
    "\n",
    "* Test d'indépendance (Durbin-Watson) : La statistique de Durbin - Watson est très proche de 2, on suppose une très faible autocorrélation des résidus\n",
    "\n",
    "* Test d'homoscédasticité (Breusch-Pagan) : la p-value étant très proche de 0.0, on rejette l'hypothèse nulle. Ainsi, les résidus sont hétéroscédastiques.\n",
    "\n",
    "\n",
    "Finalement, on aura réussi à améliorer la qualité prédictive du modèle, sans valider les hypothèses de la régression"
   ]
  },
  {
   "cell_type": "code",
   "execution_count": null,
   "metadata": {},
   "outputs": [],
   "source": [
    "# Affichage de tous les modèles testés\n",
    "for model in all_models:\n",
    "    print(f\"Caractéristiques: {model['features']}, Transformation: {model['transformation']}, AIC: {model['aic']}, BIC: {model['bic']}, R²: {model['r2']}\")"
   ]
  },
  {
   "cell_type": "markdown",
   "metadata": {},
   "source": [
    "### Statistiques descriptives des variables identifiées"
   ]
  },
  {
   "cell_type": "code",
   "execution_count": null,
   "metadata": {},
   "outputs": [],
   "source": [
    "# Configuration des graphiques\n",
    "sns.set(style=\"whitegrid\")\n",
    "\n",
    "n=len(best_features)\n",
    "\n",
    "# Histogrammes\n",
    "plt.figure(figsize=(15, 6))\n",
    "for i, col in enumerate(best_features):\n",
    "    plt.subplot(1, n, i+1)\n",
    "    sns.histplot(table_donnees_pred[col], kde=True)\n",
    "    plt.title(f'Histogramme de {col}')\n",
    "plt.tight_layout()\n",
    "plt.show()\n",
    "\n",
    "# Diagrammes de dispersion\n",
    "plt.figure(figsize=(15, 6))\n",
    "for i, col in enumerate(best_features):\n",
    "    plt.subplot(1, n, i+1)\n",
    "    sns.scatterplot(data=table_donnees_pred, x=col, y='consototale')\n",
    "    plt.title(f'{col} vs consototale')\n",
    "plt.tight_layout()\n",
    "plt.show()\n",
    "\n"
   ]
  },
  {
   "cell_type": "markdown",
   "metadata": {},
   "source": [
    "### Entrainement du modèle final"
   ]
  },
  {
   "cell_type": "code",
   "execution_count": null,
   "metadata": {},
   "outputs": [],
   "source": [
    "# Ignorer les avertissements pour une sortie propre\n",
    "warnings.filterwarnings('ignore')\n",
    "\n",
    "# Fonction pour transformer les données\n",
    "def transform_data(df, transformation):\n",
    "    transformed_df = df.copy()\n",
    "    for col in df.columns:\n",
    "        if pd.api.types.is_numeric_dtype(df[col]):\n",
    "            if transformation == \"log\" and df[col].min() > 0:\n",
    "                transformed_df[col] = np.log(df[col])\n",
    "            elif transformation == \"squared\":\n",
    "                transformed_df[col] = np.square(df[col])\n",
    "    return transformed_df\n",
    "\n",
    "# Transformation des données\n",
    "transformed_data = transform_data(table_donnees_pred, 'log')\n",
    "# Sélectionner les meilleures caractéristiques pour le modèle\n",
    "X = transformed_data[list(best_features)]\n",
    "y = transformed_data['consototale']\n",
    "\n",
    "# Entraînement du modèle de régression linéaire\n",
    "X_train, X_test, y_train, y_test = train_test_split(X, y, test_size=0.2, random_state=42)\n",
    "model = sm.OLS(y_train, sm.add_constant(X_train)).fit()\n",
    "\n",
    "# Récupération des coefficients\n",
    "coefficients = model.params\n",
    "intercept = coefficients[0]\n",
    "coef = coefficients[1:]\n",
    "\n",
    "# Formatage de l'équation de régression pour l'affichage en LaTeX\n",
    "model_eq = r\"$$\\text{consototale} = \"\n",
    "model_eq += f\"{intercept:.2f} \"\n",
    "for var, beta in zip(list(best_features), coef):\n",
    "    sign = '+' if beta >= 0 else ''\n",
    "    model_eq += f\" {sign} {beta:.2f} \\log({var}) \"\n",
    "model_eq += r\"$$\"\n",
    "\n",
    "print(\"Modèle de régression linéaire :\")\n",
    "display(Latex(model_eq))\n",
    "\n"
   ]
  },
  {
   "cell_type": "markdown",
   "metadata": {},
   "source": [
    "### Visualisation"
   ]
  },
  {
   "cell_type": "code",
   "execution_count": null,
   "metadata": {},
   "outputs": [],
   "source": [
    "# Préparation des données avec la meilleure combinaison et transformation\n",
    "transformed_table = transform_data(table_donnees, best_transformation)\n",
    "X = transformed_table[list(best_features)]\n",
    "y = transformed_table['consototale']\n",
    "\n",
    "# Séparation en ensembles d'entraînement et de test\n",
    "X_train, X_test, y_train, y_test = train_test_split(X, y, test_size=0.2, random_state=42)\n",
    "\n",
    "# Entraînement du modèle\n",
    "model = sm.OLS(y_train, sm.add_constant(X_train)).fit()\n",
    "\n",
    "# Affichage des résultats du modèle\n",
    "print(model.summary())\n",
    "\n",
    "# Prédiction sur l'ensemble de test\n",
    "y_pred = model.predict(sm.add_constant(X_test))"
   ]
  },
  {
   "cell_type": "code",
   "execution_count": null,
   "metadata": {},
   "outputs": [],
   "source": [
    "residuals = y_test - y_pred\n",
    "\n",
    "import matplotlib.pyplot as plt\n",
    "import seaborn as sns\n",
    "\n",
    "# Générer trois sous-graphiques horizontaux\n",
    "fig, axes = plt.subplots(1, 2, figsize=(15, 5), sharey=True)\n",
    "\n",
    "# Premier graphique\n",
    "sns.residplot(x=y_pred, y=residuals, lowess=True, line_kws={'color': 'red', 'lw': 1}, ax=axes[0])\n",
    "axes[0].set_title('Résidus vs Valeurs Prédites')\n",
    "axes[0].set_xlabel('Valeurs Prédites')\n",
    "axes[0].set_ylabel('Résidus')\n",
    "axes[0].set_xlim([0, 1300000])\n",
    "\n",
    "# Deuxième graphique (zoom)\n",
    "sns.residplot(x=y_pred, y=residuals, lowess=True, line_kws={'color': 'red', 'lw': 1}, ax=axes[1])\n",
    "axes[1].set_title('Zoom')\n",
    "axes[1].set_xlabel('Valeurs Prédites')\n",
    "axes[1].set_xlim([0, 400000])\n",
    "\n",
    "# Ajuster l'espacement entre les sous-graphiques\n",
    "plt.tight_layout()\n",
    "\n",
    "# Afficher les graphiques\n",
    "plt.show()\n"
   ]
  },
  {
   "cell_type": "code",
   "execution_count": null,
   "metadata": {},
   "outputs": [],
   "source": [
    "# Création d'une disposition de sous-tracés 1x3\n",
    "plt.figure(figsize=(15, 5))\n",
    "\n",
    "plt.subplot(131)\n",
    "plt.scatter(y_test, y_pred, alpha=0.5, label='Prédictions')\n",
    "plt.plot([y.min(), y.max()], [y.min(), y.max()], 'k--', lw=2)  # ligne de référence\n",
    "plt.xlabel(\"Vraies Réelles\")\n",
    "plt.ylabel(\"Valeurs Prédites\")\n",
    "plt.legend()\n",
    "\n",
    "plt.subplot(132)\n",
    "plt.scatter(y_test, y_pred, alpha=0.5, label='Prédictions')\n",
    "plt.plot([y.min(), y.max()], [y.min(), y.max()], 'k--', lw=2)  # ligne de référence\n",
    "plt.xlabel(\"Vraies Réelles\")\n",
    "plt.ylabel(\"Valeurs Prédites\")\n",
    "plt.xlim(-30000, 500000)\n",
    "plt.ylim(-30000, 500000)\n",
    "plt.legend()\n",
    "\n",
    "plt.subplot(133)\n",
    "plt.scatter(y_test, y_pred, alpha=0.5, label='Prédictions')\n",
    "plt.plot([y.min(), y.max()], [y.min(), y.max()], 'k--', lw=2)  # ligne de référence\n",
    "plt.xlabel(\"Vraies Réelles\")\n",
    "plt.ylabel(\"Valeurs Prédites\")\n",
    "plt.xlim(-10000, 200000)\n",
    "plt.ylim(-10000, 200000)\n",
    "plt.legend()\n",
    "\n",
    "plt.gca().xaxis.set_major_locator(ticker.MaxNLocator(nbins=6))\n",
    "plt.gca().yaxis.set_major_locator(ticker.MaxNLocator(nbins=6))\n",
    "\n",
    "\n",
    "# Affichage des sous-tracés\n",
    "plt.tight_layout()\n",
    "plt.show()"
   ]
  },
  {
   "cell_type": "markdown",
   "metadata": {},
   "source": [
    "Les prédictions semblent moins dispersés et plus centrés autour de la droite. On pet supposer une amélioration du modèle par rapport au modèle initiale  "
   ]
  },
  {
   "cell_type": "markdown",
   "metadata": {},
   "source": [
    "### Une petite application de prédiction"
   ]
  },
  {
   "cell_type": "markdown",
   "metadata": {},
   "source": [
    "#### Application textuelle"
   ]
  },
  {
   "cell_type": "code",
   "execution_count": null,
   "metadata": {},
   "outputs": [],
   "source": [
    "def predict_consototale(population, niveau_de_vie, nombre_entreprises, tmoy, tx_deplacement_travail, model):\n",
    "    # Transformation des entrées\n",
    "    log_population = np.log(population)\n",
    "    log_niveau_de_vie = np.log(niveau_de_vie)\n",
    "    log_nombre_entreprises = np.log(nombre_entreprises)\n",
    "    log_tmoy = np.log(tmoy)\n",
    "    log_tx_deplacement_travail = np.log(tx_deplacement_travail)\n",
    "\n",
    "\n",
    "    # Préparation des données pour la prédiction\n",
    "    X_pred = np.array([[1, log_nombre_entreprises, log_niveau_de_vie, log_population, log_tmoy, log_tx_deplacement_travail]])  # Ajoutez '1' pour la constante\n",
    "    \n",
    "    # Prédiction en utilisant le modèle\n",
    "    prediction = model.predict(X_pred)[0]\n",
    "    return prediction\n",
    "\n",
    "# Demande de saisie des valeurs à l'utilisateur\n",
    "population = float(input(\"Entrez la population: \"))\n",
    "niveau_de_vie = float(input(\"Entrez le niveau de vie: \"))\n",
    "nombre_entreprises = float(input(\"Entrez le nombre d'entreprises: \"))\n",
    "tmoy = float(input(\"Entrez la temperature moyenne: \"))\n",
    "tx_deplacement_travail = float(input(\"Entrez le taux de deplacement domicile-travail (entre 0 et 1): \"))\n",
    "\n",
    "# Prédiction de la consototale\n",
    "consototale_estimee = predict_consototale(population, niveau_de_vie, nombre_entreprises, tmoy, tx_deplacement_travail, model)\n",
    "\n",
    "print(f\"La consototale estimée est : {consototale_estimee:.1f}\")\n",
    "\n"
   ]
  },
  {
   "cell_type": "markdown",
   "metadata": {},
   "source": [
    "#### Widget"
   ]
  },
  {
   "cell_type": "code",
   "execution_count": null,
   "metadata": {},
   "outputs": [],
   "source": [
    "\n",
    "def predict_consototale(population, niveau_de_vie, nombre_entreprises,tmoy, tx_deplacement_travail, model):\n",
    "    log_population = np.log(population)\n",
    "    log_niveau_de_vie = np.log(niveau_de_vie)\n",
    "    log_nombre_entreprises = np.log(nombre_entreprises)\n",
    "    log_tmoy = np.log(tmoy)\n",
    "    log_tx_deplacement_travail = np.log(tx_deplacement_travail)\n",
    "    X_pred = np.array([[1, log_nombre_entreprises, log_niveau_de_vie, log_population, tmoy, tx_deplacement_travail]])\n",
    "    prediction = model.predict(X_pred)[0]\n",
    "    return prediction\n",
    "\n",
    "def on_predict(b):\n",
    "    try:\n",
    "        population = float(population_input.value)\n",
    "        niveau_de_vie = float(niveau_de_vie_input.value)\n",
    "        nombre_entreprises = float(nombre_entreprises_input.value)\n",
    "        tmoy = float(tmoy_input.value)\n",
    "        tx_deplacement_travail = float(tx_deplacement_travail_input.value)\n",
    "        consototale_estimee = predict_consototale(population, niveau_de_vie, nombre_entreprises, tmoy, tx_deplacement_travail, model)\n",
    "        output.clear_output()\n",
    "        with output:\n",
    "            print(f\"La consototale estimée est : {consototale_estimee}\")\n",
    "    except ValueError as e:\n",
    "        output.clear_output()\n",
    "        with output:\n",
    "            print(\"Erreur : Veuillez entrer des valeurs numériques valides.\")\n",
    "\n",
    "population_input = widgets.FloatText(value=0, description='Population:')\n",
    "niveau_de_vie_input = widgets.FloatText(value=0, description='Niv de vie:')\n",
    "nombre_entreprises_input = widgets.FloatText(value=0, description='Nb etp:')\n",
    "tmoy_input = widgets.FloatText(value=0, description='Temp. moyenne:')\n",
    "tx_deplacement_travail_input = widgets.FloatText(value=0, description='Tx dep dom-travail:')\n",
    "\n",
    "predict_button = widgets.Button(description=\"Prédire\")\n",
    "predict_button.on_click(on_predict)\n",
    "\n",
    "output = widgets.Output()\n",
    "\n",
    "display(population_input, niveau_de_vie_input, nombre_entreprises_input, tmoy_input, tx_deplacement_travail_input, predict_button, output)\n"
   ]
  },
  {
   "cell_type": "markdown",
   "metadata": {},
   "source": [
    "# 5. Synthèse et Recommandations"
   ]
  },
  {
   "cell_type": "markdown",
   "metadata": {},
   "source": [
    "## Conclusions Clés "
   ]
  },
  {
   "cell_type": "markdown",
   "metadata": {},
   "source": [
    "#### Pistes d'amélioration : \n",
    "\n",
    "* Ajouter des variables pertinantes : 6 variables explicative nous semble être un nombre trop faible\n",
    "* Améliorer la qualité de la variable météorologique, la manière dont elle est construite ne semble pas très rigoueureuse, ou même fiable\n",
    "* Aller plus loin dans les secteurs : proposer un modèle qui analyse les différentes caractéristiques communales au niveau des entreprises (en fonction de leur secteur d'activité par exemple)\n",
    "* Intégrer une saisonnalité dans le modèle\n",
    "* Traitement des données abérantes\n",
    "* Récupérer les données de niveau de vie pour les communes manquantes\n",
    "* Récupérer les températures par communes, quand elles seront disponibles, afin d'augmenter la précision de notre modèle.\n",
    "* Ulisation de la nouvelle base de données de Météo-France après la récente réforme sur l'accesibilité des données, rentrant en vigueur le 1er Janvier 2024. "
   ]
  },
  {
   "cell_type": "markdown",
   "metadata": {},
   "source": [
    "## Recommandations"
   ]
  },
  {
   "cell_type": "code",
   "execution_count": null,
   "metadata": {},
   "outputs": [],
   "source": []
  },
  {
   "cell_type": "code",
   "execution_count": null,
   "metadata": {},
   "outputs": [],
   "source": []
  }
 ],
 "metadata": {
  "kernelspec": {
   "display_name": "Python 3 (ipykernel)",
   "language": "python",
   "name": "python3"
  },
  "language_info": {
   "codemirror_mode": {
    "name": "ipython",
    "version": 3
   },
   "file_extension": ".py",
   "mimetype": "text/x-python",
   "name": "python",
   "nbconvert_exporter": "python",
   "pygments_lexer": "ipython3",
   "version": "3.10.13"
  }
 },
 "nbformat": 4,
 "nbformat_minor": 4
}
