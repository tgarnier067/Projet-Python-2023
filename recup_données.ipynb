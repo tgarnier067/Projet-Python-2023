{
 "cells": [
  {
   "cell_type": "code",
   "execution_count": 30,
   "id": "1a93141a-cac4-4f37-9494-9f77f5eff37d",
   "metadata": {},
   "outputs": [],
   "source": [
    "import requests\n",
    "from bs4 import BeautifulSoup"
   ]
  },
  {
   "cell_type": "code",
   "execution_count": 11,
   "id": "edd1bd22-2369-4e81-b6b8-ede4e73d9bf1",
   "metadata": {},
   "outputs": [],
   "source": [
    "url_1 = \"https://odre.opendatasoft.com/explore/embed/dataset/conso-departement-annuelle/table/?disjunctive.libelle_departement&disjunctive.libelle_region&disjunctive.e_operateurs&disjunctive.g_operateurs&refine.annee=2021&dataChart=eyJxdWVyaWVzIjpbeyJjaGFydHMiOlt7InR5cGUiOiJjb2x1bW4iLCJmdW5jIjoiQVZHIiwieUF4aXMiOiJjb25zb3RvdGFsZSIsInNjaWVudGlmaWNEaXNwbGF5Ijp0cnVlLCJjb2xvciI6IiM2NmMyYTUifV0sInhBeGlzIjoibGliZWxsZV9kZXBhcnRlbWVudCIsIm1heHBvaW50cyI6NTAsInNvcnQiOiIiLCJjb25maWciOnsiZGF0YXNldCI6ImNvbnNvLWRlcGFydGVtZW50LWFubnVlbGxlIiwib3B0aW9ucyI6eyJkaXNqdW5jdGl2ZS5saWJlbGxlX2RlcGFydGVtZW50Ijp0cnVlLCJkaXNqdW5jdGl2ZS5saWJlbGxlX3JlZ2lvbiI6dHJ1ZSwiZGlzanVuY3RpdmUuZV9vcGVyYXRldXJzIjp0cnVlLCJkaXNqdW5jdGl2ZS5nX29wZXJhdGV1cnMiOnRydWUsInJlZmluZS5hbm5lZSI6IjIwMjEifX19XSwidGltZXNjYWxlIjoiIiwiZGlzcGxheUxlZ2VuZCI6dHJ1ZSwiYWxpZ25Nb250aCI6dHJ1ZX0%3D&location=3,17.56025,53.4375&basemap=jawg.light\"\n",
    "url_2 = \"https://www.insee.fr/fr/statistiques/6436484?sommaire=6036904#tableau-figure1_radio1\"\n",
    "url_3 = \"https://odre.opendatasoft.com/explore/dataset/temperature-quotidienne-departementale/download?format=csv&timezone=Europe/Berlin&use_labels_for_header=false\"\n",
    "url_4 = \"https://www.insee.fr/fr/statistiques/6436484?sommaire=6036904#tableau-figure1_radio1\"\n",
    "url_5 = \"https://www.observatoire-des-territoires.gouv.fr/part-des-logements-vacants\"\n",
    "url_6 = \"https://ufe-electricite.fr/watt-the-carte/deploiement-bornes-de-recharge-en-france/dans-les-territoires/\"\n",
    "url_7 = \"https://www.carburants.org/borne-electrique/departements/\""
   ]
  },
  {
   "cell_type": "code",
   "execution_count": 32,
   "id": "a72c2552-19d8-4955-8778-fbb1722bfe63",
   "metadata": {},
   "outputs": [],
   "source": [
    "# Webscrapping de la population dans chaque département\n",
    "\n",
    "# Installation des packages nécessaires au webscrapping\n",
    "\n",
    "!pip install -q lxml\n",
    "\n",
    "import bs4\n",
    "import lxml\n",
    "import pandas\n",
    "import urllib\n",
    "\n",
    "from urllib import request"
   ]
  },
  {
   "cell_type": "code",
   "execution_count": 42,
   "id": "ff12d923-e69f-4285-aae4-b7eb832e85b8",
   "metadata": {},
   "outputs": [
    {
     "name": "stdout",
     "output_type": "stream",
     "text": [
      "Requirement already satisfied: lxml in /opt/mamba/lib/python3.10/site-packages (4.9.3)\n"
     ]
    }
   ],
   "source": []
  },
  {
   "cell_type": "code",
   "execution_count": 37,
   "id": "b123081f-6548-4ae2-85cc-d0557d54e283",
   "metadata": {},
   "outputs": [],
   "source": [
    "# On récupère l'url de la page wikipédia et on importe le texte HTML de la page\n",
    "\n",
    "url_Loire_Atlantique = \"https://fr.wikipedia.org/wiki/Loire-Atlantique\"\n",
    "text_Loire_Atlantique = request.urlopen(url_Loire_Atlantique).read()"
   ]
  },
  {
   "cell_type": "code",
   "execution_count": 45,
   "id": "dff34e62-e028-42b3-b171-6829583fc14a",
   "metadata": {},
   "outputs": [],
   "source": [
    "# On recherche de manière efficace les balises de la page\n",
    "\n",
    "page_Loire_Atlantique = bs4.BeautifulSoup(text_Loire_Atlantique, 'html.parser')"
   ]
  },
  {
   "cell_type": "code",
   "execution_count": null,
   "id": "8d2aa796-761e-4776-833e-918cd531b073",
   "metadata": {},
   "outputs": [],
   "source": []
  }
 ],
 "metadata": {
  "kernelspec": {
   "display_name": "Python 3 (ipykernel)",
   "language": "python",
   "name": "python3"
  },
  "language_info": {
   "codemirror_mode": {
    "name": "ipython",
    "version": 3
   },
   "file_extension": ".py",
   "mimetype": "text/x-python",
   "name": "python",
   "nbconvert_exporter": "python",
   "pygments_lexer": "ipython3",
   "version": "3.10.13"
  }
 },
 "nbformat": 4,
 "nbformat_minor": 5
}
