{
 "cells": [
  {
   "cell_type": "markdown",
   "metadata": {},
   "source": [
    "# 1. Définition du Problème et Objectifs"
   ]
  },
  {
   "cell_type": "markdown",
   "metadata": {},
   "source": [
    "## Contexte et Pertinence "
   ]
  },
  {
   "cell_type": "markdown",
   "metadata": {},
   "source": [
    "Dans un contexte mondial où la gestion efficace de l'énergie est devenue une priorité cruciale, notre projet vise à analyser la consommation d'énergie par département dans différents secteurs en France. L'objectif est de fournir une compréhension approfondie des modèles de consommation énergétique, qui est essentielle pour orienter les politiques énergétiques, promouvoir la durabilité et optimiser les ressources. Ce projet est particulièrement pertinent étant donné les défis actuels liés au changement climatique et à la transition énergétique. En examinant les données de consommation énergétique à l'échelle des départements, nous pouvons identifier des tendances spécifiques, des anomalies et des opportunités d'amélioration. Cela permettra aux décideurs, aux entreprises et aux consommateurs de prendre des mesures éclairées pour réduire la consommation d'énergie, améliorer l'efficacité énergétique et favoriser l'adoption d'énergies renouvelables. En outre, ce projet contribue à une meilleure compréhension des disparités régionales en matière de consommation d'énergie, offrant ainsi une perspective précieuse pour des interventions ciblées et personnalisées."
   ]
  },
  {
   "cell_type": "markdown",
   "metadata": {},
   "source": [
    "## Objectifs du Projet"
   ]
  },
  {
   "cell_type": "markdown",
   "metadata": {},
   "source": [
    "Notre projet, au cœur de l'intersection entre technologie, environnement et société, se fixe des objectifs ambitieux et significatifs :\n",
    "\n",
    "**Cartographie de la Consommation Énergétique :** Notre premier objectif est de dresser une carte précise de la consommation d'énergie dans les différents départements français. En mettant en lumière ces données, nous souhaitons offrir une vision claire et détaillée de la répartition énergétique sur le territoire.\n",
    "\n",
    "**Identification des Tendances et Anomalies :** Nous visons à décrypter les tendances sous-jacentes et à détecter d'éventuelles anomalies dans les habitudes de consommation énergétique. Cela permettra de comprendre les pratiques énergétiques actuelles et d'identifier les zones à haut potentiel d'amélioration.\n",
    "\n",
    "**Analyse Comparative par Secteur :** Un autre objectif crucial est de comparer la consommation énergétique entre différents secteurs (résidentiel, industriel, commercial, etc.). Cela aidera à cerner les secteurs les plus énergivores et à envisager des stratégies d'optimisation.\n",
    "\n",
    "**Prédiction des Tendances Futures :** Nous ambitionnons de développer des modèles prédictifs pour anticiper les évolutions futures de la consommation d'énergie. Ces prévisions seront essentielles pour planifier des stratégies énergétiques à long terme.\n",
    "\n",
    "**Contribution à la Durabilité :** En offrant une compréhension approfondie de la consommation d'énergie, le projet aspire à contribuer activement à des initiatives de développement durable. Les insights générés pourraient inspirer des actions concrètes pour réduire l'empreinte énergétique.\n",
    "\n",
    "**Support aux Décisions Politiques et Commerciales :** Fournir des données et des analyses fiables pour éclairer les décisions politiques et commerciales en matière de gestion de l'énergie. Cela inclut la recommandation de politiques efficaces et la sensibilisation aux meilleures pratiques en matière de consommation énergétique.\n",
    "\n",
    "**Sensibilisation et Éducation :** Enfin, nous souhaitons utiliser nos résultats pour sensibiliser le public et les décideurs aux enjeux de la consommation d'énergie. L'objectif est de promouvoir une culture de consommation énergétique responsable et informée."
   ]
  },
  {
   "cell_type": "markdown",
   "metadata": {},
   "source": [
    "## Aspects techniques"
   ]
  },
  {
   "cell_type": "markdown",
   "metadata": {},
   "source": [
    "### Packages"
   ]
  },
  {
   "cell_type": "code",
   "execution_count": 1,
   "metadata": {},
   "outputs": [
    {
     "name": "stdout",
     "output_type": "stream",
     "text": [
      "Requirement already satisfied: webdriver-manager in /usr/local/python/3.10.13/lib/python3.10/site-packages (4.0.1)\n",
      "Requirement already satisfied: requests in /home/codespace/.local/lib/python3.10/site-packages (from webdriver-manager) (2.31.0)\n",
      "Requirement already satisfied: python-dotenv in /usr/local/python/3.10.13/lib/python3.10/site-packages (from webdriver-manager) (1.0.0)\n",
      "Requirement already satisfied: packaging in /home/codespace/.local/lib/python3.10/site-packages (from webdriver-manager) (23.2)\n",
      "Requirement already satisfied: charset-normalizer<4,>=2 in /home/codespace/.local/lib/python3.10/site-packages (from requests->webdriver-manager) (3.3.2)\n",
      "Requirement already satisfied: idna<4,>=2.5 in /home/codespace/.local/lib/python3.10/site-packages (from requests->webdriver-manager) (3.4)\n",
      "Requirement already satisfied: urllib3<3,>=1.21.1 in /usr/local/python/3.10.13/lib/python3.10/site-packages (from requests->webdriver-manager) (2.0.7)\n",
      "Requirement already satisfied: certifi>=2017.4.17 in /home/codespace/.local/lib/python3.10/site-packages (from requests->webdriver-manager) (2023.7.22)\n",
      "Requirement already satisfied: BeautifulSoup4 in /home/codespace/.local/lib/python3.10/site-packages (4.12.2)\n",
      "Requirement already satisfied: soupsieve>1.2 in /home/codespace/.local/lib/python3.10/site-packages (from BeautifulSoup4) (2.5)\n",
      "Requirement already satisfied: pandas in /home/codespace/.local/lib/python3.10/site-packages (2.1.3)\n",
      "Requirement already satisfied: fiona in /usr/local/python/3.10.13/lib/python3.10/site-packages (1.9.5)\n",
      "Requirement already satisfied: shapely in /usr/local/python/3.10.13/lib/python3.10/site-packages (2.0.2)\n",
      "Requirement already satisfied: pyproj in /usr/local/python/3.10.13/lib/python3.10/site-packages (3.6.1)\n",
      "Requirement already satisfied: rtree in /usr/local/python/3.10.13/lib/python3.10/site-packages (1.1.0)\n",
      "Requirement already satisfied: numpy<2,>=1.22.4 in /home/codespace/.local/lib/python3.10/site-packages (from pandas) (1.26.2)\n",
      "Requirement already satisfied: python-dateutil>=2.8.2 in /home/codespace/.local/lib/python3.10/site-packages (from pandas) (2.8.2)\n",
      "Requirement already satisfied: pytz>=2020.1 in /home/codespace/.local/lib/python3.10/site-packages (from pandas) (2023.3.post1)\n",
      "Requirement already satisfied: tzdata>=2022.1 in /home/codespace/.local/lib/python3.10/site-packages (from pandas) (2023.3)\n",
      "Requirement already satisfied: attrs>=19.2.0 in /home/codespace/.local/lib/python3.10/site-packages (from fiona) (23.1.0)\n",
      "Requirement already satisfied: certifi in /home/codespace/.local/lib/python3.10/site-packages (from fiona) (2023.7.22)\n",
      "Requirement already satisfied: click~=8.0 in /usr/local/python/3.10.13/lib/python3.10/site-packages (from fiona) (8.1.7)\n",
      "Requirement already satisfied: click-plugins>=1.0 in /usr/local/python/3.10.13/lib/python3.10/site-packages (from fiona) (1.1.1)\n",
      "Requirement already satisfied: cligj>=0.5 in /usr/local/python/3.10.13/lib/python3.10/site-packages (from fiona) (0.7.2)\n",
      "Requirement already satisfied: six in /home/codespace/.local/lib/python3.10/site-packages (from fiona) (1.16.0)\n",
      "Requirement already satisfied: setuptools in /home/codespace/.local/lib/python3.10/site-packages (from fiona) (68.2.2)\n",
      "Requirement already satisfied: contextily in /usr/local/python/3.10.13/lib/python3.10/site-packages (1.4.0)\n",
      "Requirement already satisfied: geopy in /usr/local/python/3.10.13/lib/python3.10/site-packages (from contextily) (2.4.1)\n",
      "Requirement already satisfied: matplotlib in /home/codespace/.local/lib/python3.10/site-packages (from contextily) (3.8.1)\n",
      "Requirement already satisfied: mercantile in /usr/local/python/3.10.13/lib/python3.10/site-packages (from contextily) (1.2.1)\n",
      "Requirement already satisfied: pillow in /home/codespace/.local/lib/python3.10/site-packages (from contextily) (10.1.0)\n",
      "Requirement already satisfied: rasterio in /usr/local/python/3.10.13/lib/python3.10/site-packages (from contextily) (1.3.9)\n",
      "Requirement already satisfied: requests in /home/codespace/.local/lib/python3.10/site-packages (from contextily) (2.31.0)\n",
      "Requirement already satisfied: joblib in /home/codespace/.local/lib/python3.10/site-packages (from contextily) (1.3.2)\n",
      "Requirement already satisfied: xyzservices in /usr/local/python/3.10.13/lib/python3.10/site-packages (from contextily) (2023.10.1)\n",
      "Requirement already satisfied: geographiclib<3,>=1.52 in /usr/local/python/3.10.13/lib/python3.10/site-packages (from geopy->contextily) (2.0)\n",
      "Requirement already satisfied: contourpy>=1.0.1 in /home/codespace/.local/lib/python3.10/site-packages (from matplotlib->contextily) (1.2.0)\n",
      "Requirement already satisfied: cycler>=0.10 in /home/codespace/.local/lib/python3.10/site-packages (from matplotlib->contextily) (0.12.1)\n",
      "Requirement already satisfied: fonttools>=4.22.0 in /home/codespace/.local/lib/python3.10/site-packages (from matplotlib->contextily) (4.44.3)\n",
      "Requirement already satisfied: kiwisolver>=1.3.1 in /home/codespace/.local/lib/python3.10/site-packages (from matplotlib->contextily) (1.4.5)\n",
      "Requirement already satisfied: numpy<2,>=1.21 in /home/codespace/.local/lib/python3.10/site-packages (from matplotlib->contextily) (1.26.2)\n",
      "Requirement already satisfied: packaging>=20.0 in /home/codespace/.local/lib/python3.10/site-packages (from matplotlib->contextily) (23.2)\n",
      "Requirement already satisfied: pyparsing>=2.3.1 in /home/codespace/.local/lib/python3.10/site-packages (from matplotlib->contextily) (3.1.1)\n",
      "Requirement already satisfied: python-dateutil>=2.7 in /home/codespace/.local/lib/python3.10/site-packages (from matplotlib->contextily) (2.8.2)\n",
      "Requirement already satisfied: click>=3.0 in /usr/local/python/3.10.13/lib/python3.10/site-packages (from mercantile->contextily) (8.1.7)\n",
      "Requirement already satisfied: affine in /usr/local/python/3.10.13/lib/python3.10/site-packages (from rasterio->contextily) (2.4.0)\n",
      "Requirement already satisfied: attrs in /home/codespace/.local/lib/python3.10/site-packages (from rasterio->contextily) (23.1.0)\n",
      "Requirement already satisfied: certifi in /home/codespace/.local/lib/python3.10/site-packages (from rasterio->contextily) (2023.7.22)\n",
      "Requirement already satisfied: cligj>=0.5 in /usr/local/python/3.10.13/lib/python3.10/site-packages (from rasterio->contextily) (0.7.2)\n",
      "Requirement already satisfied: snuggs>=1.4.1 in /usr/local/python/3.10.13/lib/python3.10/site-packages (from rasterio->contextily) (1.4.7)\n",
      "Requirement already satisfied: click-plugins in /usr/local/python/3.10.13/lib/python3.10/site-packages (from rasterio->contextily) (1.1.1)\n",
      "Requirement already satisfied: setuptools in /home/codespace/.local/lib/python3.10/site-packages (from rasterio->contextily) (68.2.2)\n",
      "Requirement already satisfied: charset-normalizer<4,>=2 in /home/codespace/.local/lib/python3.10/site-packages (from requests->contextily) (3.3.2)\n",
      "Requirement already satisfied: idna<4,>=2.5 in /home/codespace/.local/lib/python3.10/site-packages (from requests->contextily) (3.4)\n",
      "Requirement already satisfied: urllib3<3,>=1.21.1 in /usr/local/python/3.10.13/lib/python3.10/site-packages (from requests->contextily) (2.0.7)\n",
      "Requirement already satisfied: six>=1.5 in /home/codespace/.local/lib/python3.10/site-packages (from python-dateutil>=2.7->matplotlib->contextily) (1.16.0)\n",
      "Requirement already satisfied: geopandas in /usr/local/python/3.10.13/lib/python3.10/site-packages (0.14.1)\n",
      "Requirement already satisfied: fiona>=1.8.21 in /usr/local/python/3.10.13/lib/python3.10/site-packages (from geopandas) (1.9.5)\n",
      "Requirement already satisfied: packaging in /home/codespace/.local/lib/python3.10/site-packages (from geopandas) (23.2)\n",
      "Requirement already satisfied: pandas>=1.4.0 in /home/codespace/.local/lib/python3.10/site-packages (from geopandas) (2.1.3)\n",
      "Requirement already satisfied: pyproj>=3.3.0 in /usr/local/python/3.10.13/lib/python3.10/site-packages (from geopandas) (3.6.1)\n",
      "Requirement already satisfied: shapely>=1.8.0 in /usr/local/python/3.10.13/lib/python3.10/site-packages (from geopandas) (2.0.2)\n",
      "Requirement already satisfied: attrs>=19.2.0 in /home/codespace/.local/lib/python3.10/site-packages (from fiona>=1.8.21->geopandas) (23.1.0)\n",
      "Requirement already satisfied: certifi in /home/codespace/.local/lib/python3.10/site-packages (from fiona>=1.8.21->geopandas) (2023.7.22)\n",
      "Requirement already satisfied: click~=8.0 in /usr/local/python/3.10.13/lib/python3.10/site-packages (from fiona>=1.8.21->geopandas) (8.1.7)\n",
      "Requirement already satisfied: click-plugins>=1.0 in /usr/local/python/3.10.13/lib/python3.10/site-packages (from fiona>=1.8.21->geopandas) (1.1.1)\n",
      "Requirement already satisfied: cligj>=0.5 in /usr/local/python/3.10.13/lib/python3.10/site-packages (from fiona>=1.8.21->geopandas) (0.7.2)\n",
      "Requirement already satisfied: six in /home/codespace/.local/lib/python3.10/site-packages (from fiona>=1.8.21->geopandas) (1.16.0)\n",
      "Requirement already satisfied: setuptools in /home/codespace/.local/lib/python3.10/site-packages (from fiona>=1.8.21->geopandas) (68.2.2)\n",
      "Requirement already satisfied: numpy<2,>=1.22.4 in /home/codespace/.local/lib/python3.10/site-packages (from pandas>=1.4.0->geopandas) (1.26.2)\n",
      "Requirement already satisfied: python-dateutil>=2.8.2 in /home/codespace/.local/lib/python3.10/site-packages (from pandas>=1.4.0->geopandas) (2.8.2)\n",
      "Requirement already satisfied: pytz>=2020.1 in /home/codespace/.local/lib/python3.10/site-packages (from pandas>=1.4.0->geopandas) (2023.3.post1)\n",
      "Requirement already satisfied: tzdata>=2022.1 in /home/codespace/.local/lib/python3.10/site-packages (from pandas>=1.4.0->geopandas) (2023.3)\n",
      "Requirement already satisfied: pygeos in /usr/local/python/3.10.13/lib/python3.10/site-packages (0.14)\n",
      "Requirement already satisfied: numpy>=1.13 in /home/codespace/.local/lib/python3.10/site-packages (from pygeos) (1.26.2)\n",
      "Requirement already satisfied: topojson in /usr/local/python/3.10.13/lib/python3.10/site-packages (1.7)\n",
      "Requirement already satisfied: numpy in /home/codespace/.local/lib/python3.10/site-packages (from topojson) (1.26.2)\n",
      "Requirement already satisfied: shapely in /usr/local/python/3.10.13/lib/python3.10/site-packages (from topojson) (2.0.2)\n",
      "Requirement already satisfied: packaging in /home/codespace/.local/lib/python3.10/site-packages (from topojson) (23.2)\n",
      "Requirement already satisfied: seaborn in /home/codespace/.local/lib/python3.10/site-packages (0.13.0)\n",
      "Requirement already satisfied: numpy!=1.24.0,>=1.20 in /home/codespace/.local/lib/python3.10/site-packages (from seaborn) (1.26.2)\n",
      "Requirement already satisfied: pandas>=1.2 in /home/codespace/.local/lib/python3.10/site-packages (from seaborn) (2.1.3)\n",
      "Requirement already satisfied: matplotlib!=3.6.1,>=3.3 in /home/codespace/.local/lib/python3.10/site-packages (from seaborn) (3.8.1)\n",
      "Requirement already satisfied: contourpy>=1.0.1 in /home/codespace/.local/lib/python3.10/site-packages (from matplotlib!=3.6.1,>=3.3->seaborn) (1.2.0)\n",
      "Requirement already satisfied: cycler>=0.10 in /home/codespace/.local/lib/python3.10/site-packages (from matplotlib!=3.6.1,>=3.3->seaborn) (0.12.1)\n",
      "Requirement already satisfied: fonttools>=4.22.0 in /home/codespace/.local/lib/python3.10/site-packages (from matplotlib!=3.6.1,>=3.3->seaborn) (4.44.3)\n",
      "Requirement already satisfied: kiwisolver>=1.3.1 in /home/codespace/.local/lib/python3.10/site-packages (from matplotlib!=3.6.1,>=3.3->seaborn) (1.4.5)\n",
      "Requirement already satisfied: packaging>=20.0 in /home/codespace/.local/lib/python3.10/site-packages (from matplotlib!=3.6.1,>=3.3->seaborn) (23.2)\n",
      "Requirement already satisfied: pillow>=8 in /home/codespace/.local/lib/python3.10/site-packages (from matplotlib!=3.6.1,>=3.3->seaborn) (10.1.0)\n",
      "Requirement already satisfied: pyparsing>=2.3.1 in /home/codespace/.local/lib/python3.10/site-packages (from matplotlib!=3.6.1,>=3.3->seaborn) (3.1.1)\n",
      "Requirement already satisfied: python-dateutil>=2.7 in /home/codespace/.local/lib/python3.10/site-packages (from matplotlib!=3.6.1,>=3.3->seaborn) (2.8.2)\n",
      "Requirement already satisfied: pytz>=2020.1 in /home/codespace/.local/lib/python3.10/site-packages (from pandas>=1.2->seaborn) (2023.3.post1)\n",
      "Requirement already satisfied: tzdata>=2022.1 in /home/codespace/.local/lib/python3.10/site-packages (from pandas>=1.2->seaborn) (2023.3)\n",
      "Requirement already satisfied: six>=1.5 in /home/codespace/.local/lib/python3.10/site-packages (from python-dateutil>=2.7->matplotlib!=3.6.1,>=3.3->seaborn) (1.16.0)\n"
     ]
    }
   ],
   "source": [
    "# Installation des packages\n",
    "\n",
    "!pip install -q lxml\n",
    "!pip install webdriver-manager\n",
    "!pip install BeautifulSoup4\n",
    "!pip install pandas fiona shapely pyproj rtree # à faire obligatoirement en premier pour utiliser rtree ou pygeos pour les jointures spatiales\n",
    "!pip install contextily\n",
    "!pip install geopandas\n",
    "!pip install pygeos\n",
    "!pip install topojson\n",
    "!pip install seaborn\n",
    "\n",
    "import requests\n",
    "import re\n",
    "import bs4\n",
    "import lxml\n",
    "import pandas as pd\n",
    "import urllib\n",
    "import seaborn\n",
    "\n",
    "from urllib import request"
   ]
  },
  {
   "cell_type": "markdown",
   "metadata": {},
   "source": [
    "### URL"
   ]
  },
  {
   "cell_type": "code",
   "execution_count": 2,
   "metadata": {},
   "outputs": [],
   "source": [
    "url_1 = \"https://odre.opendatasoft.com/explore/embed/dataset/conso-departement-annuelle/table/?disjunctive.libelle_departement&disjunctive.libelle_region&disjunctive.e_operateurs&disjunctive.g_operateurs&refine.annee=2021&dataChart=eyJxdWVyaWVzIjpbeyJjaGFydHMiOlt7InR5cGUiOiJjb2x1bW4iLCJmdW5jIjoiQVZHIiwieUF4aXMiOiJjb25zb3RvdGFsZSIsInNjaWVudGlmaWNEaXNwbGF5Ijp0cnVlLCJjb2xvciI6IiM2NmMyYTUifV0sInhBeGlzIjoibGliZWxsZV9kZXBhcnRlbWVudCIsIm1heHBvaW50cyI6NTAsInNvcnQiOiIiLCJjb25maWciOnsiZGF0YXNldCI6ImNvbnNvLWRlcGFydGVtZW50LWFubnVlbGxlIiwib3B0aW9ucyI6eyJkaXNqdW5jdGl2ZS5saWJlbGxlX2RlcGFydGVtZW50Ijp0cnVlLCJkaXNqdW5jdGl2ZS5saWJlbGxlX3JlZ2lvbiI6dHJ1ZSwiZGlzanVuY3RpdmUuZV9vcGVyYXRldXJzIjp0cnVlLCJkaXNqdW5jdGl2ZS5nX29wZXJhdGV1cnMiOnRydWUsInJlZmluZS5hbm5lZSI6IjIwMjEifX19XSwidGltZXNjYWxlIjoiIiwiZGlzcGxheUxlZ2VuZCI6dHJ1ZSwiYWxpZ25Nb250aCI6dHJ1ZX0%3D&location=3,17.56025,53.4375&basemap=jawg.light\"\n",
    "url_2 = \"https://www.insee.fr/fr/statistiques/6436484?sommaire=6036904#tableau-figure1_radio1\"\n",
    "url_3 = \"https://odre.opendatasoft.com/explore/dataset/temperature-quotidienne-departementale/information/?disjunctive.departement\"\n",
    "url_4 = \"https://www.insee.fr/fr/statistiques/6436484?sommaire=6036904#tableau-figure1_radio1\"\n",
    "url_5 = \"https://www.observatoire-des-territoires.gouv.fr/outils/cartographie-interactive/#bbox=-1052198,6661338,2597056,1619174&c=indicator&i=insee_rp_hist_1968.part_logt_vacant&s=2020&view=map9\"\n",
    "url_6 = \"https://ufe-electricite.fr/watt-the-carte/deploiement-bornes-de-recharge-en-france/dans-les-territoires/\"\n",
    "url_7 = \"https://www.carburants.org/borne-electrique/departements/\""
   ]
  },
  {
   "cell_type": "markdown",
   "metadata": {},
   "source": [
    "# 2. Collecte et Exploration des Données"
   ]
  },
  {
   "cell_type": "markdown",
   "metadata": {},
   "source": [
    "## Sources de Données"
   ]
  },
  {
   "cell_type": "markdown",
   "metadata": {},
   "source": [
    "### Bases de données pre-existantes"
   ]
  },
  {
   "cell_type": "markdown",
   "metadata": {},
   "source": [
    "##### Consommation totale d'énergie par département (Opendatasoft.com)"
   ]
  },
  {
   "cell_type": "code",
   "execution_count": 3,
   "metadata": {},
   "outputs": [
    {
     "data": {
      "text/html": [
       "<div>\n",
       "<style scoped>\n",
       "    .dataframe tbody tr th:only-of-type {\n",
       "        vertical-align: middle;\n",
       "    }\n",
       "\n",
       "    .dataframe tbody tr th {\n",
       "        vertical-align: top;\n",
       "    }\n",
       "\n",
       "    .dataframe thead th {\n",
       "        text-align: right;\n",
       "    }\n",
       "</style>\n",
       "<table border=\"1\" class=\"dataframe\">\n",
       "  <thead>\n",
       "    <tr style=\"text-align: right;\">\n",
       "      <th></th>\n",
       "      <th>code_departement</th>\n",
       "      <th>libelle_departement</th>\n",
       "      <th>consototale</th>\n",
       "      <th>geom</th>\n",
       "    </tr>\n",
       "  </thead>\n",
       "  <tbody>\n",
       "    <tr>\n",
       "      <th>0</th>\n",
       "      <td>01</td>\n",
       "      <td>Ain</td>\n",
       "      <td>9.921409e+06</td>\n",
       "      <td>{'type': 'Feature', 'geometry': {'coordinates'...</td>\n",
       "    </tr>\n",
       "    <tr>\n",
       "      <th>1</th>\n",
       "      <td>02</td>\n",
       "      <td>Aisne</td>\n",
       "      <td>8.628880e+06</td>\n",
       "      <td>{'type': 'Feature', 'geometry': {'coordinates'...</td>\n",
       "    </tr>\n",
       "    <tr>\n",
       "      <th>2</th>\n",
       "      <td>2A</td>\n",
       "      <td>Corse-du-Sud</td>\n",
       "      <td>1.008356e+06</td>\n",
       "      <td>{'type': 'Feature', 'geometry': {'coordinates'...</td>\n",
       "    </tr>\n",
       "    <tr>\n",
       "      <th>3</th>\n",
       "      <td>2B</td>\n",
       "      <td>Haute-Corse</td>\n",
       "      <td>1.003554e+06</td>\n",
       "      <td>{'type': 'Feature', 'geometry': {'coordinates'...</td>\n",
       "    </tr>\n",
       "    <tr>\n",
       "      <th>4</th>\n",
       "      <td>03</td>\n",
       "      <td>Allier</td>\n",
       "      <td>6.912756e+06</td>\n",
       "      <td>{'type': 'Feature', 'geometry': {'coordinates'...</td>\n",
       "    </tr>\n",
       "  </tbody>\n",
       "</table>\n",
       "</div>"
      ],
      "text/plain": [
       "  code_departement libelle_departement   consototale  \\\n",
       "0               01                 Ain  9.921409e+06   \n",
       "1               02               Aisne  8.628880e+06   \n",
       "2               2A        Corse-du-Sud  1.008356e+06   \n",
       "3               2B         Haute-Corse  1.003554e+06   \n",
       "4               03              Allier  6.912756e+06   \n",
       "\n",
       "                                                geom  \n",
       "0  {'type': 'Feature', 'geometry': {'coordinates'...  \n",
       "1  {'type': 'Feature', 'geometry': {'coordinates'...  \n",
       "2  {'type': 'Feature', 'geometry': {'coordinates'...  \n",
       "3  {'type': 'Feature', 'geometry': {'coordinates'...  \n",
       "4  {'type': 'Feature', 'geometry': {'coordinates'...  "
      ]
     },
     "execution_count": 3,
     "metadata": {},
     "output_type": "execute_result"
    }
   ],
   "source": [
    "# Création de l'url de l'API\n",
    "\n",
    "root_api_1 = \"https://odre.opendatasoft.com\"\n",
    "url_api_1 = root_api_1+\"/api/explore/v2.1/catalog/datasets/conso-departement-annuelle/records?select=code_departement%2C%20libelle_departement%2C%20consototale%2C%20geom&where=annee%20%3D%20date%272021%27&order_by=code_departement&limit=99&exclude=libelle_departement%3A971%2C972%2C973%2C974&refine=annee%3A%222021%22\"\n",
    "\n",
    "# Récupération des données\n",
    "\n",
    "req = requests.get(url_api_1)\n",
    "conso_energie = req.json()\n",
    "\n",
    "# Extraire la liste de résultats du dictionnaire\n",
    "results = conso_energie.get('results', [])\n",
    "df = pd.DataFrame(results)\n",
    "\n",
    "# On choisit les variables\n",
    "table_conso = df[['code_departement', 'libelle_departement', 'consototale','geom']]\n",
    "\n",
    "# Affichage de la table\n",
    "table_conso.head()"
   ]
  },
  {
   "cell_type": "markdown",
   "metadata": {},
   "source": [
    "##### Température par département (Opendatasoft.com)"
   ]
  },
  {
   "cell_type": "code",
   "execution_count": 4,
   "metadata": {},
   "outputs": [
    {
     "name": "stdout",
     "output_type": "stream",
     "text": [
      "   code_insee_departement              departement       tmoy\n",
      "0                      01                      Ain  11.875000\n",
      "1                      02                    Aisne  11.237500\n",
      "2                      03                   Allier  12.441667\n",
      "3                      04  Alpes-de-Haute-Provence  13.133333\n",
      "4                      05             Hautes-Alpes  11.062500\n",
      "..                    ...                      ...        ...\n",
      "91                     91                  Essonne  12.729167\n",
      "92                     92           Hauts-de-Seine  11.945833\n",
      "93                     93        Seine-Saint-Denis  12.387500\n",
      "94                     94             Val-de-Marne  12.729167\n",
      "95                     95               Val-d'Oise  12.043333\n",
      "\n",
      "[96 rows x 3 columns]\n"
     ]
    }
   ],
   "source": [
    "# URL de base et structure de l'URL de l'API\n",
    "root_api = \"https://odre.opendatasoft.com\"\n",
    "base_url = \"/api/explore/v2.1/catalog/datasets/temperature-quotidienne-departementale/records\"\n",
    "base_query = \"?select=date_obs%2Ccode_insee_departement%2Cdepartement%2Ctmoy&order_by=code_insee_departement&limit=99&refine=date_obs%3A%222021%22\"\n",
    "\n",
    "# Collecte des données pour chaque mois\n",
    "df_list = []\n",
    "for i in range(1, 13):\n",
    "    date_str = f\"2021-{i:02d}-01\"\n",
    "    url_api = f\"{root_api}{base_url}{base_query}&where=date_obs%3Ddate'{date_str}'\"\n",
    "    req = requests.get(url_api)\n",
    "    temp = req.json()\n",
    "    results = temp.get('results', [])\n",
    "    df = pd.DataFrame(results)\n",
    "    if not df.empty:\n",
    "        df = df[['date_obs', 'code_insee_departement', 'departement','tmoy']]\n",
    "        df_list.append(df)\n",
    "\n",
    "# Fusionner tous les DataFrames en un seul\n",
    "df_final = pd.concat(df_list)\n",
    "\n",
    "# Calcul de la moyenne des températures par code et nom de département\n",
    "table_temperatures = df_final.groupby(['code_insee_departement', 'departement'])['tmoy'].mean().reset_index()\n",
    "\n",
    "# Affichage du DataFrame final\n",
    "print(table_temperatures)"
   ]
  },
  {
   "cell_type": "markdown",
   "metadata": {},
   "source": [
    "##### Logements vacants"
   ]
  },
  {
   "cell_type": "code",
   "execution_count": 5,
   "metadata": {},
   "outputs": [
    {
     "name": "stdout",
     "output_type": "stream",
     "text": [
      "    Code                  Libellé Part des logements vacants 2020\n",
      "0     01                      Ain                             8.2\n",
      "1     02                    Aisne                            10.1\n",
      "2     03                   Allier                            14.9\n",
      "3     04  Alpes-de-Haute-Provence                             8.3\n",
      "4     05             Hautes-Alpes                             5.7\n",
      "..   ...                      ...                             ...\n",
      "96   971               Guadeloupe                            15.1\n",
      "97   972               Martinique                            16.1\n",
      "98   973                   Guyane                              10\n",
      "99   974               La Réunion                             8.9\n",
      "100  976                  Mayotte   N/A - résultat non disponible\n",
      "\n",
      "[101 rows x 3 columns]\n"
     ]
    }
   ],
   "source": [
    "table_logements_vacants = pd.read_csv('table_logements_vacants.csv',sep=';')\n",
    "print(table_logements_vacants)"
   ]
  },
  {
   "cell_type": "markdown",
   "metadata": {},
   "source": [
    "### Bases de données webscrappées"
   ]
  },
  {
   "cell_type": "markdown",
   "metadata": {},
   "source": [
    "##### Population"
   ]
  },
  {
   "cell_type": "code",
   "execution_count": 6,
   "metadata": {},
   "outputs": [
    {
     "data": {
      "text/html": [
       "<div>\n",
       "<style scoped>\n",
       "    .dataframe tbody tr th:only-of-type {\n",
       "        vertical-align: middle;\n",
       "    }\n",
       "\n",
       "    .dataframe tbody tr th {\n",
       "        vertical-align: top;\n",
       "    }\n",
       "\n",
       "    .dataframe thead th {\n",
       "        text-align: right;\n",
       "    }\n",
       "</style>\n",
       "<table border=\"1\" class=\"dataframe\">\n",
       "  <thead>\n",
       "    <tr style=\"text-align: right;\">\n",
       "      <th></th>\n",
       "      <th>Numero</th>\n",
       "      <th>Nom</th>\n",
       "      <th>Population</th>\n",
       "    </tr>\n",
       "  </thead>\n",
       "  <tbody>\n",
       "    <tr>\n",
       "      <th>0</th>\n",
       "      <td>01</td>\n",
       "      <td>Ain</td>\n",
       "      <td>657 856</td>\n",
       "    </tr>\n",
       "    <tr>\n",
       "      <th>1</th>\n",
       "      <td>02</td>\n",
       "      <td>Aisne</td>\n",
       "      <td>529 374</td>\n",
       "    </tr>\n",
       "    <tr>\n",
       "      <th>2</th>\n",
       "      <td>03</td>\n",
       "      <td>Allier</td>\n",
       "      <td>335 628</td>\n",
       "    </tr>\n",
       "    <tr>\n",
       "      <th>3</th>\n",
       "      <td>04</td>\n",
       "      <td>Alpes-de-Haute-Provence</td>\n",
       "      <td>165 451</td>\n",
       "    </tr>\n",
       "    <tr>\n",
       "      <th>4</th>\n",
       "      <td>05</td>\n",
       "      <td>Hautes-Alpes</td>\n",
       "      <td>140 605</td>\n",
       "    </tr>\n",
       "  </tbody>\n",
       "</table>\n",
       "</div>"
      ],
      "text/plain": [
       "  Numero                      Nom Population\n",
       "0     01                      Ain   657 856 \n",
       "1     02                    Aisne   529 374 \n",
       "2     03                   Allier   335 628 \n",
       "3     04  Alpes-de-Haute-Provence   165 451 \n",
       "4     05             Hautes-Alpes   140 605 "
      ]
     },
     "execution_count": 6,
     "metadata": {},
     "output_type": "execute_result"
    }
   ],
   "source": [
    "# Nous avons besoin de scraper la donnée \"population\" sur chaque page Wikipédia des départements, et pour cela, nous devons obtenir les URL de chaque page. \n",
    "# Ainsi, nous créons une liste qui recense tous les URL nécessaires pour accéder à chaque page Wikipédia et extraire la donnée de population.\n",
    "\n",
    "url_dep = \"https://fr.wikipedia.org/wiki/D%C3%A9partement_fran%C3%A7ais\"\n",
    "text_dep = request.urlopen(url_dep).read()\n",
    "page_dep = bs4.BeautifulSoup(text_dep, 'lxml')\n",
    "tableau_dep = page_dep.find('div', {'class':'colonnes'})\n",
    "lignes_dep = tableau_dep.find_all('li')\n",
    "\n",
    "list_url=[]\n",
    "for i in range(len(lignes_dep)):\n",
    "    if re.search(r'href=\"([^\"]*)\"', str(lignes_dep[i])).group(1) not in [\"#cite_note-collectivitésOM-178\",'/wiki/Guadeloupe','/wiki/La_R%C3%A9union'] :\n",
    "        num_dep = lignes_dep[i].find('code').text.strip()\n",
    "        list_url.append([\"https://fr.wikipedia.org\"+re.search(r'href=\"([^\"]*)\"', str(lignes_dep[i])).group(1),num_dep])\n",
    "\n",
    "# Nous automatisons le webscraping d'une page Wikipédia, et chaque résultat est stocké dans un dictionnaire.\n",
    "\n",
    "dico_dep = dict()\n",
    "k=1\n",
    "for url in list_url:\n",
    "    text = request.urlopen(url[0]).read()\n",
    "    page = bs4.BeautifulSoup(text, 'lxml')\n",
    "    tableau = page.find('table',{'class':'infobox_v2 noarchive'})\n",
    "    tableau_body = tableau.find('tbody')\n",
    "    lignes = tableau_body.find_all('tr')\n",
    "\n",
    "    # On webscrapp le nom du département\n",
    "    \n",
    "    nom_dep_html = lignes[0].find('td')\n",
    "    nom_dep_elements = [item for item in nom_dep_html.contents if item.name != 'small'] # On retire les balises <small> qui correpondent aux sous-titres des départements (parfois traduction en breton)\n",
    "    nom_dep_nouveau_html = bs4.BeautifulSoup('', 'lxml')\n",
    "    nom_dep_nouveau_html.extend(nom_dep_elements)\n",
    "    nom_dep_texte = nom_dep_nouveau_html.text.strip()\n",
    "    nom_dep = re.sub(r'\\([^)]*\\)', '', nom_dep_texte)\n",
    "\n",
    "    # On définie le numéro du département\n",
    "    \n",
    "    num_dep = url[1]\n",
    "\n",
    "    # On webscrapp la population du département\n",
    "    \n",
    "    for ligne in lignes:\n",
    "        cols1 = ligne.find_all('th')\n",
    "        cols2 = ligne.find_all('td')\n",
    "        cols = [ele.text.strip() for ele in cols1]+[elem.text.strip() for elem in cols2]\n",
    "        if cols[0]=='Population' or cols[0]=='Populationmunicipale':\n",
    "            population = re.sub(r'hab.*', '', cols[1])\n",
    "    dico_dep[num_dep] = {'nom_dep': nom_dep, 'population': population}\n",
    "\n",
    "# On transforme le dictionnaire en base de données\n",
    "\n",
    "table_population = pd.DataFrame.from_dict(dico_dep,orient='index').reset_index()\n",
    "table_population = table_population.rename(columns={'index' : 'Numero','nom_dep':'Nom','population':'Population'}) \n",
    "\n",
    "# On visualise la base de donnée\n",
    "\n",
    "pd.set_option('display.max_rows', None)\n",
    "pd.set_option('display.max_columns', None)\n",
    "table_population.head()"
   ]
  },
  {
   "cell_type": "markdown",
   "metadata": {},
   "source": [
    "##### Niveau de vie médian en 2019 en euros"
   ]
  },
  {
   "cell_type": "code",
   "execution_count": 7,
   "metadata": {},
   "outputs": [
    {
     "data": {
      "text/html": [
       "<div>\n",
       "<style scoped>\n",
       "    .dataframe tbody tr th:only-of-type {\n",
       "        vertical-align: middle;\n",
       "    }\n",
       "\n",
       "    .dataframe tbody tr th {\n",
       "        vertical-align: top;\n",
       "    }\n",
       "\n",
       "    .dataframe thead th {\n",
       "        text-align: right;\n",
       "    }\n",
       "</style>\n",
       "<table border=\"1\" class=\"dataframe\">\n",
       "  <thead>\n",
       "    <tr style=\"text-align: right;\">\n",
       "      <th></th>\n",
       "      <th>Nom</th>\n",
       "      <th>Niveau de Vie</th>\n",
       "    </tr>\n",
       "  </thead>\n",
       "  <tbody>\n",
       "    <tr>\n",
       "      <th>0</th>\n",
       "      <td>Ain</td>\n",
       "      <td>23 490</td>\n",
       "    </tr>\n",
       "    <tr>\n",
       "      <th>1</th>\n",
       "      <td>Aisne</td>\n",
       "      <td>19 880</td>\n",
       "    </tr>\n",
       "    <tr>\n",
       "      <th>2</th>\n",
       "      <td>Allier</td>\n",
       "      <td>20 570</td>\n",
       "    </tr>\n",
       "    <tr>\n",
       "      <th>3</th>\n",
       "      <td>Alpes-Maritimes</td>\n",
       "      <td>22 300</td>\n",
       "    </tr>\n",
       "    <tr>\n",
       "      <th>4</th>\n",
       "      <td>Alpes-de-Haute-Provence</td>\n",
       "      <td>20 690</td>\n",
       "    </tr>\n",
       "  </tbody>\n",
       "</table>\n",
       "</div>"
      ],
      "text/plain": [
       "                       Nom Niveau de Vie\n",
       "0                      Ain        23 490\n",
       "1                    Aisne        19 880\n",
       "2                   Allier        20 570\n",
       "3          Alpes-Maritimes        22 300\n",
       "4  Alpes-de-Haute-Provence        20 690"
      ]
     },
     "execution_count": 7,
     "metadata": {},
     "output_type": "execute_result"
    }
   ],
   "source": [
    "text = request.urlopen(\"https://www.insee.fr/fr/statistiques/6436484?sommaire=6036904#tableau-figure1_radio1\").read()\n",
    "page = bs4.BeautifulSoup(text, 'lxml')\n",
    "tableau = page.find('table',{'class':'tableau-produit'})\n",
    "tableau_body = tableau.find('tbody')\n",
    "lignes = tableau_body.find_all('tr')\n",
    "\n",
    "dico_niveau_vie={}\n",
    "for ligne in lignes:\n",
    "    nom_dep = ligne.find('th').text.strip()\n",
    "    niveau_vie_dep = ligne.find('td').text.strip()\n",
    "    dico_niveau_vie[nom_dep] = {'Niveau de Vie': niveau_vie_dep}\n",
    "\n",
    "table_niveau_vie = pd.DataFrame.from_dict(dico_niveau_vie,orient='index').reset_index()\n",
    "table_niveau_vie = table_niveau_vie.rename(columns={'index':'Nom'}) \n",
    "table_niveau_vie.head()"
   ]
  },
  {
   "cell_type": "markdown",
   "metadata": {},
   "source": [
    "##### Logements vacants (tentative)"
   ]
  },
  {
   "cell_type": "code",
   "execution_count": 9,
   "metadata": {},
   "outputs": [],
   "source": [
    "# Webscrapping des logements vacants\n",
    "\n",
    "#text_logements_vacants = request.urlopen(url_5).read()\n",
    "#page_logements_vacants = bs4.BeautifulSoup(text_logements_vacants, 'lxml')\n",
    "#tableau_logements_vacants = page_logements_vacants.find('table', {'id': 'tm_datatable'})\n",
    "#print(tableau_logements_vacants)\n",
    "#tableau_body = tableau_logements_vacants.find('tbody')\n",
    "#lignes = tableau_body.find_all('tr')\n",
    "\n",
    "#dico_logements_vacants={}\n",
    "#for ligne in lignes:\n",
    "#    nom_dep = ligne.find('th').text.strip()\n",
    "#    logements_vacants_dep = ligne.find('td').text.strip()\n",
    "#    dico_logements_vacants[nom_dep] = {'Logements vacants': logements_vacants_dep}\n",
    "\n",
    "#tableau_logements_vacants = pd.DataFrame.from_dict(dico_logements_vacants,orient='index').reset_index()\n",
    "#tableau_logements_vacants = tableau_logements_vacants.rename(columns={'index':'Nom'}) \n",
    "#tableau_logements_vacants.head()"
   ]
  },
  {
   "cell_type": "markdown",
   "metadata": {},
   "source": [
    "### Fusion des bases de données"
   ]
  },
  {
   "cell_type": "markdown",
   "metadata": {},
   "source": [
    "##### Visualisation des dataframe a fusionner"
   ]
  },
  {
   "cell_type": "code",
   "execution_count": 10,
   "metadata": {},
   "outputs": [
    {
     "data": {
      "text/html": [
       "<div>\n",
       "<style scoped>\n",
       "    .dataframe tbody tr th:only-of-type {\n",
       "        vertical-align: middle;\n",
       "    }\n",
       "\n",
       "    .dataframe tbody tr th {\n",
       "        vertical-align: top;\n",
       "    }\n",
       "\n",
       "    .dataframe thead th {\n",
       "        text-align: right;\n",
       "    }\n",
       "</style>\n",
       "<table border=\"1\" class=\"dataframe\">\n",
       "  <thead>\n",
       "    <tr style=\"text-align: right;\">\n",
       "      <th></th>\n",
       "      <th>code_departement</th>\n",
       "      <th>libelle_departement</th>\n",
       "      <th>consototale</th>\n",
       "      <th>geom</th>\n",
       "    </tr>\n",
       "  </thead>\n",
       "  <tbody>\n",
       "    <tr>\n",
       "      <th>0</th>\n",
       "      <td>01</td>\n",
       "      <td>Ain</td>\n",
       "      <td>9.921409e+06</td>\n",
       "      <td>{'type': 'Feature', 'geometry': {'coordinates'...</td>\n",
       "    </tr>\n",
       "    <tr>\n",
       "      <th>1</th>\n",
       "      <td>02</td>\n",
       "      <td>Aisne</td>\n",
       "      <td>8.628880e+06</td>\n",
       "      <td>{'type': 'Feature', 'geometry': {'coordinates'...</td>\n",
       "    </tr>\n",
       "    <tr>\n",
       "      <th>2</th>\n",
       "      <td>2A</td>\n",
       "      <td>Corse-du-Sud</td>\n",
       "      <td>1.008356e+06</td>\n",
       "      <td>{'type': 'Feature', 'geometry': {'coordinates'...</td>\n",
       "    </tr>\n",
       "    <tr>\n",
       "      <th>3</th>\n",
       "      <td>2B</td>\n",
       "      <td>Haute-Corse</td>\n",
       "      <td>1.003554e+06</td>\n",
       "      <td>{'type': 'Feature', 'geometry': {'coordinates'...</td>\n",
       "    </tr>\n",
       "    <tr>\n",
       "      <th>4</th>\n",
       "      <td>03</td>\n",
       "      <td>Allier</td>\n",
       "      <td>6.912756e+06</td>\n",
       "      <td>{'type': 'Feature', 'geometry': {'coordinates'...</td>\n",
       "    </tr>\n",
       "  </tbody>\n",
       "</table>\n",
       "</div>"
      ],
      "text/plain": [
       "  code_departement libelle_departement   consototale  \\\n",
       "0               01                 Ain  9.921409e+06   \n",
       "1               02               Aisne  8.628880e+06   \n",
       "2               2A        Corse-du-Sud  1.008356e+06   \n",
       "3               2B         Haute-Corse  1.003554e+06   \n",
       "4               03              Allier  6.912756e+06   \n",
       "\n",
       "                                                geom  \n",
       "0  {'type': 'Feature', 'geometry': {'coordinates'...  \n",
       "1  {'type': 'Feature', 'geometry': {'coordinates'...  \n",
       "2  {'type': 'Feature', 'geometry': {'coordinates'...  \n",
       "3  {'type': 'Feature', 'geometry': {'coordinates'...  \n",
       "4  {'type': 'Feature', 'geometry': {'coordinates'...  "
      ]
     },
     "execution_count": 10,
     "metadata": {},
     "output_type": "execute_result"
    }
   ],
   "source": [
    "table_conso.head()"
   ]
  },
  {
   "cell_type": "code",
   "execution_count": 11,
   "metadata": {},
   "outputs": [
    {
     "data": {
      "text/html": [
       "<div>\n",
       "<style scoped>\n",
       "    .dataframe tbody tr th:only-of-type {\n",
       "        vertical-align: middle;\n",
       "    }\n",
       "\n",
       "    .dataframe tbody tr th {\n",
       "        vertical-align: top;\n",
       "    }\n",
       "\n",
       "    .dataframe thead th {\n",
       "        text-align: right;\n",
       "    }\n",
       "</style>\n",
       "<table border=\"1\" class=\"dataframe\">\n",
       "  <thead>\n",
       "    <tr style=\"text-align: right;\">\n",
       "      <th></th>\n",
       "      <th>code_insee_departement</th>\n",
       "      <th>departement</th>\n",
       "      <th>tmoy</th>\n",
       "    </tr>\n",
       "  </thead>\n",
       "  <tbody>\n",
       "    <tr>\n",
       "      <th>0</th>\n",
       "      <td>01</td>\n",
       "      <td>Ain</td>\n",
       "      <td>11.875000</td>\n",
       "    </tr>\n",
       "    <tr>\n",
       "      <th>1</th>\n",
       "      <td>02</td>\n",
       "      <td>Aisne</td>\n",
       "      <td>11.237500</td>\n",
       "    </tr>\n",
       "    <tr>\n",
       "      <th>2</th>\n",
       "      <td>03</td>\n",
       "      <td>Allier</td>\n",
       "      <td>12.441667</td>\n",
       "    </tr>\n",
       "    <tr>\n",
       "      <th>3</th>\n",
       "      <td>04</td>\n",
       "      <td>Alpes-de-Haute-Provence</td>\n",
       "      <td>13.133333</td>\n",
       "    </tr>\n",
       "    <tr>\n",
       "      <th>4</th>\n",
       "      <td>05</td>\n",
       "      <td>Hautes-Alpes</td>\n",
       "      <td>11.062500</td>\n",
       "    </tr>\n",
       "  </tbody>\n",
       "</table>\n",
       "</div>"
      ],
      "text/plain": [
       "  code_insee_departement              departement       tmoy\n",
       "0                     01                      Ain  11.875000\n",
       "1                     02                    Aisne  11.237500\n",
       "2                     03                   Allier  12.441667\n",
       "3                     04  Alpes-de-Haute-Provence  13.133333\n",
       "4                     05             Hautes-Alpes  11.062500"
      ]
     },
     "execution_count": 11,
     "metadata": {},
     "output_type": "execute_result"
    }
   ],
   "source": [
    "table_temperatures.head()"
   ]
  },
  {
   "cell_type": "code",
   "execution_count": 12,
   "metadata": {},
   "outputs": [
    {
     "data": {
      "text/html": [
       "<div>\n",
       "<style scoped>\n",
       "    .dataframe tbody tr th:only-of-type {\n",
       "        vertical-align: middle;\n",
       "    }\n",
       "\n",
       "    .dataframe tbody tr th {\n",
       "        vertical-align: top;\n",
       "    }\n",
       "\n",
       "    .dataframe thead th {\n",
       "        text-align: right;\n",
       "    }\n",
       "</style>\n",
       "<table border=\"1\" class=\"dataframe\">\n",
       "  <thead>\n",
       "    <tr style=\"text-align: right;\">\n",
       "      <th></th>\n",
       "      <th>Code</th>\n",
       "      <th>Libellé</th>\n",
       "      <th>Part des logements vacants 2020</th>\n",
       "    </tr>\n",
       "  </thead>\n",
       "  <tbody>\n",
       "    <tr>\n",
       "      <th>0</th>\n",
       "      <td>01</td>\n",
       "      <td>Ain</td>\n",
       "      <td>8.2</td>\n",
       "    </tr>\n",
       "    <tr>\n",
       "      <th>1</th>\n",
       "      <td>02</td>\n",
       "      <td>Aisne</td>\n",
       "      <td>10.1</td>\n",
       "    </tr>\n",
       "    <tr>\n",
       "      <th>2</th>\n",
       "      <td>03</td>\n",
       "      <td>Allier</td>\n",
       "      <td>14.9</td>\n",
       "    </tr>\n",
       "    <tr>\n",
       "      <th>3</th>\n",
       "      <td>04</td>\n",
       "      <td>Alpes-de-Haute-Provence</td>\n",
       "      <td>8.3</td>\n",
       "    </tr>\n",
       "    <tr>\n",
       "      <th>4</th>\n",
       "      <td>05</td>\n",
       "      <td>Hautes-Alpes</td>\n",
       "      <td>5.7</td>\n",
       "    </tr>\n",
       "  </tbody>\n",
       "</table>\n",
       "</div>"
      ],
      "text/plain": [
       "  Code                  Libellé Part des logements vacants 2020\n",
       "0   01                      Ain                             8.2\n",
       "1   02                    Aisne                            10.1\n",
       "2   03                   Allier                            14.9\n",
       "3   04  Alpes-de-Haute-Provence                             8.3\n",
       "4   05             Hautes-Alpes                             5.7"
      ]
     },
     "execution_count": 12,
     "metadata": {},
     "output_type": "execute_result"
    }
   ],
   "source": [
    "table_logements_vacants.head()"
   ]
  },
  {
   "cell_type": "code",
   "execution_count": 13,
   "metadata": {},
   "outputs": [
    {
     "data": {
      "text/html": [
       "<div>\n",
       "<style scoped>\n",
       "    .dataframe tbody tr th:only-of-type {\n",
       "        vertical-align: middle;\n",
       "    }\n",
       "\n",
       "    .dataframe tbody tr th {\n",
       "        vertical-align: top;\n",
       "    }\n",
       "\n",
       "    .dataframe thead th {\n",
       "        text-align: right;\n",
       "    }\n",
       "</style>\n",
       "<table border=\"1\" class=\"dataframe\">\n",
       "  <thead>\n",
       "    <tr style=\"text-align: right;\">\n",
       "      <th></th>\n",
       "      <th>Numero</th>\n",
       "      <th>Nom</th>\n",
       "      <th>Population</th>\n",
       "    </tr>\n",
       "  </thead>\n",
       "  <tbody>\n",
       "    <tr>\n",
       "      <th>0</th>\n",
       "      <td>01</td>\n",
       "      <td>Ain</td>\n",
       "      <td>657 856</td>\n",
       "    </tr>\n",
       "    <tr>\n",
       "      <th>1</th>\n",
       "      <td>02</td>\n",
       "      <td>Aisne</td>\n",
       "      <td>529 374</td>\n",
       "    </tr>\n",
       "    <tr>\n",
       "      <th>2</th>\n",
       "      <td>03</td>\n",
       "      <td>Allier</td>\n",
       "      <td>335 628</td>\n",
       "    </tr>\n",
       "    <tr>\n",
       "      <th>3</th>\n",
       "      <td>04</td>\n",
       "      <td>Alpes-de-Haute-Provence</td>\n",
       "      <td>165 451</td>\n",
       "    </tr>\n",
       "    <tr>\n",
       "      <th>4</th>\n",
       "      <td>05</td>\n",
       "      <td>Hautes-Alpes</td>\n",
       "      <td>140 605</td>\n",
       "    </tr>\n",
       "  </tbody>\n",
       "</table>\n",
       "</div>"
      ],
      "text/plain": [
       "  Numero                      Nom Population\n",
       "0     01                      Ain   657 856 \n",
       "1     02                    Aisne   529 374 \n",
       "2     03                   Allier   335 628 \n",
       "3     04  Alpes-de-Haute-Provence   165 451 \n",
       "4     05             Hautes-Alpes   140 605 "
      ]
     },
     "execution_count": 13,
     "metadata": {},
     "output_type": "execute_result"
    }
   ],
   "source": [
    "table_population.head()"
   ]
  },
  {
   "cell_type": "code",
   "execution_count": 14,
   "metadata": {},
   "outputs": [
    {
     "data": {
      "text/html": [
       "<div>\n",
       "<style scoped>\n",
       "    .dataframe tbody tr th:only-of-type {\n",
       "        vertical-align: middle;\n",
       "    }\n",
       "\n",
       "    .dataframe tbody tr th {\n",
       "        vertical-align: top;\n",
       "    }\n",
       "\n",
       "    .dataframe thead th {\n",
       "        text-align: right;\n",
       "    }\n",
       "</style>\n",
       "<table border=\"1\" class=\"dataframe\">\n",
       "  <thead>\n",
       "    <tr style=\"text-align: right;\">\n",
       "      <th></th>\n",
       "      <th>Nom</th>\n",
       "      <th>Niveau de Vie</th>\n",
       "    </tr>\n",
       "  </thead>\n",
       "  <tbody>\n",
       "    <tr>\n",
       "      <th>0</th>\n",
       "      <td>Ain</td>\n",
       "      <td>23 490</td>\n",
       "    </tr>\n",
       "    <tr>\n",
       "      <th>1</th>\n",
       "      <td>Aisne</td>\n",
       "      <td>19 880</td>\n",
       "    </tr>\n",
       "    <tr>\n",
       "      <th>2</th>\n",
       "      <td>Allier</td>\n",
       "      <td>20 570</td>\n",
       "    </tr>\n",
       "    <tr>\n",
       "      <th>3</th>\n",
       "      <td>Alpes-Maritimes</td>\n",
       "      <td>22 300</td>\n",
       "    </tr>\n",
       "    <tr>\n",
       "      <th>4</th>\n",
       "      <td>Alpes-de-Haute-Provence</td>\n",
       "      <td>20 690</td>\n",
       "    </tr>\n",
       "  </tbody>\n",
       "</table>\n",
       "</div>"
      ],
      "text/plain": [
       "                       Nom Niveau de Vie\n",
       "0                      Ain        23 490\n",
       "1                    Aisne        19 880\n",
       "2                   Allier        20 570\n",
       "3          Alpes-Maritimes        22 300\n",
       "4  Alpes-de-Haute-Provence        20 690"
      ]
     },
     "execution_count": 14,
     "metadata": {},
     "output_type": "execute_result"
    }
   ],
   "source": [
    "table_niveau_vie.head()"
   ]
  },
  {
   "cell_type": "markdown",
   "metadata": {},
   "source": [
    "##### Renommage des colonnes"
   ]
  },
  {
   "cell_type": "code",
   "execution_count": 19,
   "metadata": {},
   "outputs": [],
   "source": [
    "table_conso.columns=['code_departement','nom_departement','consommation','geom']\n",
    "table_temperatures.columns=['code_departement','nom_departement','temperature']\n",
    "table_logements_vacants.columns=['code_departement','nom_departement','logements_vacants_%']\n",
    "table_population.columns=['code_departement','nom_departement','population']\n",
    "table_niveau_vie.columns=['nom_departement','niveau_de_vie']"
   ]
  },
  {
   "cell_type": "markdown",
   "metadata": {},
   "source": [
    "##### Fusion deux par deux"
   ]
  },
  {
   "cell_type": "code",
   "execution_count": 20,
   "metadata": {},
   "outputs": [
    {
     "name": "stdout",
     "output_type": "stream",
     "text": [
      "   code_departement          nom_departement  consommation  \\\n",
      "0                01                      Ain  9.921409e+06   \n",
      "1                02                    Aisne  8.628880e+06   \n",
      "2                2A             Corse-du-Sud  1.008356e+06   \n",
      "3                2B              Haute-Corse  1.003554e+06   \n",
      "4                03                   Allier  6.912756e+06   \n",
      "5                04  Alpes-de-Haute-Provence  1.609467e+06   \n",
      "6                05             Hautes-Alpes  1.283761e+06   \n",
      "7                06          Alpes-Maritimes  1.045153e+07   \n",
      "8                07                  Ardèche  3.252879e+06   \n",
      "9                08                 Ardennes  4.278077e+06   \n",
      "10               09                   Ariège  1.567198e+06   \n",
      "11               10                     Aube  5.152017e+06   \n",
      "12               11                     Aude  3.513589e+06   \n",
      "13               12                  Aveyron  2.661934e+06   \n",
      "14               13         Bouches-du-Rhône  4.698863e+07   \n",
      "15               14                 Calvados  7.881622e+06   \n",
      "16               15                   Cantal  1.122034e+06   \n",
      "17               16                 Charente  5.381140e+06   \n",
      "18               17        Charente-Maritime  6.035070e+06   \n",
      "19               18                     Cher  3.349201e+06   \n",
      "20               19                  Corrèze  2.400341e+06   \n",
      "21               21                Côte-d'Or  6.613806e+06   \n",
      "22               22            Côtes-d'Armor  7.375814e+06   \n",
      "23               23                   Creuse  9.750654e+05   \n",
      "24               24                 Dordogne  5.190313e+06   \n",
      "25               25                    Doubs  6.314160e+06   \n",
      "26               26                    Drôme  7.215111e+06   \n",
      "27               27                     Eure  7.471919e+06   \n",
      "28               28             Eure-et-Loir  4.755195e+06   \n",
      "29               29                Finistère  1.123187e+07   \n",
      "30               30                     Gard  7.753105e+06   \n",
      "31               31            Haute-Garonne  1.308565e+07   \n",
      "32               32                     Gers  1.567916e+06   \n",
      "33               33                  Gironde  1.691246e+07   \n",
      "34               34                  Hérault  9.341600e+06   \n",
      "35               35          Ille-et-Vilaine  1.194723e+07   \n",
      "36               36                    Indre  2.871766e+06   \n",
      "37               37           Indre-et-Loire  7.018212e+06   \n",
      "38               38                    Isère  1.889210e+07   \n",
      "39               39                     Jura  6.430222e+06   \n",
      "40               40                   Landes  5.537920e+06   \n",
      "41               41             Loir-et-Cher  3.609055e+06   \n",
      "42               42                    Loire  1.010775e+07   \n",
      "43               43              Haute-Loire  2.618258e+06   \n",
      "44               44         Loire-Atlantique  2.011770e+07   \n",
      "45               45                   Loiret  1.058449e+07   \n",
      "46               46                      Lot  1.379402e+06   \n",
      "47               47           Lot-et-Garonne  3.882786e+06   \n",
      "48               48                   Lozère  5.026404e+05   \n",
      "49               49           Maine-et-Loire  8.488853e+06   \n",
      "50               50                   Manche  6.256736e+06   \n",
      "51               51                    Marne  1.073372e+07   \n",
      "52               52              Haute-Marne  2.385500e+06   \n",
      "53               53                  Mayenne  4.202070e+06   \n",
      "54               54       Meurthe-et-Moselle  1.860016e+07   \n",
      "55               55                    Meuse  3.628897e+06   \n",
      "56               56                 Morbihan  8.369764e+06   \n",
      "57               57                  Moselle  2.319605e+07   \n",
      "58               58                   Nièvre  2.526894e+06   \n",
      "59               59                     Nord  6.084635e+07   \n",
      "60               60                     Oise  1.184050e+07   \n",
      "61               61                     Orne  3.650394e+06   \n",
      "62               62            Pas-de-Calais  2.404316e+07   \n",
      "63               63              Puy-de-Dôme  8.702380e+06   \n",
      "64               64     Pyrénées-Atlantiques  7.576856e+06   \n",
      "65               65          Hautes-Pyrénées  2.935354e+06   \n",
      "66               66      Pyrénées-Orientales  3.523121e+06   \n",
      "67               67                 Bas-Rhin  1.774335e+07   \n",
      "68               68                Haut-Rhin  2.088730e+07   \n",
      "69               70              Haute-Saône  2.431448e+06   \n",
      "70               71           Saône-et-Loire  9.007185e+06   \n",
      "71               72                   Sarthe  6.970555e+06   \n",
      "72               73                   Savoie  9.670893e+06   \n",
      "73               74             Haute-Savoie  9.540469e+06   \n",
      "74               75                    Paris  2.303108e+07   \n",
      "75               76           Seine-Maritime  3.964456e+07   \n",
      "76               77           Seine-et-Marne  2.095894e+07   \n",
      "77               78                 Yvelines  1.757991e+07   \n",
      "78               79              Deux-Sèvres  3.987915e+06   \n",
      "79               80                    Somme  9.736246e+06   \n",
      "80               81                     Tarn  3.959374e+06   \n",
      "81               82          Tarn-et-Garonne  2.188774e+06   \n",
      "82               83                      Var  8.243725e+06   \n",
      "83               84                 Vaucluse  6.147596e+06   \n",
      "84               85                   Vendée  7.881951e+06   \n",
      "85               86                   Vienne  4.159427e+06   \n",
      "86               87             Haute-Vienne  4.615642e+06   \n",
      "87               88                   Vosges  7.138181e+06   \n",
      "88               89                    Yonne  4.315886e+06   \n",
      "89               90    Territoire de Belfort  1.794259e+06   \n",
      "90               91                  Essonne  1.493475e+07   \n",
      "91               92           Hauts-de-Seine  1.754245e+07   \n",
      "92               93        Seine-Saint-Denis  1.763257e+07   \n",
      "93               94             Val-de-Marne  1.577245e+07   \n",
      "94               95               Val-d'Oise  1.222538e+07   \n",
      "\n",
      "                                                 geom  temperature  \\\n",
      "0   {'type': 'Feature', 'geometry': {'coordinates'...    11.875000   \n",
      "1   {'type': 'Feature', 'geometry': {'coordinates'...    11.237500   \n",
      "2   {'type': 'Feature', 'geometry': {'coordinates'...    16.800000   \n",
      "3   {'type': 'Feature', 'geometry': {'coordinates'...    17.627500   \n",
      "4   {'type': 'Feature', 'geometry': {'coordinates'...    12.441667   \n",
      "5   {'type': 'Feature', 'geometry': {'coordinates'...    13.133333   \n",
      "6   {'type': 'Feature', 'geometry': {'coordinates'...    11.062500   \n",
      "7   {'type': 'Feature', 'geometry': {'coordinates'...    16.206667   \n",
      "8   {'type': 'Feature', 'geometry': {'coordinates'...    12.970833   \n",
      "9   {'type': 'Feature', 'geometry': {'coordinates'...    10.029167   \n",
      "10  {'type': 'Feature', 'geometry': {'coordinates'...    12.662500   \n",
      "11  {'type': 'Feature', 'geometry': {'coordinates'...    11.754167   \n",
      "12  {'type': 'Feature', 'geometry': {'coordinates'...    14.920833   \n",
      "13  {'type': 'Feature', 'geometry': {'coordinates'...    10.965000   \n",
      "14  {'type': 'Feature', 'geometry': {'coordinates'...    15.299167   \n",
      "15  {'type': 'Feature', 'geometry': {'coordinates'...    11.462500   \n",
      "16  {'type': 'Feature', 'geometry': {'coordinates'...    10.750000   \n",
      "17  {'type': 'Feature', 'geometry': {'coordinates'...    14.329167   \n",
      "18  {'type': 'Feature', 'geometry': {'coordinates'...    14.375000   \n",
      "19  {'type': 'Feature', 'geometry': {'coordinates'...    12.947500   \n",
      "20  {'type': 'Feature', 'geometry': {'coordinates'...    13.300000   \n",
      "21  {'type': 'Feature', 'geometry': {'coordinates'...    12.012500   \n",
      "22  {'type': 'Feature', 'geometry': {'coordinates'...    12.220000   \n",
      "23  {'type': 'Feature', 'geometry': {'coordinates'...    11.400000   \n",
      "24  {'type': 'Feature', 'geometry': {'coordinates'...    12.990833   \n",
      "25  {'type': 'Feature', 'geometry': {'coordinates'...    11.933333   \n",
      "26  {'type': 'Feature', 'geometry': {'coordinates'...    13.670833   \n",
      "27  {'type': 'Feature', 'geometry': {'coordinates'...    11.550000   \n",
      "28  {'type': 'Feature', 'geometry': {'coordinates'...    11.890000   \n",
      "29  {'type': 'Feature', 'geometry': {'coordinates'...    12.897500   \n",
      "30  {'type': 'Feature', 'geometry': {'coordinates'...    11.650833   \n",
      "31  {'type': 'Feature', 'geometry': {'coordinates'...    14.450833   \n",
      "32  {'type': 'Feature', 'geometry': {'coordinates'...    13.954167   \n",
      "33  {'type': 'Feature', 'geometry': {'coordinates'...    15.166667   \n",
      "34  {'type': 'Feature', 'geometry': {'coordinates'...    15.000833   \n",
      "35  {'type': 'Feature', 'geometry': {'coordinates'...    12.720000   \n",
      "36  {'type': 'Feature', 'geometry': {'coordinates'...    12.779167   \n",
      "37  {'type': 'Feature', 'geometry': {'coordinates'...    13.162500   \n",
      "38  {'type': 'Feature', 'geometry': {'coordinates'...    11.768333   \n",
      "39  {'type': 'Feature', 'geometry': {'coordinates'...    12.254167   \n",
      "40  {'type': 'Feature', 'geometry': {'coordinates'...    14.833333   \n",
      "41  {'type': 'Feature', 'geometry': {'coordinates'...    12.610833   \n",
      "42  {'type': 'Feature', 'geometry': {'coordinates'...    11.930000   \n",
      "43  {'type': 'Feature', 'geometry': {'coordinates'...     8.895833   \n",
      "44  {'type': 'Feature', 'geometry': {'coordinates'...    13.717500   \n",
      "45  {'type': 'Feature', 'geometry': {'coordinates'...    12.170833   \n",
      "46  {'type': 'Feature', 'geometry': {'coordinates'...    13.029167   \n",
      "47  {'type': 'Feature', 'geometry': {'coordinates'...    13.850000   \n",
      "48  {'type': 'Feature', 'geometry': {'coordinates'...     9.354167   \n",
      "49  {'type': 'Feature', 'geometry': {'coordinates'...    13.412500   \n",
      "50  {'type': 'Feature', 'geometry': {'coordinates'...    11.883333   \n",
      "51  {'type': 'Feature', 'geometry': {'coordinates'...    11.359167   \n",
      "52  {'type': 'Feature', 'geometry': {'coordinates'...    11.621667   \n",
      "53  {'type': 'Feature', 'geometry': {'coordinates'...    12.645833   \n",
      "54  {'type': 'Feature', 'geometry': {'coordinates'...    11.080000   \n",
      "55  {'type': 'Feature', 'geometry': {'coordinates'...    11.091667   \n",
      "56  {'type': 'Feature', 'geometry': {'coordinates'...    13.758333   \n",
      "57  {'type': 'Feature', 'geometry': {'coordinates'...    11.075000   \n",
      "58  {'type': 'Feature', 'geometry': {'coordinates'...    11.970833   \n",
      "59  {'type': 'Feature', 'geometry': {'coordinates'...    11.345000   \n",
      "60  {'type': 'Feature', 'geometry': {'coordinates'...    11.168333   \n",
      "61  {'type': 'Feature', 'geometry': {'coordinates'...    11.820833   \n",
      "62  {'type': 'Feature', 'geometry': {'coordinates'...    11.454167   \n",
      "63  {'type': 'Feature', 'geometry': {'coordinates'...    13.100000   \n",
      "64  {'type': 'Feature', 'geometry': {'coordinates'...    14.853333   \n",
      "65  {'type': 'Feature', 'geometry': {'coordinates'...    13.183333   \n",
      "66  {'type': 'Feature', 'geometry': {'coordinates'...    15.935833   \n",
      "67  {'type': 'Feature', 'geometry': {'coordinates'...    11.629167   \n",
      "68  {'type': 'Feature', 'geometry': {'coordinates'...    11.622500   \n",
      "69  {'type': 'Feature', 'geometry': {'coordinates'...    11.145833   \n",
      "70  {'type': 'Feature', 'geometry': {'coordinates'...    12.345000   \n",
      "71  {'type': 'Feature', 'geometry': {'coordinates'...    13.366667   \n",
      "72  {'type': 'Feature', 'geometry': {'coordinates'...    11.236667   \n",
      "73  {'type': 'Feature', 'geometry': {'coordinates'...     9.966667   \n",
      "74  {'type': 'Feature', 'geometry': {'coordinates'...    13.500000   \n",
      "75  {'type': 'Feature', 'geometry': {'coordinates'...    11.740833   \n",
      "76  {'type': 'Feature', 'geometry': {'coordinates'...    12.233333   \n",
      "77  {'type': 'Feature', 'geometry': {'coordinates'...    11.999167   \n",
      "78  {'type': 'Feature', 'geometry': {'coordinates'...    13.558333   \n",
      "79  {'type': 'Feature', 'geometry': {'coordinates'...    11.265833   \n",
      "80  {'type': 'Feature', 'geometry': {'coordinates'...    14.183333   \n",
      "81  {'type': 'Feature', 'geometry': {'coordinates'...    13.858333   \n",
      "82  {'type': 'Feature', 'geometry': {'coordinates'...    16.302500   \n",
      "83  {'type': 'Feature', 'geometry': {'coordinates'...    14.166667   \n",
      "84  {'type': 'Feature', 'geometry': {'coordinates'...    13.690833   \n",
      "85  {'type': 'Feature', 'geometry': {'coordinates'...    12.883333   \n",
      "86  {'type': 'Feature', 'geometry': {'coordinates'...    12.370833   \n",
      "87  {'type': 'Feature', 'geometry': {'coordinates'...    11.295000   \n",
      "88  {'type': 'Feature', 'geometry': {'coordinates'...    12.033333   \n",
      "89  {'type': 'Feature', 'geometry': {'coordinates'...    11.347500   \n",
      "90  {'type': 'Feature', 'geometry': {'coordinates'...    12.729167   \n",
      "91  {'type': 'Feature', 'geometry': {'coordinates'...    11.945833   \n",
      "92  {'type': 'Feature', 'geometry': {'coordinates'...    12.387500   \n",
      "93  {'type': 'Feature', 'geometry': {'coordinates'...    12.729167   \n",
      "94  {'type': 'Feature', 'geometry': {'coordinates'...    12.043333   \n",
      "\n",
      "   logements_vacants_%  population niveau_de_vie  \n",
      "0                  8.2    657 856         23 490  \n",
      "1                 10.1    529 374         19 880  \n",
      "2                  3.1    160 814         21 900  \n",
      "3                  3.3    182 887         20 150  \n",
      "4                 14.9    335 628         20 570  \n",
      "5                  8.3    165 451         20 690  \n",
      "6                  5.7    140 605         21 020  \n",
      "7                  8.4  1 097 410         22 300  \n",
      "8                  9.7    329 325         21 010  \n",
      "9                 11.7    269 701         19 840  \n",
      "10                 9.3    153 954         20 010  \n",
      "11                 9.5    311 435         20 580  \n",
      "12                 8.2    375 217         19 550  \n",
      "13                10.9    279 554         20 850  \n",
      "14                 7.6  2 048 070         21 650  \n",
      "15                 6.8    697 547         21 730  \n",
      "16                11.7    144 379         20 690  \n",
      "17                10.6    351 718         20 940  \n",
      "18                   7    655 709         21 540  \n",
      "19                12.9    300 933         21 090  \n",
      "20                11.1    239 190         21 170  \n",
      "21                 8.5    535 078         22 590  \n",
      "22                 8.5    603 640         21 450  \n",
      "23                15.9    115 995         19 690  \n",
      "24                10.2    412 807         20 400  \n",
      "25                 8.6    545 209         22 750  \n",
      "26                 8.5    517 709         21 260  \n",
      "27                 8.2    599 668         21 790  \n",
      "28                 8.9    431 443         22 180  \n",
      "29                 7.4    917 179         21 970  \n",
      "30                 8.6    751 457         20 240  \n",
      "31                 7.2  1 415 757         23 380  \n",
      "32                10.4    191 819         20 950  \n",
      "33                 6.3  1 636 391         22 640  \n",
      "34                 7.1  1 188 973         20 640  \n",
      "35                 6.5  1 088 855         22 460  \n",
      "36                13.3    218 707         20 370  \n",
      "37                 8.6    612 119         22 000  \n",
      "38                 7.7  1 277 513         23 030  \n",
      "39                 9.8    258 798         21 880  \n",
      "40                 6.6    418 122         21 620  \n",
      "41                10.9    329 357         21 530  \n",
      "42                10.3    768 508         20 930  \n",
      "43                12.4    227 489         21 000  \n",
      "44                 5.6  1 445 171         22 910  \n",
      "45                 9.1    682 304         22 050  \n",
      "46                10.7    174 670         20 940  \n",
      "47                11.7    330 844         20 110  \n",
      "48                10.2     76 633         20 550  \n",
      "49                 6.6    820 713         21 300  \n",
      "50                 8.3    495 093         21 250  \n",
      "51                 9.2    566 659         21 750  \n",
      "52                11.9    171 798         20 420  \n",
      "53                 9.2    306 538         21 000  \n",
      "54                 9.3    732 590         21 790  \n",
      "55                12.2    183 001         20 830  \n",
      "56                 7.1    764 161         21 830  \n",
      "57                 9.2  1 049 155         21 820  \n",
      "58                  14    202 670         20 510  \n",
      "59                 7.7  2 607 746         20 290  \n",
      "60                 7.1    829 699         22 250  \n",
      "61                11.1    278 475         20 350  \n",
      "62                 7.5  1 462 167         19 560  \n",
      "63                10.5    661 852         22 100  \n",
      "64                 7.9    687 240         22 110  \n",
      "65                 9.5    229 788         20 720  \n",
      "66                 8.2    482 765         19 610  \n",
      "67                 7.9  1 148 073         22 860  \n",
      "68                   9    767 842         23 300  \n",
      "69                10.7    234 601         20 840  \n",
      "70                10.2    551 063         21 000  \n",
      "71                 9.1    566 993         21 210  \n",
      "72                   6    439 750         23 210  \n",
      "73                 6.5    835 206         26 540  \n",
      "74                 9.2  2 145 906         28 570  \n",
      "75                 8.1  1 254 739         21 300  \n",
      "76                 6.8  1 428 636         23 590  \n",
      "77                 6.4  1 449 723         26 970  \n",
      "78                 9.2    374 481         21 080  \n",
      "79                 8.4    568 748         20 540  \n",
      "80                 9.1    391 066         20 650  \n",
      "81                 9.7    262 316         20 380  \n",
      "82                   6  1 085 189         21 830  \n",
      "83                10.2    561 941         20 140  \n",
      "84                   5    692 705         21 550  \n",
      "85                 9.5    439 332         21 140  \n",
      "86                 9.7    372 123         21 100  \n",
      "87                11.3    362 397         20 420  \n",
      "88                  12    334 156         20 920  \n",
      "89                10.7    140 120         22 050  \n",
      "90                 6.6  1 306 118         24 010  \n",
      "91                 6.5  1 626 213         28 310  \n",
      "92                 6.1  1 655 422         18 070  \n",
      "93                 5.8  1 407 972         23 060  \n",
      "94                   6  1 251 804         22 220  \n"
     ]
    }
   ],
   "source": [
    "# Fusion des tables\n",
    "table_donnees = pd.merge(table_conso, table_temperatures, on=['code_departement', 'nom_departement'])\n",
    "table_donnees = pd.merge(table_donnees, table_logements_vacants, on=['code_departement', 'nom_departement'])\n",
    "table_donnees = pd.merge(table_donnees, table_population, on=['code_departement', 'nom_departement'])\n",
    "table_donnees = pd.merge(table_donnees, table_niveau_vie, on='nom_departement')\n",
    "\n",
    "# Affichage du DataFrame fusionné\n",
    "print(table_donnees)"
   ]
  },
  {
   "cell_type": "markdown",
   "metadata": {},
   "source": [
    "## Exploration Initiale"
   ]
  },
  {
   "cell_type": "markdown",
   "metadata": {},
   "source": [
    "# 3. Nettoyage et Préparation des Données"
   ]
  },
  {
   "cell_type": "markdown",
   "metadata": {},
   "source": [
    "## Nettoyage des Données"
   ]
  },
  {
   "cell_type": "markdown",
   "metadata": {},
   "source": [
    "## Formatage et Normalisation"
   ]
  },
  {
   "cell_type": "markdown",
   "metadata": {},
   "source": [
    "# 4. Analyse Exploratoire des Données (EDA)"
   ]
  },
  {
   "cell_type": "markdown",
   "metadata": {},
   "source": [
    "## Statistiques Descriptives"
   ]
  },
  {
   "cell_type": "markdown",
   "metadata": {},
   "source": [
    "## Visualisations"
   ]
  },
  {
   "cell_type": "markdown",
   "metadata": {},
   "source": [
    "# 5. Analyse et Visualisation par Secteur et par Département"
   ]
  },
  {
   "cell_type": "markdown",
   "metadata": {},
   "source": [
    "## Comparaison par Secteur"
   ]
  },
  {
   "cell_type": "markdown",
   "metadata": {},
   "source": [
    "## Analyse Géographique"
   ]
  },
  {
   "cell_type": "markdown",
   "metadata": {},
   "source": [
    "# 6. Modélisation et Prédictions"
   ]
  },
  {
   "cell_type": "markdown",
   "metadata": {},
   "source": [
    "## Choix des Modèles"
   ]
  },
  {
   "cell_type": "markdown",
   "metadata": {},
   "source": [
    "## Entraînement et Test"
   ]
  },
  {
   "cell_type": "markdown",
   "metadata": {},
   "source": [
    "# 7. Évaluation des Résultats"
   ]
  },
  {
   "cell_type": "markdown",
   "metadata": {},
   "source": [
    "## Interprétation des Modèles"
   ]
  },
  {
   "cell_type": "markdown",
   "metadata": {},
   "source": [
    "## Mesures de Performance "
   ]
  },
  {
   "cell_type": "markdown",
   "metadata": {},
   "source": [
    "# 8. Synthèse et Recommandations"
   ]
  },
  {
   "cell_type": "markdown",
   "metadata": {},
   "source": [
    "## Conclusions Clés "
   ]
  },
  {
   "cell_type": "markdown",
   "metadata": {},
   "source": [
    "## Recommandations"
   ]
  },
  {
   "cell_type": "markdown",
   "metadata": {},
   "source": []
  }
 ],
 "metadata": {
  "kernelspec": {
   "display_name": "Python 3",
   "language": "python",
   "name": "python3"
  },
  "language_info": {
   "codemirror_mode": {
    "name": "ipython",
    "version": 3
   },
   "file_extension": ".py",
   "mimetype": "text/x-python",
   "name": "python",
   "nbconvert_exporter": "python",
   "pygments_lexer": "ipython3",
   "version": "3.10.13"
  }
 },
 "nbformat": 4,
 "nbformat_minor": 2
}
